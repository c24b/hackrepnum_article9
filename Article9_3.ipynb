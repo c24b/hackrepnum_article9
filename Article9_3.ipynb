{
 "cells": [
  {
   "cell_type": "markdown",
   "metadata": {},
   "source": [
    "# Article 9"
   ]
  },
  {
   "cell_type": "code",
   "execution_count": 12,
   "metadata": {
    "collapsed": true
   },
   "outputs": [],
   "source": [
    "#import des datasets\n",
    "import json \n",
    "import pprint\n",
    "import matplotlib.pyplot as plt\n",
    "import numpy as np\n",
    "\n",
    "%matplotlib inline\n",
    "\n",
    "pp = pprint.PrettyPrinter(indent=4, )\n",
    "#On utilisera pp.pprint() pour afficher plus clairement les dictionnaires\n",
    "#et les json"
   ]
  },
  {
   "cell_type": "markdown",
   "metadata": {},
   "source": [
    "## Statistiques simples sur l'article 9\n",
    "### Découverte du dataset"
   ]
  },
  {
   "cell_type": "markdown",
   "metadata": {},
   "source": [
    "Un fichier json avec les donnees relatives a l'article 9 est disponible article9.json\n",
    "\n",
    "    ! Le détail des votes par utilisateurs n'est disponible que dans le fichier **participants.json**\n",
    "\n",
    "Ce fichier représente les données sous forme de dictionnaire: accessible par clé,valeur nous l'avons stocké dans la variable article9\n",
    "\n",
    "La première démarche pour connaîre les données et d'afficher les clés disponibles du dictionnaires\n",
    "\n",
    "Chargeons le fichier article9.json et affichons les clés du dictionnaire:"
   ]
  },
  {
   "cell_type": "code",
   "execution_count": 13,
   "metadata": {
    "collapsed": false
   },
   "outputs": [
    {
     "name": "stdout",
     "output_type": "stream",
     "text": [
      "[   u'subtitle',\n",
      "    u'cat_id',\n",
      "    u'updated_at',\n",
      "    u'sources',\n",
      "    u'arguments_count',\n",
      "    u'versions_count',\n",
      "    u'votes_total',\n",
      "    u'author',\n",
      "    u'article_link',\n",
      "    u'arguments',\n",
      "    u'answer',\n",
      "    u'body',\n",
      "    u'ranking',\n",
      "    u'sources_count',\n",
      "    u'votes_ok',\n",
      "    u'versions',\n",
      "    u'article_id',\n",
      "    u'body_anchors',\n",
      "    u'created_at',\n",
      "    u'title',\n",
      "    u'votes_mitige',\n",
      "    u'body_links',\n",
      "    u'votes_nok']\n"
     ]
    }
   ],
   "source": [
    "with open(\"article9.json\", \"r\") as f:\n",
    "    article9 = json.load(f)\n",
    "    pp.pprint(article9.keys())"
   ]
  },
  {
   "cell_type": "markdown",
   "metadata": {},
   "source": [
    "### Réorganisation de l'article9 en ref_article9\n",
    "\n",
    "Nous allons réorganiser le dictionnaire article9 (initialement stocké en json dans article9)\n",
    "pour plus de clareté dans une variable **ref_article9** (aussi un dictionnaire)"
   ]
  },
  {
   "cell_type": "code",
   "execution_count": 34,
   "metadata": {
    "collapsed": false
   },
   "outputs": [],
   "source": [
    "import json, pprint\n",
    "ref_article9 = {\"date\": {}, \n",
    "                \"stats\": \n",
    "                    {\"votes\":{\"pour\":0, \"contre\":0, \"neutre\":0,\"total\": 0}, \n",
    "                     \"arguments\":{\"pour\":0, \"contre\": 0, \"total\":0}, \n",
    "                     \"sources\":{\"pour\":0, \"total\":0},\n",
    "                     \"versions\": {\"total\":0}\n",
    "                    }, \n",
    "                \"details\": \n",
    "                    {\"votes\":[], \n",
    "                     \"arguments\":[], \n",
    "                     \"sources\":[],\n",
    "                     \"versions\":[]}\n",
    "               }\n",
    "\n",
    "#pour rappel\n",
    "#pp.pprint(sorted(article9))\n",
    "def build_ref_article9(ref_article9, article9):\n",
    "    #la structure de ref_article9\n",
    "    \n",
    "    #Nous allons téléverser les valeurs de article9 dans ref_article9\n",
    "    for k,v in sorted(article9.items()):\n",
    "        if k == \"article_link\":\n",
    "            #dans ref_article9 l'url de l'article s'appelera 'link'\n",
    "            #et non plus 'article_link'\n",
    "            ref_article9[\"link\"] = v\n",
    "\n",
    "        #match with date elemnts\n",
    "        elif k.endswith(\"_at\"):\n",
    "            ref_article9[\"date\"][k] = v\n",
    "\n",
    "        elif k.startswith(\"votes_\"):\n",
    "            #un petit raccourci\n",
    "            les_votes = ref_article9[\"stats\"][\"votes\"]\n",
    "            if k == \"votes_nok\":\n",
    "                les_votes[\"contre\"] = v\n",
    "            elif k == \"votes_ok\":\n",
    "                les_votes[\"pour\"] = v\n",
    "            elif k == \"votes_mitige\":\n",
    "                les_votes[\"neutre\"] = v\n",
    "            else:\n",
    "                les_votes[\"total\"] = v\n",
    "\n",
    "        elif k.startswith(\"arguments_\"):\n",
    "            #un petit raccourci\n",
    "            les_arguments = ref_article9[\"stats\"][\"arguments\"]\n",
    "            if k == \"arguments_yes_count\":\n",
    "                les_arguments[\"pour\"] = v\n",
    "            elif k == \"arguments_no_count\":\n",
    "                les_arguments[\"contre\"] = v\n",
    "            else:\n",
    "                les_arguments[\"total\"] = v\n",
    "\n",
    "\n",
    "        elif k.startswith(\"sources_\"):\n",
    "            #un petit raccourci\n",
    "            les_sources = ref_article9[\"stats\"][\"sources\"]\n",
    "            les_sources[\"total\"] = v\n",
    "            #on a pas encore les détails des votes sur les sources\n",
    "            #on l'instancie à 0 pour retrouver ça plus tard dans les votes\n",
    "            les_sources[\"pour\"] = 0\n",
    "        elif k.startswith(\"versions_\"):\n",
    "            ref_article9[\"stats\"][\"versions\"] = {\"total\":v}\n",
    "        elif k in [\"versions\", \"sources\", \"arguments\", \"votes\"]:\n",
    "                ref_article9[\"details\"][k] = v\n",
    "        else:\n",
    "            #les autres données contextuelles seront accessibles mais via l'article9 directement\n",
    "             pass\n",
    "    return ref_article9\n",
    "ref_article9 = build_ref_article9(ref_article9, article9)\n"
   ]
  },
  {
   "cell_type": "markdown",
   "metadata": {},
   "source": [
    "* On vérifie les valeurs de **ref_article9**:"
   ]
  },
  {
   "cell_type": "code",
   "execution_count": 35,
   "metadata": {
    "collapsed": false
   },
   "outputs": [
    {
     "name": "stdout",
     "output_type": "stream",
     "text": [
      "les clés\n",
      "['date', 'details', 'link', 'stats']\n",
      "les stats\n",
      "{   'arguments': {   'contre': 0, 'pour': 0, 'total': 132},\n",
      "    'sources': {   'pour': 0, 'total': 22},\n",
      "    'versions': {   'total': 108},\n",
      "    'votes': {   'contre': 1732, 'neutre': 282, 'pour': 1320, 'total': 3334}}\n",
      "les listes des infos détaillées:\n",
      "['sources', 'votes', 'arguments', 'versions']\n"
     ]
    }
   ],
   "source": [
    "print \"les clés\"\n",
    "pp.pprint(sorted(ref_article9.keys()))\n",
    "\n",
    "print \"les stats\"\n",
    "pp.pprint(ref_article9[\"stats\"])\n",
    "\n",
    "print \"les listes des infos détaillées:\"\n",
    "pp.pprint(ref_article9[\"details\"].keys())"
   ]
  },
  {
   "cell_type": "markdown",
   "metadata": {},
   "source": [
    "* La répartition simple des types de participations pour l'article9:"
   ]
  },
  {
   "cell_type": "code",
   "execution_count": 36,
   "metadata": {
    "collapsed": false
   },
   "outputs": [
    {
     "name": "stdout",
     "output_type": "stream",
     "text": [
      "{   'arguments': 132, 'sources': 22, 'versions': 108, 'votes': 3334}\n"
     ]
    }
   ],
   "source": [
    "\n",
    "stats_article9 = {k: v[\"total\"] for k,v in ref_article9[\"stats\"].items()}\n",
    "pp.pprint(stats_article9)"
   ]
  },
  {
   "cell_type": "markdown",
   "metadata": {},
   "source": [
    "L'article 9 compte donc:\n",
    "* 132 arguments,\n",
    "* 22 sources, \n",
    "* 3334 votes\n",
    "* 108 versions. "
   ]
  },
  {
   "cell_type": "code",
   "execution_count": 37,
   "metadata": {
    "collapsed": false
   },
   "outputs": [
    {
     "data": {
      "image/png": "[encoded data removed]",
      "text/plain": [
       "<matplotlib.figure.Figure at 0x7ffb52d11990>"
      ]
     },
     "metadata": {},
     "output_type": "display_data"
    }
   ],
   "source": [
    "plt.bar(range(len(stats_article9)), stats_article9.values(), align='center')\n",
    "plt.xticks(range(len(stats_article9)), stats_article9.keys())\n",
    "plt.show()"
   ]
  },
  {
   "cell_type": "code",
   "execution_count": 40,
   "metadata": {
    "collapsed": true
   },
   "outputs": [],
   "source": [
    "#On va sauvegarder ce fichier pour plus de sureté\n",
    "with open(\"version_originale.json\", \"w\") as f:\n",
    "    data = json.dumps(ref_article9, indent=4)\n",
    "    f.write(data)\n",
    "    "
   ]
  },
  {
   "cell_type": "markdown",
   "metadata": {},
   "source": [
    "Dans article9_ref on trouve les détails des versions, des arguments et des sources.\n",
    "Le détail des votes n'est pas encore disponible. On le trouve dans les participants."
   ]
  },
  {
   "cell_type": "markdown",
   "metadata": {},
   "source": [
    "Le nombre de votes total correspond aux votes sur l'article original et le nombre d'arguments aussi et **non pas sur l'ensemble des versions de l'article**\n",
    "\n",
    "Nous allons donc faire la comparaison avec l'ensemble des votes sur les différentes versions de l'article9"
   ]
  },
  {
   "cell_type": "markdown",
   "metadata": {},
   "source": [
    "#### Repartition des votes pour l'article 9 (version originale)"
   ]
  },
  {
   "cell_type": "code",
   "execution_count": 41,
   "metadata": {
    "collapsed": false
   },
   "outputs": [
    {
     "data": {
      "image/png": "[encoded data removed]",
      "text/plain": [
       "<matplotlib.figure.Figure at 0x7ffb52b85390>"
      ]
     },
     "metadata": {},
     "output_type": "display_data"
    },
    {
     "data": {
      "text/plain": [
       "<matplotlib.figure.Figure at 0x7ffb52d5e890>"
      ]
     },
     "metadata": {},
     "output_type": "display_data"
    }
   ],
   "source": [
    "from collections import OrderedDict\n",
    "#On ordonne le dictionnaire en fonction des clés par ordre alphabetique\n",
    "stats_votes_article9 = {k: v for k,v in ref_article9[\"stats\"][\"votes\"].items() if k !=\"total\"}\n",
    "stats_votes = OrderedDict(sorted(stats_votes_article9.items()))\n",
    "#Ce qui permet d'y mettre les bonnes couleurs\n",
    "colors = [\"red\", \"blue\", \"green\"]\n",
    "legend = [\" \".join([k,\":\",str(v),\"votes\"]) for k, v in stats_votes_article9.items()]\n",
    "import matplotlib.pyplot as plt\n",
    "\n",
    "\n",
    "plt.pie(stats_votes.values(), labels=legend, colors=colors,shadow=True, startangle=90)\n",
    "# Set aspect ratio to be equal so that pie is drawn as a circle.\n",
    "plt.axis('equal')\n",
    "#plt.legend(legend) \n",
    "fig = plt.figure()\n",
    "#ax = fig.gca()"
   ]
  },
  {
   "cell_type": "markdown",
   "metadata": {},
   "source": [
    "## Les 108 versions de l'article 9\n",
    "### Découverte du dataset\n",
    "Elles sont contenues dans ```ref_article9[\"details\"][\"versions\"]```"
   ]
  },
  {
   "cell_type": "code",
   "execution_count": 42,
   "metadata": {
    "collapsed": false
   },
   "outputs": [
    {
     "name": "stdout",
     "output_type": "stream",
     "text": [
      "[   u'after',\n",
      "    u'arguments_count',\n",
      "    u'arguments_no_count',\n",
      "    u'arguments_yes_count',\n",
      "    u'article_id',\n",
      "    u'author',\n",
      "    u'before',\n",
      "    u'comment',\n",
      "    u'created_at',\n",
      "    u'id',\n",
      "    u'link',\n",
      "    u'slug',\n",
      "    u'title',\n",
      "    u'updated_at',\n",
      "    u'votes_mitige',\n",
      "    u'votes_nok',\n",
      "    u'votes_total']\n"
     ]
    }
   ],
   "source": [
    "#Découverte des versions contenues dans le datasets \n",
    "for version in ref_article9[\"details\"][\"versions\"]:\n",
    "    pp.pprint(sorted(version.keys()))\n",
    "    break"
   ]
  },
  {
   "cell_type": "markdown",
   "metadata": {},
   "source": [
    "#### Création d'un référentiel des versions de l'article9\n",
    "Nous allons réorganiser le contenu des references de versions \n",
    "\n",
    "pour rappatrier ensuite les votes qui contient les données détaillées\n",
    "\n",
    "dans un dictionnaire dont l'id unique sera le slug de version \n",
    "\n",
    "(une chaine de caractère qui correspond au titre de la version présente dans l'url)\n",
    "\n",
    "le dictionnaire **versions_d** sera a peu près organisé comme le dictionnaire **ref_article9**\n",
    "\n",
    "Pour rappel dans le dictionnaire de l'article9 ref_article9 toutes les versions sont stockées dans une liste\n",
    "```\n",
    "ref_article9[\"details\"][\"versions\"]\n",
    "```\n",
    "Verifions que nous avons bien les 108 versions complémentaires"
   ]
  },
  {
   "cell_type": "code",
   "execution_count": 43,
   "metadata": {
    "collapsed": false
   },
   "outputs": [
    {
     "name": "stdout",
     "output_type": "stream",
     "text": [
      "108\n"
     ]
    }
   ],
   "source": [
    "pp.pprint(len(ref_article9[\"details\"][\"versions\"]))"
   ]
  },
  {
   "cell_type": "markdown",
   "metadata": {},
   "source": [
    "### Création d'un dataset Versions\n",
    "On va donc créer un dictionnaire qui contiendra les 108 versions de l'article\n",
    "avec comme clé d'entrée le slug et on ajoutera la version originale de l'article\n"
   ]
  },
  {
   "cell_type": "code",
   "execution_count": 96,
   "metadata": {
    "collapsed": false
   },
   "outputs": [],
   "source": [
    "def build_versions(ref_article9):\n",
    "    versions_d = {}\n",
    "    versions = ref_article9[\"details\"][\"versions\"]\n",
    "    for vers in versions:\n",
    "        slug = vers[\"slug\"]\n",
    "        #ici on prepare la structure de ce qui va être reorganisé\n",
    "        versions_d[slug] = {u\"date\":{}, \n",
    "                              u\"stats\":{\n",
    "                                    \"arguments\":\n",
    "                                            {\"pour\":0, \n",
    "                                             \"contre\":0, \n",
    "                                             \"total\":0},\n",
    "                                    \"votes\": \n",
    "                                            {\"pour\":0, \n",
    "                                             \"contre\":0, \n",
    "                                             \"neutre\":0, \n",
    "                                             \"total\":0},\n",
    "                                    \"sources\": \n",
    "                                            {\"pour\":0, \n",
    "                                             \"total\":0},\n",
    "\n",
    "                                        },\n",
    "                              u\"details\":{\n",
    "                                    \"arguments\":[],\n",
    "                                    \"votes\":[],\n",
    "                                    \"sources\":[],\n",
    "                                },\n",
    "                           u\"text\":{} \n",
    "                           }\n",
    "        #raccourcis\n",
    "        stats = versions_d[slug][\"stats\"]\n",
    "        stats_votes = stats[\"votes\"]\n",
    "        stats_args = stats[\"arguments\"]\n",
    "        stats_sources = stats[\"sources\"]\n",
    "        details = versions_d[slug][\"details\"]\n",
    "        for k,v in vers.items():\n",
    "            if k.endswith(\"at\"):\n",
    "                versions_d[slug][\"date\"][k] = v\n",
    "            #on met les textes de la version dans text\n",
    "            elif k in [\"before\", \"after\", \"comment\"]:\n",
    "                versions_d[slug][\"text\"][k] = v\n",
    "            elif k.startswith(\"votes_\"):\n",
    "                if \"mitige\" in k:\n",
    "                    stats_votes[\"neutre\"] = v\n",
    "                elif \"nok\" in k:\n",
    "                    stats_votes[\"contre\"] = v\n",
    "                elif \"ok\" in k:\n",
    "                    stats_votes[\"pour\"] = v\n",
    "                else:\n",
    "                    stats_votes[\"total\"] = v\n",
    "\n",
    "\n",
    "            elif k.startswith(\"arguments_\"):\n",
    "                if \"yes\" in k:\n",
    "                    stats_args[\"pour\"] = v\n",
    "                elif \"no\" in k:\n",
    "                    stats_args[\"contre\"] = v\n",
    "                else:\n",
    "                    stats_args[\"total\"] = v\n",
    "                del k\n",
    "            elif k.startswith(\"versions_\"):\n",
    "                del k\n",
    "            else:\n",
    "                versions_d[vers[\"slug\"]][k] = v\n",
    "    return versions_d\n",
    "\n",
    "versions_d = build_versions(ref_article9)"
   ]
  },
  {
   "cell_type": "code",
   "execution_count": 54,
   "metadata": {
    "collapsed": false
   },
   "outputs": [
    {
     "name": "stdout",
     "output_type": "stream",
     "text": [
      "les clés\n",
      "[   u'stats',\n",
      "    u'author',\n",
      "    u'text',\n",
      "    u'title',\n",
      "    u'slug',\n",
      "    u'link',\n",
      "    u'details',\n",
      "    u'date',\n",
      "    u'article_id',\n",
      "    u'id']\n",
      "les stats\n",
      "{   'arguments': {   'contre': 0, 'pour': 0, 'total': 0},\n",
      "    'sources': {   'pour': 0, 'total': 0},\n",
      "    'votes': {   'contre': 3, 'neutre': 0, 'pour': 0, 'total': 7}}\n",
      "les infos détaillées\n",
      "['sources', 'votes', 'arguments']\n"
     ]
    }
   ],
   "source": [
    " #On verifie le résultat du formatage\n",
    "for k,item in versions_d.items():\n",
    "    print \"les clés\"\n",
    "    pp.pprint(item.keys())\n",
    "    #notamment celui des stats\n",
    "    print \"les stats\"\n",
    "    pp.pprint(item[u'stats'])\n",
    "    print \"les infos détaillées\"\n",
    "    pp.pprint(item[u'details'].keys())\n",
    "    break"
   ]
  },
  {
   "cell_type": "code",
   "execution_count": 97,
   "metadata": {
    "collapsed": false
   },
   "outputs": [],
   "source": [
    "#bizarrerie les stats des votes ne contiennent pas les votes pour\n",
    "#on va donc recalculer les votes pour\n",
    "def clean_versions(versions_d):\n",
    "    for k,item in versions_d.items():\n",
    "        stats_votes = item[u'stats']['votes']\n",
    "        #print stats_votes\n",
    "        stats_votes[\"pour\"] = stats_votes[\"total\"] - (stats_votes[\"neutre\"]+stats_votes[\"contre\"])\n",
    "        #print \"correction\", stats_votes\n",
    "    return versions_d\n",
    "versions_d = clean_versions(versions_d) "
   ]
  },
  {
   "cell_type": "code",
   "execution_count": 57,
   "metadata": {
    "collapsed": false
   },
   "outputs": [
    {
     "name": "stdout",
     "output_type": "stream",
     "text": [
      "{'neutre': 0, 'total': 7, 'contre': 3, 'pour': 4}\n"
     ]
    }
   ],
   "source": [
    "#on verifie que la correction a bien été prise en compte\n",
    "for k,item in versions_d.items():\n",
    "    stats_votes = item[u'stats']['votes']\n",
    "    print stats_votes\n",
    "    break"
   ]
  },
  {
   "cell_type": "markdown",
   "metadata": {},
   "source": [
    "* on vérifie que nous avons bien toutes les versions dans versions_d"
   ]
  },
  {
   "cell_type": "code",
   "execution_count": 58,
   "metadata": {
    "collapsed": false
   },
   "outputs": [
    {
     "name": "stdout",
     "output_type": "stream",
     "text": [
      "108 versions\n"
     ]
    }
   ],
   "source": [
    "print len(versions_d), \"versions\""
   ]
  },
  {
   "cell_type": "code",
   "execution_count": null,
   "metadata": {
    "collapsed": true
   },
   "outputs": [],
   "source": [
    "On enregistre les versions differentes dans un fichier versions108.json\n",
    "with open(\"versions108.json\", \"w\") as f:\n",
    "    data = json.dumps(versions_d, indent=4)\n",
    "    f.write(data)\n",
    "    "
   ]
  },
  {
   "cell_type": "markdown",
   "metadata": {},
   "source": [
    "### Ajout de la version originale \n",
    "\n",
    "Nous allons ajouter la version originale à nos versions\n",
    "en s'assurant que les données sont formattées de la meme manière"
   ]
  },
  {
   "cell_type": "code",
   "execution_count": 59,
   "metadata": {
    "collapsed": false
   },
   "outputs": [
    {
     "name": "stdout",
     "output_type": "stream",
     "text": [
      "[   u'article_id',\n",
      "    u'author',\n",
      "    u'date',\n",
      "    u'details',\n",
      "    u'id',\n",
      "    u'link',\n",
      "    u'slug',\n",
      "    u'stats',\n",
      "    u'text',\n",
      "    u'title']\n",
      "{   'arguments': {   'contre': 4, 'pour': 3, 'total': 7},\n",
      "    'sources': {   'pour': 0, 'total': 0},\n",
      "    'votes': {   'contre': 2, 'neutre': 6, 'pour': 79, 'total': 87}}\n"
     ]
    }
   ],
   "source": [
    "#pour rappel\n",
    "pp.pprint(sorted(versions_d[\"ne-pas-oublier-les-sets-de-donnees-lies-a-un-article\"].keys()))\n",
    "pp.pprint(versions_d[\"ne-pas-oublier-les-sets-de-donnees-lies-a-un-article\"][\"stats\"])"
   ]
  },
  {
   "cell_type": "code",
   "execution_count": 60,
   "metadata": {
    "collapsed": false
   },
   "outputs": [
    {
     "name": "stdout",
     "output_type": "stream",
     "text": [
      "['date', 'details', 'link', 'stats']\n",
      "{   'arguments': {   'contre': 0, 'pour': 0, 'total': 132},\n",
      "    'sources': {   'pour': 0, 'total': 22},\n",
      "    'versions': {   'total': 108},\n",
      "    'votes': {   'contre': 1732, 'neutre': 282, 'pour': 1320, 'total': 3334}}\n"
     ]
    }
   ],
   "source": [
    "pp.pprint(sorted(ref_article9.keys()))\n",
    "pp.pprint(ref_article9[\"stats\"])\n"
   ]
  },
  {
   "cell_type": "code",
   "execution_count": 98,
   "metadata": {
    "collapsed": false
   },
   "outputs": [
    {
     "name": "stdout",
     "output_type": "stream",
     "text": [
      "{   'arguments': {   'contre': 0, 'pour': 0, 'total': 132},\n",
      "    'sources': {   'pour': 0, 'total': 22},\n",
      "    'versions': {   'total': 108},\n",
      "    'votes': {   'contre': 1732, 'neutre': 282, 'pour': 1320, 'total': 3334}}\n"
     ]
    }
   ],
   "source": [
    "def build_version_originale():\n",
    "    version_originale = {\n",
    "                        \"slug\":\"article-9-acces-aux-travaux-de-la-recherche-financee-par-des-fonds-publics\",\n",
    "                        \"author\": \"gouvernement\",\n",
    "                        \"link\":\"https://www.republique-numerique.fr/projects/projet-de-loi-numerique/consultation/consultation/opinions/section-2-travaux-de-recherche-et-de-statistique/article-9-acces-aux-travaux-de-la-recherche-financee-par-des-fonds-publics\",\n",
    "                        \"article_id\": 69,\n",
    "                        \"id\":0,\n",
    "                        \"text\":{}, \n",
    "                        \"date\":{}, \n",
    "                        \"details\":{\"arguments\":[], \"votes\":[], \"sources\":[]},\n",
    "                        \"stats\":{},\n",
    "                        }\n",
    "\n",
    "\n",
    "    for k, v in ref_article9.items():\n",
    "        if k in [\"article_title\", \"id\"]:\n",
    "            version_original[k] = v\n",
    "        if k.startswith(\"body\") or k == \"answer\" or k ==\"subtitle\":\n",
    "            version_originale[\"text\"][k] = v\n",
    "        elif k ==\"date\":\n",
    "            version_originale[\"date\"] = v\n",
    "        elif k == \"stats\":\n",
    "            version_originale[k] = v\n",
    "        elif k == \"details\":\n",
    "            for k2, v2 in v.items():\n",
    "                if k2 != \"versions\":\n",
    "                    version_originale[\"details\"][k2] = v2\n",
    "\n",
    "        else:\n",
    "            pass\n",
    "    return version_originale\n",
    "vo = build_version_originale()\n",
    "pp.pprint(vo[\"stats\"])"
   ]
  },
  {
   "cell_type": "code",
   "execution_count": 99,
   "metadata": {
    "collapsed": false
   },
   "outputs": [],
   "source": [
    "#On insere original dans le dictionnaire des versions_d\n",
    "\n",
    "versions_d[\"original\"] = vo"
   ]
  },
  {
   "cell_type": "markdown",
   "metadata": {},
   "source": [
    "On a bien 109 versions soit 108 versions + 1 version originale\n",
    "#vérifier le nombre de versions contenues dans le ref versions_d"
   ]
  },
  {
   "cell_type": "code",
   "execution_count": 100,
   "metadata": {
    "collapsed": false
   },
   "outputs": [
    {
     "name": "stdout",
     "output_type": "stream",
     "text": [
      "109\n"
     ]
    }
   ],
   "source": [
    "print len(versions_d)\n"
   ]
  },
  {
   "cell_type": "markdown",
   "metadata": {},
   "source": [
    "Afficher les versions"
   ]
  },
  {
   "cell_type": "code",
   "execution_count": 65,
   "metadata": {
    "collapsed": false
   },
   "outputs": [
    {
     "name": "stdout",
     "output_type": "stream",
     "text": [
      "['article_id', 'author', 'date', 'details', 'id', 'link', 'slug', 'stats', 'text']\n",
      "[u'article_id', u'author', u'date', u'details', u'id', u'link', u'slug', u'stats', u'text', u'title']\n"
     ]
    }
   ],
   "source": [
    "#print versions[\"attention-a-la-qualite-et-a-la-securite-des-textes-scientifiques-qui-doivent-etre-valides-en-amont-promus-et-enrichis-ensuite-par-le-biais-de-bases-de-donnees\"]\n",
    "print(sorted(versions_d[\"original\"].keys()))\n",
    "print(sorted(versions_d[\"attention-a-la-qualite-et-a-la-securite-des-textes-scientifiques-qui-doivent-etre-valides-en-amont-promus-et-enrichis-ensuite-par-le-biais-de-bases-de-donnees\"].keys()))"
   ]
  },
  {
   "cell_type": "markdown",
   "metadata": {},
   "source": [
    "Si maintenant on regarde les statistiques de votes sur l'article 9 dans son ensemble \n",
    "\n",
    "c'est à dire pour les 109 versions on va voir que le nombre de votes d'arguments est bien supérieur \n",
    "\n",
    "à ce qu'on trouve dans les stats de l'article original\n"
   ]
  },
  {
   "cell_type": "code",
   "execution_count": 74,
   "metadata": {
    "collapsed": false
   },
   "outputs": [],
   "source": [
    "#Ecrire le dataset\n",
    "with open(\"versions_article9.json\", \"w\") as f:\n",
    "    data = json.dumps(versions_d, indent=4)\n",
    "    f.write(unicode(data))"
   ]
  },
  {
   "cell_type": "markdown",
   "metadata": {},
   "source": [
    "#### Différences entre les versions et les statistiques de l'article 9\n",
    "\n",
    "On va faire la somme des votes pour chaque version contenues dans versions_d et comparer avec les votes de la versions originale de même que pour les arguments\n",
    "Les sources en revanche ont été ajoutées à la V0\n",
    "\n",
    "##### Les votes:"
   ]
  },
  {
   "cell_type": "code",
   "execution_count": 75,
   "metadata": {
    "collapsed": false
   },
   "outputs": [
    {
     "name": "stdout",
     "output_type": "stream",
     "text": [
      "12851 votes sur l'ensemble 3334 votes sur la v0 9517 votes sur les autres versions\n"
     ]
    }
   ],
   "source": [
    "full_votes = sum([v[\"stats\"][\"votes\"][\"total\"] for k,v in versions_d.items()])\n",
    "vo_votes = ref_article9[\"stats\"][\"votes\"][\"total\"]\n",
    "diff_votes = full_votes - vo_votes\n",
    "print full_votes,\"votes sur l'ensemble\", vo_votes,\"votes sur la v0\", diff_votes, \"votes sur les autres versions\""
   ]
  },
  {
   "cell_type": "markdown",
   "metadata": {},
   "source": [
    "##### Les arguments"
   ]
  },
  {
   "cell_type": "code",
   "execution_count": 77,
   "metadata": {
    "collapsed": false
   },
   "outputs": [
    {
     "name": "stdout",
     "output_type": "stream",
     "text": [
      "481 arguments emis au total\n",
      "132 arguments sur la V0\n",
      "349 arguments de différence\n"
     ]
    }
   ],
   "source": [
    "full_arguments = sum([v[\"stats\"][\"arguments\"][\"total\"] for k,v in versions_d.items()])\n",
    "V0_arguments = ref_article9[\"stats\"][\"arguments\"][\"total\"]\n",
    "diff_args = full_arguments - V0_arguments\n",
    "print full_arguments, \"arguments emis au total\"\n",
    "print V0_arguments, \"arguments sur la V0\"\n",
    "print diff_args, \"arguments de différence\"\n"
   ]
  },
  {
   "cell_type": "markdown",
   "metadata": {},
   "source": [
    "#### Différence dans la répartition des votes par versions"
   ]
  },
  {
   "cell_type": "code",
   "execution_count": 79,
   "metadata": {
    "collapsed": false
   },
   "outputs": [
    {
     "data": {
      "image/png": "[encoded data removed]",
      "text/plain": [
       "<matplotlib.figure.Figure at 0x7ffb52b3e890>"
      ]
     },
     "metadata": {},
     "output_type": "display_data"
    },
    {
     "data": {
      "text/plain": [
       "<matplotlib.figure.Figure at 0x7ffb52bc8490>"
      ]
     },
     "metadata": {},
     "output_type": "display_data"
    }
   ],
   "source": [
    "versions_votes_stats = {\"pour\":[], \"contre\":[], \"neutre\":[]}\n",
    "for slug, version in versions_d.items():\n",
    "    stats_v = version[\"stats\"][\"votes\"]\n",
    "    if slug != \"original\":\n",
    "        for pos in [\"pour\", \"contre\", \"neutre\"]:\n",
    "            versions_votes_stats[pos].append(stats_v[pos])\n",
    "#on a donc un dictionnaire qui contient des listes d'opinons de votes par version\n",
    "#On compile le tout\n",
    "versions_votes_stats = {k:sum(v) for k,v in versions_votes_stats.items()}\n",
    "#On ordonne le dictionnaire en fonction des clés par ordre alphabetique\n",
    "versions_votes_stats = OrderedDict(sorted(versions_votes_stats.items()))\n",
    "#print versions_votes_stats\n",
    "#Ce qui permet d'y mettre les bonnes couleurs\n",
    "colors = [\"red\", \"blue\", \"green\"]\n",
    "legend = [\" \".join([k,\":\",str(v),\"votes\"]) for k, v in versions_votes_stats.items()]\n",
    "import matplotlib.pyplot as plt\n",
    "\n",
    "\n",
    "plt.pie(versions_votes_stats.values(), labels=legend, colors=colors,shadow=True, startangle=90)\n",
    "# Set aspect ratio to be equal so that pie is drawn as a circle.\n",
    "\n",
    "plt.axis('equal')\n",
    "#plt.legend(legend) \n",
    "fig = plt.figure()\n"
   ]
  },
  {
   "cell_type": "code",
   "execution_count": 518,
   "metadata": {
    "collapsed": true
   },
   "outputs": [],
   "source": [
    "#### A comparer avec la répartition des votes sur la version originale"
   ]
  },
  {
   "cell_type": "code",
   "execution_count": 81,
   "metadata": {
    "collapsed": false
   },
   "outputs": [
    {
     "data": {
      "image/png": "[encoded data removed]",
      "text/plain": [
       "<matplotlib.figure.Figure at 0x7ffb52d490d0>"
      ]
     },
     "metadata": {},
     "output_type": "display_data"
    },
    {
     "data": {
      "text/plain": [
       "<matplotlib.figure.Figure at 0x7ffb52ab6610>"
      ]
     },
     "metadata": {},
     "output_type": "display_data"
    }
   ],
   "source": [
    "stats_votes = {k:v for k,v in ref_article9[\"stats\"][\"votes\"].items() if k!=\"total\"}\n",
    "\n",
    "#On ordonne le dictionnaire en fonction des clés par ordre alphabetique\n",
    "stats_votes = OrderedDict(sorted(stats_votes.items()))\n",
    "#Ce qui permet d'y mettre les bonnes couleurs\n",
    "colors = [\"red\", \"blue\", \"green\"]\n",
    "legend = [\" \".join([k,\":\",str(v),\"votes\"]) for k, v in stats_votes.items()]\n",
    "import matplotlib.pyplot as plt\n",
    "\n",
    "\n",
    "plt.pie(stats_votes.values(), labels=legend, colors=colors,shadow=True, startangle=90)\n",
    "# Set aspect ratio to be equal so that pie is drawn as a circle.\n",
    "plt.axis('equal')\n",
    "#plt.legend(legend) \n",
    "fig = plt.figure()\n",
    "#ax = fig.gca()"
   ]
  },
  {
   "cell_type": "markdown",
   "metadata": {},
   "source": [
    "### Les votes\n",
    "\n",
    "Le détails des votes est contenu dans le fichier participants.json \n",
    "\n",
    "mais ils sont tous mélangés: \n",
    "* les votes sur l'article, \n",
    "* les votes sur les sources \n",
    "* les votes sur les arguments\n",
    "* les votes sur la version\n",
    "* les votes sur un argument d'une version\n",
    "* les votes sur les sources d'une version ?\n",
    "\n",
    "On va passer en revue tous les votes des participants et trouver ceux qui correspondent à l'article qui nous intéresse en filtrant sur le nom de l'article contenu dans le lien et construire ainsi un référentiel de votes\n",
    "ainsi qu'un référentiel d'électeurs pour l'article 9 "
   ]
  },
  {
   "cell_type": "code",
   "execution_count": 82,
   "metadata": {
    "collapsed": false
   },
   "outputs": [
    {
     "name": "stdout",
     "output_type": "stream",
     "text": [
      "21329 participants sur l'ensemble des articles\n"
     ]
    }
   ],
   "source": [
    "#On charge le fichiers participants qui contient toutes les actions de chaque participant\n",
    "#Ici on ne s'intéresse qu'aux votes\n",
    "#qui sont détaillés par participants\n",
    "with open(\"participants.json\", \"r\") as f:\n",
    "    data = json.load(f)\n",
    "    participants = data[\"participants\"]\n",
    "#Verifions le nombre de participants\n",
    "print len(participants), \"participants sur l'ensemble des articles\""
   ]
  },
  {
   "cell_type": "code",
   "execution_count": 83,
   "metadata": {
    "collapsed": false
   },
   "outputs": [],
   "source": [
    "#versions_d contient toutes les versions de l'article y compris l'original\n",
    "#participants contients tous les votes de tous les articles\n",
    "\n",
    "#Nous allons constituer un dictionnaire qui ne contient que les votes sur l'article9\n",
    "#ainsi qu'un dictionnaire qui ne contient que les electeurs sur l'article9\n",
    "#filtré a partir du slug de l'article\n",
    "art = \"article-9-acces-aux-travaux-de-la-recherche-financee-par-des-fonds-publics\"\n",
    "\n",
    "from collections import defaultdict\n",
    "#liste des noms des électeurs \n",
    "electeurs = [n.keys()[0] for n in participants]\n",
    "#on crée pour plus de clareté un dictionnaire spécifique aux electeurs de l'article9\n",
    "electeurs_d = defaultdict.fromkeys(electeurs, [])"
   ]
  },
  {
   "cell_type": "code",
   "execution_count": 84,
   "metadata": {
    "collapsed": false
   },
   "outputs": [
    {
     "name": "stdout",
     "output_type": "stream",
     "text": [
      "21329 électeurs\n"
     ]
    }
   ],
   "source": [
    "#Nombre d'électeurs au total\n",
    "print len(electeurs), \"électeurs\""
   ]
  },
  {
   "cell_type": "code",
   "execution_count": 85,
   "metadata": {
    "collapsed": false
   },
   "outputs": [
    {
     "name": "stdout",
     "output_type": "stream",
     "text": [
      "5651 électeurs pour l'article9\n"
     ]
    }
   ],
   "source": [
    "\n",
    "art = \"article-9-acces-aux-travaux-de-la-recherche-financee-par-des-fonds-publics\"\n",
    "#pour chaque participant\n",
    "for user in participants:\n",
    "    #accesible via son nom\n",
    "    name =  user.keys()[0]\n",
    "    #récupérer les votes de l'utilisateur dans \"votes\"\n",
    "    #filtrer ceux qui ont des votes qui correspondent à l'article\n",
    "    user_votes =  [v for v in user[name][\"votes\"] if art in v[\"link\"]]\n",
    "    if  len(user_votes) == 0:\n",
    "        del electeurs_d[name]\n",
    "    else:\n",
    "        electeurs_d[name] = user_votes\n",
    "        \n",
    "\n",
    "#Nombre electeurs pour l'article 9\n",
    "print len(electeurs_d), \"électeurs pour l'article9\"\n"
   ]
  },
  {
   "cell_type": "code",
   "execution_count": 105,
   "metadata": {
    "collapsed": false
   },
   "outputs": [
    {
     "name": "stdout",
     "output_type": "stream",
     "text": [
      "danielbourrion a voté 13 fois sur l'article 9\n"
     ]
    }
   ],
   "source": [
    "### Combien de fois cet utilisateur a-t-il voté pour l'article9?\n",
    "electeur_name = \"danielbourrion\"\n",
    "print electeur_name,\"a voté\", len(electeurs_d[electeur_name]), \"fois sur l'article 9\"\n"
   ]
  },
  {
   "cell_type": "code",
   "execution_count": 103,
   "metadata": {
    "collapsed": false,
    "scrolled": false
   },
   "outputs": [],
   "source": [
    "#Maintenant rappatrions les votes au bon endroit\n",
    "#dans un dictionnaire spécifique de votes pour l'article 9\n",
    "#un vote peut être sur la version de l'article, un arguments de la version ou une source de la version\n",
    "#votes_d = defaultdict.fromkeys(versions_d.keys(), {\"votes\":[], \"arguments\":[], \"sources\":[]})\n",
    "votes = defaultdict.fromkeys(versions_d.keys(), {\"votes\":[], \"arguments\":[], \"sources\":[]})\n",
    "\n",
    "versions_d[\"original\"][\"details\"][\"votes\"]=[]\n",
    "for user,votes in electeurs_d.items():\n",
    "    for vote in votes:\n",
    "        url = vote[\"link\"]\n",
    "        vote[\"electeur\"] = user\n",
    "        #vote sur une version\n",
    "        if \"versions\" in url:\n",
    "            slug = url.split(\"/\")[-1]\n",
    "            if \"#arg\" in url:\n",
    "                slug, vote[\"id\"] = slug.split(\"#\")\n",
    "                if vote not in votes_d[slug][\"arguments\"]:\n",
    "                    votes_d[slug][\"arguments\"].append(vote)\n",
    "                continue\n",
    "            elif \"#source\" in url:\n",
    "                slug, vote[\"id\"] = slug.split(\"#\")\n",
    "                if vote not in votes_d[slug][\"sources\"]:\n",
    "                    votes_d[slug][\"sources\"].append(vote)\n",
    "                continue\n",
    "            else:\n",
    "                if vote not in votes_d[slug][\"votes\"]:\n",
    "                    votes_d[slug][\"votes\"].append(vote)\n",
    "                #print slug\n",
    "                elif vote not in versions_d[slug][\"votes\"]:\n",
    "                    versions_d[slug][\"details\"][\"votes\"].append(vote)\n",
    "                \n",
    "                continue\n",
    "        #vote sur l'original\n",
    "        else:\n",
    "            #vote sur un argument de l'original\n",
    "            #on a pas encore prévu exactement comment stocker cette info\n",
    "            #on va la mettre dans votes_d faute de mieux pour l'instant\n",
    "            \n",
    "            if \"#arg\" in url:\n",
    "                vote[\"id\"] = url.split(\"#\")[-1]\n",
    "                if vote not in votes_d[\"original\"][\"arguments\"]:\n",
    "                    votes_d[\"original\"][\"arguments\"].append(vote)\n",
    "                continue\n",
    "                #versions_d[\"original\"][\"details\"][\"arguments\"].append(vote)\n",
    "            #vote sur une source de l'original\n",
    "            \n",
    "            elif \"#source\" in url:\n",
    "                \n",
    "                vote[\"id\"] = url.split(\"#\")[-1]\n",
    "                if vote not in votes_d[\"original\"][\"sources\"]:\n",
    "                    votes_d[\"original\"][\"sources\"].append(vote)\n",
    "                continue\n",
    "            #vote sur l'article original\n",
    "            else:\n",
    "                #print vote\n",
    "                if vote not in votes_d[\"original\"][\"sources\"]:\n",
    "                    votes_d[\"original\"][\"votes\"].append(vote)\n",
    "                if vote not in versions_d[\"original\"][\"details\"][\"votes\"]:\n",
    "                    versions_d[\"original\"][\"details\"][\"votes\"].append(vote)\n",
    "                \n",
    "                \n",
    "                continue"
   ]
  },
  {
   "cell_type": "code",
   "execution_count": 111,
   "metadata": {
    "collapsed": false
   },
   "outputs": [
    {
     "name": "stdout",
     "output_type": "stream",
     "text": [
      "3334 3334\n",
      "12851 1400759\n"
     ]
    }
   ],
   "source": [
    "#verification des données aggrégées dans versions_d\n",
    "#pour la VO\n",
    "\n",
    "votes_V0 = len(versions_d[\"original\"][\"details\"][\"votes\"])\n",
    "print votes_V0, sum(stats_votes.values())\n",
    "votes_all = sum([v[\"stats\"][\"votes\"][\"total\"] for v in versions_d.values()])\n",
    "votes_all_details = sum([len(v[\"votes\"]) for v in votes_d.values()])\n",
    "print votes_all, votes_all_details\n",
    "    \n",
    "\n",
    "\n",
    "\n",
    "\n"
   ]
  },
  {
   "cell_type": "markdown",
   "metadata": {},
   "source": [
    "### Les votes par version\n",
    "\n"
   ]
  },
  {
   "cell_type": "code",
   "execution_count": null,
   "metadata": {
    "collapsed": false
   },
   "outputs": [],
   "source": []
  },
  {
   "cell_type": "markdown",
   "metadata": {},
   "source": [
    "### Matrice de similarité"
   ]
  },
  {
   "cell_type": "code",
   "execution_count": null,
   "metadata": {
    "collapsed": true
   },
   "outputs": [],
   "source": []
  },
  {
   "cell_type": "code",
   "execution_count": null,
   "metadata": {
    "collapsed": true
   },
   "outputs": [],
   "source": []
  }
 ],
 "metadata": {
  "kernelspec": {
   "display_name": "Python 2",
   "language": "python",
   "name": "python2"
  },
  "language_info": {
   "codemirror_mode": {
    "name": "ipython",
    "version": 2
   },
   "file_extension": ".py",
   "mimetype": "text/x-python",
   "name": "python",
   "nbconvert_exporter": "python",
   "pygments_lexer": "ipython2",
   "version": "2.7.6"
  }
 },
 "nbformat": 4,
 "nbformat_minor": 0
}
