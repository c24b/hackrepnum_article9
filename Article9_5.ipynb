{
 "cells": [
  {
   "cell_type": "markdown",
   "metadata": {},
   "source": [
    "# Les Versions de l'article 9"
   ]
  },
  {
   "cell_type": "code",
   "execution_count": 66,
   "metadata": {
    "collapsed": false
   },
   "outputs": [],
   "source": [
    "#import des modules\n",
    "#lecture des json\n",
    "import json \n",
    "#affichage des dictionnaires avec idententation\n",
    "import pprint\n",
    "pp = pprint.PrettyPrinter(indent=4, )\n",
    "#librairie des graphes\n",
    "import networkx as nx\n",
    "#affichage des graphs\n",
    "import matplotlib\n",
    "import matplotlib.pyplot as plt\n",
    "#calcul\n",
    "import numpy as np\n",
    "from itertools import combinations\n",
    "%matplotlib inline"
   ]
  },
  {
   "cell_type": "code",
   "execution_count": 67,
   "metadata": {
    "collapsed": false
   },
   "outputs": [],
   "source": [
    "\n",
    "#chargement de l'article 9\n",
    "with open(\"article9.json\", \"r\") as f:\n",
    "    article9 = json.load(f)"
   ]
  },
  {
   "cell_type": "markdown",
   "metadata": {},
   "source": [
    "* On va stocker le détail des participations de l'article 9 dans version_originale de la manière suivante:"
   ]
  },
  {
   "cell_type": "code",
   "execution_count": 68,
   "metadata": {
    "collapsed": false
   },
   "outputs": [],
   "source": [
    "#Pour rappel\n",
    "#print article9.keys()\n",
    "version_originale = {\n",
    "                \"date\": article9[\"created_at\"],\n",
    "                \"link\": article9[\"article_link\"],\n",
    "                \"slug\": article9[\"article_link\"].split(\"/\")[-1],\n",
    "                \"title\": article9[\"article_link\"].split(\"/\")[-1].replace(\"-\", \" \"),\n",
    "                \"text\": article9['body'],\n",
    "                \"author\": article9[\"author\"],\n",
    "                \"votes\":[], \n",
    "                \"arguments\":article9[\"arguments\"], \n",
    "                \"votes_arguments\": [],\n",
    "                \"sources\":article9[\"sources\"],\n",
    "                \"votes_sources\": [],\n",
    "                \"total_votes\": article9[\"votes_total\"],\n",
    "                #les décomptes de votes sur les arguments ne sont pas disponible dans l'article9\n",
    "                  # seulement le nombre d'arguments\n",
    "                \"total_arguments_votes\": article9[\"arguments_count\"]\n",
    "               }"
   ]
  },
  {
   "cell_type": "markdown",
   "metadata": {},
   "source": [
    "* On va stocker les versions complémentaires dans versions"
   ]
  },
  {
   "cell_type": "code",
   "execution_count": 69,
   "metadata": {
    "collapsed": false
   },
   "outputs": [],
   "source": [
    "versions = article9[\"versions\"]\n"
   ]
  },
  {
   "cell_type": "markdown",
   "metadata": {},
   "source": [
    "et reformater les versions de la même manière que dans la version originale\n"
   ]
  },
  {
   "cell_type": "code",
   "execution_count": 70,
   "metadata": {
    "collapsed": false
   },
   "outputs": [],
   "source": [
    "versions_c = []\n",
    "for v in versions:\n",
    "    #pour rappel\n",
    "    #print v.keys()\n",
    "    vn = {\"date\":v[\"created_at\"],\n",
    "            \"link\":v[\"link\"],\n",
    "            \"slug\":v[\"slug\"],\n",
    "            \"title\":v[\"title\"],\n",
    "            \"text\": v['comment'],\n",
    "            \"author\": v[\"author\"],\n",
    "            \"votes\":[], \n",
    "            \"arguments\":[], \n",
    "            \"votes_arguments\": [],\n",
    "            \"sources\":[],\n",
    "            \"votes_sources\": [],\n",
    "            \"total_votes\":v[\"votes_total\"],\n",
    "          #ici il s'agit bien du nombre de votes sur un argument\n",
    "            \"total_arguments_votes\": v[\"arguments_count\"]\n",
    "         }\n",
    "    versions_c.append(vn)"
   ]
  },
  {
   "cell_type": "markdown",
   "metadata": {},
   "source": [
    "* On ajoute ensuite la version originale"
   ]
  },
  {
   "cell_type": "code",
   "execution_count": 71,
   "metadata": {
    "collapsed": true
   },
   "outputs": [],
   "source": [
    "versions_c.append(version_originale)"
   ]
  },
  {
   "cell_type": "markdown",
   "metadata": {},
   "source": [
    "* Maintenant on va le transformer en dictionnaire avec pour clé le numero de version\n",
    "en fonction de la date"
   ]
  },
  {
   "cell_type": "code",
   "execution_count": 128,
   "metadata": {
    "collapsed": false
   },
   "outputs": [
    {
     "name": "stdout",
     "output_type": "stream",
     "text": [
      "Version 0:\n",
      "article-9-acces-aux-travaux-de-la-recherche-financee-par-des-fonds-publics\n",
      "Version 108:\n",
      "distinguer-shs-et-stem-ne-reconnait-pas-les-recherches-interdisplinaires-quelle-premiere-publication-quelle-version\n"
     ]
    }
   ],
   "source": [
    "versions_c = sorted(versions_c, key=lambda k: k['date'])\n",
    "versions_nb = {}\n",
    "versions_d = {}\n",
    "for i,v in enumerate(versions_c):\n",
    "    versions_nb[\"V\"+str(i)] = v\n",
    "    versions_d[v[\"slug\"]] = v\n",
    "#Le premier est bien la V0   \n",
    "print \"Version 0:\\n\", versions_nb[\"V0\"][\"slug\"]\n",
    "#Le dernier est :\n",
    "print \"Version 108:\\n\", versions_nb[\"V108\"][\"slug\"]"
   ]
  },
  {
   "cell_type": "code",
   "execution_count": 129,
   "metadata": {
    "collapsed": false
   },
   "outputs": [
    {
     "name": "stdout",
     "output_type": "stream",
     "text": [
      "109\n"
     ]
    }
   ],
   "source": [
    "#On vérifie le nombre de versions\n",
    "print len(versions_d)"
   ]
  },
  {
   "cell_type": "code",
   "execution_count": 132,
   "metadata": {
    "collapsed": false
   },
   "outputs": [
    {
     "data": {
      "image/png": "[encoded data removed]",
      "text/plain": [
       "<matplotlib.figure.Figure at 0x7f4306807690>"
      ]
     },
     "metadata": {},
     "output_type": "display_data"
    },
    {
     "data": {
      "text/plain": [
       "[<matplotlib.lines.Line2D at 0x7f43064dc790>]"
      ]
     },
     "execution_count": 132,
     "metadata": {},
     "output_type": "execute_result"
    },
    {
     "data": {
      "image/png": "[encoded data removed]",
      "text/plain": [
       "<matplotlib.figure.Figure at 0x7f43066cc350>"
      ]
     },
     "metadata": {},
     "output_type": "display_data"
    }
   ],
   "source": [
    "N = len(versions_d)\n",
    "votes_infos = [v[\"total_votes\"]  for v in versions_nb.values()]\n",
    "import pylab\n",
    "args_infos = [v[\"total_arguments_votes\"]  for v in versions_nb.values()]\n",
    "plt.title(\"Historique des votes et votes d'arguments par version\")\n",
    "plt.ylabel('Nb votes')\n",
    "#pylab.xlim([0,108])\n",
    "plt.plot(votes_infos,color='r')\n",
    "plt.plot(args_infos,color='b')\n",
    "\n",
    "plt.show()\n",
    "plt.title(\"historique des votes des arguments par version\")\n",
    "plt.ylabel('Nb votes sur les arguments')\n",
    "pylab.xlim([0,108])\n",
    "plt.plot(args_infos,color='b')\n"
   ]
  },
  {
   "cell_type": "markdown",
   "metadata": {},
   "source": [
    "# Les electeurs de l'article 9"
   ]
  },
  {
   "cell_type": "markdown",
   "metadata": {},
   "source": [
    "On charge le fichiers participants qui contient toutes les actions de chaque participant"
   ]
  },
  {
   "cell_type": "code",
   "execution_count": 193,
   "metadata": {
    "collapsed": false
   },
   "outputs": [
    {
     "name": "stdout",
     "output_type": "stream",
     "text": [
      "21329 participants sur l'ensemble des articles\n"
     ]
    }
   ],
   "source": [
    "\n",
    "#Ici on ne s'intéresse qu'aux votes\n",
    "#qui sont détaillés par participants\n",
    "with open(\"participants.json\", \"r\") as f:\n",
    "    data = json.load(f)\n",
    "    participants = data[\"participants\"]\n",
    "#Verifions le nombre de participants\n",
    "\n",
    "print len(participants), \"participants sur l'ensemble des articles\"\n",
    "#les noms des participants\n",
    "electeurs = list(set([n.keys()[0] for n in participants]))\n"
   ]
  },
  {
   "cell_type": "markdown",
   "metadata": {},
   "source": [
    "On charge ensuite seulement les votes des électeurs de l'article 9 dans votes\n",
    "et les electeurs de l'article 9 dans electeurs_d"
   ]
  },
  {
   "cell_type": "code",
   "execution_count": 194,
   "metadata": {
    "collapsed": false
   },
   "outputs": [],
   "source": [
    "art = \"article-9-acces-aux-travaux-de-la-recherche-financee-par-des-fonds-publics\"\n",
    "votes = []\n",
    "electeurs_d = {}\n",
    "for user in participants:\n",
    "    #accesible via son nom\n",
    "    name =  user.keys()[0]\n",
    "    electeurs_d[name] = []\n",
    "    #récupérer les votes de l'utilisateur dans \"votes\"\n",
    "    #filtrer ceux qui ont des votes qui correspondent à l'article\n",
    "    for vote in user[name][\"votes\"]:\n",
    "        if art in vote[\"link\"]:\n",
    "            vote[\"electeur\"] = name\n",
    "            electeurs_d[name].append(vote)\n",
    "            if vote not in votes:\n",
    "                votes.append(vote)\n",
    "#On enleve les electeurs qui n'ont pas voté pour l'article\n",
    "electeurs_d = {k:v for k,v in electeurs_d.items() if v != []}  "
   ]
  },
  {
   "cell_type": "code",
   "execution_count": 136,
   "metadata": {
    "collapsed": false
   },
   "outputs": [
    {
     "name": "stdout",
     "output_type": "stream",
     "text": [
      "15547 votes sur des articles, arguments ou sources\n",
      "5651 electeurs\n"
     ]
    }
   ],
   "source": [
    "print len(votes), \"votes sur des articles, arguments ou sources\"\n",
    "print len(electeurs_d), \"electeurs\""
   ]
  },
  {
   "cell_type": "markdown",
   "metadata": {},
   "source": [
    "### Les votes de l'article 9\n",
    "On ajoute les informations de votes pour chaque version de l'article:\n",
    "* les votes sur les arguments\n",
    "* les votes sur les sources\n",
    "* les votes sur les versions"
   ]
  },
  {
   "cell_type": "code",
   "execution_count": 137,
   "metadata": {
    "collapsed": false
   },
   "outputs": [],
   "source": [
    "for vote in votes:\n",
    "    url = vote[\"link\"]\n",
    "    slug = url.split(\"/\")[-1]\n",
    "    #vote sur un argument        \n",
    "    if \"#arg\" in slug:\n",
    "        vote[\"slug\"], vote[\"id\"] = slug.split(\"#\")\n",
    "        versions_d[vote[\"slug\"]][\"votes_arguments\"].append(vote)\n",
    "        \n",
    "        #vote sur une source\n",
    "    elif \"#source\" in slug:\n",
    "        vote[\"slug\"], vote[\"id\"] = slug.split(\"#\")\n",
    "        versions_d[vote[\"slug\"]][\"votes_sources\"].append(vote)\n",
    "        \n",
    "    #vote sur un article\n",
    "    else:\n",
    "        vote[\"slug\"] = slug\n",
    "        versions_d[vote[\"slug\"]][\"votes\"].append(vote)\n",
    "        "
   ]
  },
  {
   "cell_type": "code",
   "execution_count": 138,
   "metadata": {
    "collapsed": false
   },
   "outputs": [
    {
     "name": "stdout",
     "output_type": "stream",
     "text": [
      "13 versions de l'article\n",
      "3334 votes par version\n"
     ]
    }
   ],
   "source": [
    "print len(versions_d[art]),\"versions de l'article\"\n",
    "print len(versions_d[art][\"votes\"]),\"votes par version\""
   ]
  },
  {
   "cell_type": "code",
   "execution_count": 19,
   "metadata": {
    "collapsed": false
   },
   "outputs": [
    {
     "name": "stdout",
     "output_type": "stream",
     "text": [
      "22\n"
     ]
    }
   ],
   "source": [
    "print len(versions_d[art][\"sources\"]), \"sources pour l'articles\"\n",
    "print len(versions_d[art][\"votes_sources\"]), \"votes sur les sources de l'article\""
   ]
  },
  {
   "cell_type": "code",
   "execution_count": 20,
   "metadata": {
    "collapsed": false
   },
   "outputs": [
    {
     "name": "stdout",
     "output_type": "stream",
     "text": [
      "132\n"
     ]
    }
   ],
   "source": [
    "print len(versions_d[art][\"arguments\"]), \"arguments pour l'article\"\n",
    "print len(versions_d[art][\"votes_arguments\"]), \"votes sur les arguments de l'article\""
   ]
  },
  {
   "cell_type": "code",
   "execution_count": 140,
   "metadata": {
    "collapsed": false
   },
   "outputs": [],
   "source": [
    "#version à plat des couples votants, electeurs\n",
    "auteur_electeur = []\n",
    "for version, data in versions_d.items():\n",
    "    for vote in data[\"votes\"]:\n",
    "        auteur_electeur.append([version, data[\"author\"], vote[\"electeur\"], vote[\"opinion\"]])\n"
   ]
  },
  {
   "cell_type": "code",
   "execution_count": 141,
   "metadata": {
    "collapsed": false
   },
   "outputs": [
    {
     "name": "stdout",
     "output_type": "stream",
     "text": [
      "12851\n"
     ]
    }
   ],
   "source": [
    "print len(auteur_electeur)"
   ]
  },
  {
   "cell_type": "code",
   "execution_count": 142,
   "metadata": {
    "collapsed": false
   },
   "outputs": [],
   "source": [
    "with open(\"votes_auteur_electeur.csv\", \"w\") as f:\n",
    "    f.write(\"version\\tauteur\\telecteur\\tvote\\n\")\n",
    "    for line in auteur_electeur:\n",
    "        f.write((\"\\t\").join(line)+\"\\n\")\n",
    "        "
   ]
  },
  {
   "cell_type": "markdown",
   "metadata": {},
   "source": [
    "## Reseau de soutien d'un electeur à auteur\n",
    "\n",
    "### Les pour\n",
    "Nous allons construire un premier graphe simple:\n",
    "* les points sont les electeurs et les auteurs d'une version de l'article\n",
    "* les aretes ou les liens représente un ou plusieur votes d'un electeur **pour** une version proposée par l'autre\n",
    "    => Deux acteurs sont reliés dès lors que l'un d'entre eux a voté **pour** une version proposé par l'autre.\n",
    "\n",
    "### Les contres\n",
    "\n",
    "De la même manière pour les contre\n"
   ]
  },
  {
   "cell_type": "markdown",
   "metadata": {},
   "source": [
    "## Familles d'electeurs: les comportement de votes\n",
    "\n",
    "Deux electeurs sont reliés quand ils ont votés de manière similaires selon \n",
    "un score de similiarité de comportement de votes que nous allons construire:\n",
    "\n",
    "Avant de procéder à cette analyse regardons donc la répartition de participations des électeurs\n",
    "\n",
    "Un nombre de votes par electeur situé entre 1 et 102\n",
    "On a 5635 electeurs pour un total de 12851 votes dont x qui a voté une fois\n",
    "\n",
    "On va d'abord se concentrer sur les electeurs qui ont votés plusieurs fois.\n",
    "Et ensuite chercher un seuil minimal de participation pour détecter la similarité entre \n",
    "deux electeurs.\n",
    "\n",
    "En effet si un electeur a voté une seule fois et qu'un autre electeur 15 fois\n",
    "leur comportement est similaire alors que ce n'est pas révélateur"
   ]
  },
  {
   "cell_type": "code",
   "execution_count": 144,
   "metadata": {
    "collapsed": false
   },
   "outputs": [
    {
     "name": "stdout",
     "output_type": "stream",
     "text": [
      "12851 votes 5635 electeurs\n",
      "3043 electeurs uniques qui ont voté une seule fois\n",
      "2592 electeurs uniques qui ont voté plusieurs fois\n",
      "pour un total de 9808 votes\n",
      "482 participants ont votés au moins 5 fois et produit au total: 4574 votes\n"
     ]
    }
   ],
   "source": [
    "from collections import Counter\n",
    "import operator\n",
    "votes_electeurs = Counter([n[2] for n in auteur_electeur])\n",
    "nb_electeurs = len(votes_electeurs)\n",
    "nb_votes = sum(votes_electeurs.values())\n",
    "print nb_votes,\"votes\", nb_electeurs, \"electeurs\"\n",
    "#top_votants = votes_electeurs.most_common(563)\n",
    "\n",
    "#print top_votants\n",
    "\n",
    "#plt.bar(range(len(top_votants)), top_votants.values(), align='center')\n",
    "#plt.xticks(range(len(top_votants)), range(len(top_votants)))\n",
    "#plt.show()\n",
    "\n",
    "one_vote = {k:v for k,v in votes_electeurs.items() if v ==1}\n",
    "nb_one_vote = len(one_vote)\n",
    "print nb_one_vote, \"electeurs uniques qui ont voté une seule fois\"\n",
    "multiple_vote = {k:v for k,v in votes_electeurs.items() if v > 1}\n",
    "print len(multiple_vote), \"electeurs uniques qui ont voté plusieurs fois\"\n",
    "print \"pour un total de\", sum(multiple_vote.values()), \"votes\"\n",
    "#seuil de participations = 5\n",
    "votes_seuil = {k:v for k,v in votes_electeurs.items() if v >= 5}\n",
    "print len(votes_seuil), \"participants ont votés au moins 5 fois et produit au total:\",  sum(votes_seuil.values()), \"votes\"\n"
   ]
  },
  {
   "cell_type": "code",
   "execution_count": 145,
   "metadata": {
    "collapsed": false
   },
   "outputs": [
    {
     "name": "stdout",
     "output_type": "stream",
     "text": [
      "115921 couples de participants\n"
     ]
    }
   ],
   "source": [
    "from itertools import combinations\n",
    "from math import factorial as fact\n",
    "combo = list(set(combinations(votes_seuil.keys(), 2)))\n",
    "\n",
    "print len([n for n in combo]), \"couples de participants\"\n",
    "\n",
    "def combo_score(n,k):\n",
    "    #en combinatoire calculer le nombre de combinaison de 2 elements sur un ensemble de 482 elements\n",
    "    #https://fr.wikipedia.org/wiki/Combinaison_(math%C3%A9matiques)\n",
    "    #combin = lambda n,k: fact(n)//(fact(k)*fact(n-k))\n",
    "    return fact(n)/(fact(k)*fact(n-k))\n",
    "#Pour vérifier les combinaisons\n",
    "#print combo_score(482, 2)\n"
   ]
  },
  {
   "cell_type": "markdown",
   "metadata": {
    "collapsed": false
   },
   "source": [
    "#### Le graphe des electeurs similaires\n",
    "\n",
    "* Chaque noeud correspond à un électeur\n",
    "* Deux electeurs sont reliés si leur score de similarite est > 0\n",
    "* La taille du lien dépend du score de similarité\n",
    "* La taille du noeud dépend du nombre de votes de la personne\n",
    "* Les électeurs non reliés à d'autres électeurs seront supprimés (les noeuds isolés n'apparaitront pas)"
   ]
  },
  {
   "cell_type": "code",
   "execution_count": 203,
   "metadata": {
    "collapsed": false
   },
   "outputs": [
    {
     "name": "stdout",
     "output_type": "stream",
     "text": [
      "{u'gregoire': u'-1', u'barrierejeanpaul': u'1', u'jeannevarasco': u'1', u'syndicatnationaldeledition': u'1', u'fabienandre': u'-1', u'editionsdalloz': u'1', u'vincentreverdy': u'-1'}\n"
     ]
    }
   ],
   "source": [
    "#le seuil de similarité\n",
    "#SEUIL = 0\n",
    "#construction des liens\n",
    "def build_graph(votes_seuil,electeurs_d, versions_d, SEUIL=0):\n",
    "    #construction des familles par similarité de votes\n",
    "    #on crée un dictionnaire qui contiendra les couples\n",
    "    #et leur score de similarité\n",
    "    similarity_score = {}\n",
    "    #On crée un graphe        \n",
    "    g = nx.Graph()\n",
    "    #Avec la spatialisation selon l'algo de clusterisation Fruchert\n",
    "    pos = nx.spring_layout(g)\n",
    "    #On déroule les couples\n",
    "    for couple in combinations(votes_seuil.keys(), 2):\n",
    "        \n",
    "        userA, userB = couple\n",
    "        #on ajoute les noeuds\n",
    "        g.add_node(userA, weight=len(electeurs_d[userA]))\n",
    "        g.add_node(userB, weight=len(electeurs_d[userB]))\n",
    "        #On met le score à 0\n",
    "        similarity_score[c] = 0\n",
    "        #Pour chaque version\n",
    "        for v, k in versions_d.items():\n",
    "            electeur_vote = {e[\"electeur\"]:e[\"opinion\"] for e in k[\"votes\"]}\n",
    "            print electeur_vote\n",
    "            break\n",
    "        break\n",
    "            \n",
    "graph1 = build_graph(votes_seuil,electeurs_d, versions_d, SEUIL=1)\n",
    "\n"
   ]
  },
  {
   "cell_type": "markdown",
   "metadata": {},
   "source": [
    "Evidemment on ne voit rien relançons avec un seuil de similarité de 3\n"
   ]
  },
  {
   "cell_type": "code",
   "execution_count": 171,
   "metadata": {
    "collapsed": false
   },
   "outputs": [
    {
     "data": {
      "image/png": "[encoded data removed]",
      "text/plain": [
       "<matplotlib.figure.Figure at 0x7f42e9660e50>"
      ]
     },
     "metadata": {},
     "output_type": "display_data"
    }
   ],
   "source": [
    "add_edges(3)"
   ]
  },
  {
   "cell_type": "markdown",
   "metadata": {},
   "source": [
    "# Réseau d'affinité entre l'auteur et ses electeurs:\n",
    "\n",
    "Deux acteurs sont reliés lorsque que l'un à voté *pour* l'autre\n"
   ]
  },
  {
   "cell_type": "code",
   "execution_count": null,
   "metadata": {
    "collapsed": false
   },
   "outputs": [],
   "source": [
    "auteur_vs_electeur = { \"auteur\":[], \"electeur\":[], \"vote\":[], \"version\":[]}\n",
    "for line in auteur_electeur:\n",
    "    auteur_vs_electeur[\"version\"].append(line[0])\n",
    "    auteur_vs_electeur[\"auteur\"].append(line[1])\n",
    "    auteur_vs_electeur[\"electeur\"].append(line[2])\n",
    "    auteur_vs_electeur[\"vote\"].append(line[3])\n",
    "    "
   ]
  },
  {
   "cell_type": "code",
   "execution_count": null,
   "metadata": {
    "collapsed": false
   },
   "outputs": [],
   "source": [
    "from collections import defaultdict\n",
    "#dictionnaire de auteur -> electeur\n",
    "elu_par = defaultdict.fromkeys(set(auteur_vs_electeur[\"auteur\"]), [])\n",
    "#dictionnaire de electeur -> version\n",
    "a_vote_pour = defaultdict.fromkeys(set(auteur_vs_electeur[\"electeur\"]), [])\n",
    "votes_pour = []\n",
    "with open(\"a_vote_pour.csv\",\"w\") as f:\n",
    "    f.write(\"auteur\\telecteur\\tversion\\n\")\n",
    "    for line in auteur_electeur:\n",
    "        auteur = line[1]\n",
    "        electeur = line[2]\n",
    "        version = line[0]\n",
    "        if line[3] == \"1\":\n",
    "            \n",
    "            votes_pour.append(line)\n",
    "            f.write(\"\\t\".join(line[0:3])+\"\\n\")\n",
    "            elu_par[auteur].append(electeur)              \n",
    "            a_vote_pour[electeur].append(version)\n",
    "        \n"
   ]
  },
  {
   "cell_type": "code",
   "execution_count": null,
   "metadata": {
    "collapsed": true
   },
   "outputs": [],
   "source": [
    "import networkx as nx"
   ]
  },
  {
   "cell_type": "code",
   "execution_count": null,
   "metadata": {
    "collapsed": false
   },
   "outputs": [],
   "source": [
    "def find_isolated_nodes(graph):\n",
    "    \"\"\" returns a list of isolated nodes. \"\"\"\n",
    "    isolated = []\n",
    "    for node in graph:\n",
    "        if not graph[node]:\n",
    "            isolated += node\n",
    "    return isolated\n",
    "isolated = find_isolated_nodes(elu_par)\n",
    "print isolated"
   ]
  },
  {
   "cell_type": "markdown",
   "metadata": {},
   "source": [
    "les noeuds seront les auteurs\n",
    "et les edges les votes pour"
   ]
  },
  {
   "cell_type": "code",
   "execution_count": null,
   "metadata": {
    "collapsed": false
   },
   "outputs": [],
   "source": [
    "G = nx.Graph()\n",
    "#G.add_nodes_from(elu_par.keys(), type=\"auteur\")\n",
    "\n",
    "\n",
    "for k,v in elu_par.items():\n",
    "    nx.set_node_attributes(G,k, k)\n",
    "    for v2 in v:\n",
    "        G.add_edge(k,v2)\n",
    "\n",
    "nx.draw(G)\n",
    "plt.show()\n"
   ]
  },
  {
   "cell_type": "code",
   "execution_count": null,
   "metadata": {
    "collapsed": true
   },
   "outputs": [],
   "source": [
    "G = nx.Graph()"
   ]
  },
  {
   "cell_type": "code",
   "execution_count": null,
   "metadata": {
    "collapsed": true
   },
   "outputs": [],
   "source": []
  }
 ],
 "metadata": {
  "kernelspec": {
   "display_name": "Python 2",
   "language": "python",
   "name": "python2"
  },
  "language_info": {
   "codemirror_mode": {
    "name": "ipython",
    "version": 2
   },
   "file_extension": ".py",
   "mimetype": "text/x-python",
   "name": "python",
   "nbconvert_exporter": "python",
   "pygments_lexer": "ipython2",
   "version": "2.7.6"
  }
 },
 "nbformat": 4,
 "nbformat_minor": 0
}
