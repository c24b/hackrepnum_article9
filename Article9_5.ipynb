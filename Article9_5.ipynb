{
 "cells": [
  {
   "cell_type": "markdown",
   "metadata": {},
   "source": [
    "# Les Versions de l'article 9"
   ]
  },
  {
   "cell_type": "code",
   "execution_count": 6,
   "metadata": {
    "collapsed": true
   },
   "outputs": [],
   "source": [
    "#import des modules\n",
    "\n",
    "#lecture des json\n",
    "import json \n",
    "\n",
    "#affichage des valeurs identées\n",
    "import pprint\n",
    "pp = pprint.PrettyPrinter(indent=4, )\n",
    "\n",
    "#affichage des graphs\n",
    "import matplotlib.pyplot as plt\n",
    "import numpy as np\n",
    "%matplotlib inline"
   ]
  },
  {
   "cell_type": "code",
   "execution_count": 7,
   "metadata": {
    "collapsed": false
   },
   "outputs": [],
   "source": [
    "\n",
    "#chargement de l'article 9\n",
    "with open(\"article9.json\", \"r\") as f:\n",
    "    article9 = json.load(f)"
   ]
  },
  {
   "cell_type": "markdown",
   "metadata": {},
   "source": [
    "* On va stocker le détail des participations de l'article 9 dans version_originale de la manière suivante:"
   ]
  },
  {
   "cell_type": "code",
   "execution_count": 8,
   "metadata": {
    "collapsed": false
   },
   "outputs": [],
   "source": [
    "version_originale = {\n",
    "                \"date\": article9[\"created_at\"],\n",
    "                \"link\": article9[\"article_link\"],\n",
    "                \"slug\": article9[\"article_link\"].split(\"/\")[-1],\n",
    "                \"title\": article9[\"article_link\"].split(\"/\")[-1].replace(\"-\", \" \"),\n",
    "                \"text\": article9['body'],\n",
    "                \"author\": article9[\"author\"],\n",
    "                \"votes\":[], \n",
    "                \"arguments\":article9[\"arguments\"], \n",
    "                \"votes_arguments\": [],\n",
    "                \"sources\":article9[\"sources\"],\n",
    "                \"votes_sources\": [],\n",
    "               }"
   ]
  },
  {
   "cell_type": "markdown",
   "metadata": {},
   "source": [
    "* On va stocker les versions complémentaires dans versions"
   ]
  },
  {
   "cell_type": "code",
   "execution_count": 9,
   "metadata": {
    "collapsed": false
   },
   "outputs": [],
   "source": [
    "versions = article9[\"versions\"]\n"
   ]
  },
  {
   "cell_type": "markdown",
   "metadata": {},
   "source": [
    "et reformater les versions de la même manière que dans la version originale\n"
   ]
  },
  {
   "cell_type": "code",
   "execution_count": 10,
   "metadata": {
    "collapsed": false
   },
   "outputs": [],
   "source": [
    "versions_c = []\n",
    "for v in versions:\n",
    "    vn = {\"date\":v[\"created_at\"],\n",
    "\"link\":v[\"link\"],\n",
    "\"slug\":v[\"slug\"],\n",
    "\"title\":v[\"title\"],\n",
    "\"text\": v['comment'],\n",
    "\"author\": v[\"author\"],\n",
    "          \"votes\":[], \n",
    "\"arguments\":[], \n",
    "\"votes_arguments\": [],\n",
    "\"sources\":[],\n",
    "\"votes_sources\": []}\n",
    "    versions_c.append(vn)"
   ]
  },
  {
   "cell_type": "markdown",
   "metadata": {},
   "source": [
    "* On ajoute ensuite la version originale"
   ]
  },
  {
   "cell_type": "code",
   "execution_count": 11,
   "metadata": {
    "collapsed": true
   },
   "outputs": [],
   "source": [
    "versions_c.append(version_originale)"
   ]
  },
  {
   "cell_type": "markdown",
   "metadata": {},
   "source": [
    "* Maintenant on va le transformer en dictionnaire avec pour clé le slug"
   ]
  },
  {
   "cell_type": "code",
   "execution_count": 12,
   "metadata": {
    "collapsed": false
   },
   "outputs": [],
   "source": [
    "versions_d = {}\n",
    "for v in versions_c:\n",
    "    versions_d[v[\"slug\"]] = v\n",
    "    \n"
   ]
  },
  {
   "cell_type": "code",
   "execution_count": 13,
   "metadata": {
    "collapsed": false
   },
   "outputs": [
    {
     "name": "stdout",
     "output_type": "stream",
     "text": [
      "109\n"
     ]
    }
   ],
   "source": [
    "print len(versions_d)"
   ]
  },
  {
   "cell_type": "markdown",
   "metadata": {},
   "source": [
    "# Les electeurs de l'article 9"
   ]
  },
  {
   "cell_type": "markdown",
   "metadata": {},
   "source": [
    "On charge le fichiers participants qui contient toutes les actions de chaque participant"
   ]
  },
  {
   "cell_type": "code",
   "execution_count": 14,
   "metadata": {
    "collapsed": false
   },
   "outputs": [
    {
     "name": "stdout",
     "output_type": "stream",
     "text": [
      "21329 participants sur l'ensemble des articles\n"
     ]
    }
   ],
   "source": [
    "\n",
    "#Ici on ne s'intéresse qu'aux votes\n",
    "#qui sont détaillés par participants\n",
    "with open(\"participants.json\", \"r\") as f:\n",
    "    data = json.load(f)\n",
    "    participants = data[\"participants\"]\n",
    "#Verifions le nombre de participants\n",
    "\n",
    "print len(participants), \"participants sur l'ensemble des articles\"\n",
    "#les noms des participants\n",
    "electeurs = list(set([n.keys()[0] for n in participants]))\n"
   ]
  },
  {
   "cell_type": "markdown",
   "metadata": {},
   "source": [
    "On charge ensuite seulement les votes des électeurs de l'article 9 dans votes"
   ]
  },
  {
   "cell_type": "code",
   "execution_count": 15,
   "metadata": {
    "collapsed": false
   },
   "outputs": [],
   "source": [
    "art = \"article-9-acces-aux-travaux-de-la-recherche-financee-par-des-fonds-publics\"\n",
    "votes = []\n",
    "electeurs_d = {}\n",
    "for user in participants:\n",
    "    #accesible via son nom\n",
    "    name =  user.keys()[0]\n",
    "    electeurs_d[name] = []\n",
    "    #récupérer les votes de l'utilisateur dans \"votes\"\n",
    "    #filtrer ceux qui ont des votes qui correspondent à l'article\n",
    "    for vote in user[name][\"votes\"]:\n",
    "        if art in vote[\"link\"]:\n",
    "            vote[\"electeur\"] = name\n",
    "            electeurs_d[name].append(vote)\n",
    "            if vote not in votes:\n",
    "                votes.append(vote)\n",
    "            "
   ]
  },
  {
   "cell_type": "code",
   "execution_count": 16,
   "metadata": {
    "collapsed": false
   },
   "outputs": [
    {
     "name": "stdout",
     "output_type": "stream",
     "text": [
      "15547 votes sur des articles, arguments ou sources\n",
      "21329 electeurs\n"
     ]
    }
   ],
   "source": [
    "print len(votes), \"votes sur des articles, arguments ou sources\"\n",
    "print len(electeurs_d), \"electeurs\""
   ]
  },
  {
   "cell_type": "code",
   "execution_count": 17,
   "metadata": {
    "collapsed": false
   },
   "outputs": [],
   "source": [
    "for vote in votes:\n",
    "    url = vote[\"link\"]\n",
    "    slug = url.split(\"/\")[-1]\n",
    "    #vote sur un argument        \n",
    "    if \"#arg\" in slug:\n",
    "        vote[\"slug\"], vote[\"id\"] = slug.split(\"#\")\n",
    "        versions_d[vote[\"slug\"]][\"votes_arguments\"].append(vote)\n",
    "        \n",
    "        #vote sur une source\n",
    "    elif \"#source\" in slug:\n",
    "        vote[\"slug\"], vote[\"id\"] = slug.split(\"#\")\n",
    "        versions_d[vote[\"slug\"]][\"votes_sources\"].append(vote)\n",
    "        \n",
    "    #vote sur un article\n",
    "    else:\n",
    "        vote[\"slug\"] = slug\n",
    "        versions_d[vote[\"slug\"]][\"votes\"].append(vote)\n",
    "        "
   ]
  },
  {
   "cell_type": "code",
   "execution_count": 18,
   "metadata": {
    "collapsed": false
   },
   "outputs": [
    {
     "name": "stdout",
     "output_type": "stream",
     "text": [
      "3334\n"
     ]
    }
   ],
   "source": [
    "print len(versions_d[art][\"votes\"])"
   ]
  },
  {
   "cell_type": "code",
   "execution_count": 19,
   "metadata": {
    "collapsed": false
   },
   "outputs": [
    {
     "name": "stdout",
     "output_type": "stream",
     "text": [
      "22\n"
     ]
    }
   ],
   "source": [
    "print len(versions_d[art][\"sources\"])"
   ]
  },
  {
   "cell_type": "code",
   "execution_count": 20,
   "metadata": {
    "collapsed": false
   },
   "outputs": [
    {
     "name": "stdout",
     "output_type": "stream",
     "text": [
      "132\n"
     ]
    }
   ],
   "source": [
    "print len(versions_d[art][\"arguments\"])"
   ]
  },
  {
   "cell_type": "code",
   "execution_count": 21,
   "metadata": {
    "collapsed": false
   },
   "outputs": [
    {
     "name": "stdout",
     "output_type": "stream",
     "text": [
      "130\n"
     ]
    }
   ],
   "source": [
    "print len(versions_d[art][\"votes_sources\"])"
   ]
  },
  {
   "cell_type": "code",
   "execution_count": 22,
   "metadata": {
    "collapsed": false
   },
   "outputs": [
    {
     "name": "stdout",
     "output_type": "stream",
     "text": [
      "1155\n"
     ]
    }
   ],
   "source": [
    "print len(versions_d[art][\"votes_arguments\"])"
   ]
  },
  {
   "cell_type": "code",
   "execution_count": 23,
   "metadata": {
    "collapsed": false
   },
   "outputs": [],
   "source": [
    "auteur_electeur = []\n",
    "\n",
    "for version, data in versions_d.items():\n",
    "    for vote in data[\"votes\"]:\n",
    "        auteur_electeur.append([version, data[\"author\"], vote[\"electeur\"], vote[\"opinion\"]])\n"
   ]
  },
  {
   "cell_type": "code",
   "execution_count": 24,
   "metadata": {
    "collapsed": false
   },
   "outputs": [
    {
     "name": "stdout",
     "output_type": "stream",
     "text": [
      "12851\n"
     ]
    }
   ],
   "source": [
    "print len(auteur_electeur)"
   ]
  },
  {
   "cell_type": "code",
   "execution_count": 25,
   "metadata": {
    "collapsed": false
   },
   "outputs": [],
   "source": [
    "with open(\"votes_auteur_electeur.csv\", \"w\") as f:\n",
    "    f.write(\"version\\tauteur\\telecteur\\tvote\\n\")\n",
    "    for line in auteur_electeur:\n",
    "        f.write((\"\\t\").join(line)+\"\\n\")\n",
    "        "
   ]
  },
  {
   "cell_type": "markdown",
   "metadata": {},
   "source": [
    "Reseau d'affinité electeur auteur\n",
    "Deux acteurs sont reliés dès lors que l'un d'entre eux a voté **pour** une version proposé par l'autre.\n",
    "\n",
    "Matrice de coocurrence: on multiplie la matrice par sa transposition\n",
    "de sorte que f(x) = x(f)\n",
    "soit a->b et b->a ou encore \n",
    "paul a voté pour pierre & pierre a voté pour paul\n",
    "on doit garantir que dans notre résultat les deux formes ne cooexistent pas\n",
    "soit la diagonale doit etre enlevé ou encore garantir qu'une seule des options de la combinaison existe\n",
    "\n"
   ]
  },
  {
   "cell_type": "markdown",
   "metadata": {},
   "source": [
    "# Réseau d'affinité entre electeurs\n",
    "\n",
    "Deux electeurs sont reliés quand ils ont votés de manière similaires selon \n",
    "un score de similiarité de comportement de votes\n",
    "\n",
    "Avant de procéder à cette analyse regardons donc la répartition de participations des électeurs\n",
    "\n",
    "Un nombre de votes par electeur situé entre 1 et 102\n",
    "\n",
    "On a 5635 electeurs pour un total de 12851 votes.\n",
    "\n",
    "On va d'abord se concentrer sur les electeurs qui ont votés plusieurs fois.\n",
    "Et ensuite chercher un seuil minimal de participation pour détecter la similarité entre \n",
    "deux electeurs.\n",
    "\n",
    "En effet si un electeur a voté une seule fois et qu'un autre electeur 15 fois\n",
    "leur comportement est similaire alors que ce n'est pas révélateur"
   ]
  },
  {
   "cell_type": "code",
   "execution_count": 26,
   "metadata": {
    "collapsed": false
   },
   "outputs": [
    {
     "name": "stdout",
     "output_type": "stream",
     "text": [
      "12851 votes 5635 electeurs\n",
      "3043 electeurs uniques qui ont voté une seule fois\n",
      "2592 electeurs uniques qui ont voté plusieurs fois\n",
      "pour un total de 9808 votes\n",
      "482 4574\n"
     ]
    }
   ],
   "source": [
    "from collections import Counter\n",
    "import operator\n",
    "votes_electeurs = Counter([n[2] for n in auteur_electeur])\n",
    "nb_electeurs = len(votes_electeurs)\n",
    "nb_votes = sum(votes_electeurs.values())\n",
    "print nb_votes,\"votes\", nb_electeurs, \"electeurs\"\n",
    "#top_votants = votes_electeurs.most_common(563)\n",
    "\n",
    "#print top_votants\n",
    "\n",
    "#plt.bar(range(len(top_votants)), top_votants.values(), align='center')\n",
    "#plt.xticks(range(len(top_votants)), range(len(top_votants)))\n",
    "#plt.show()\n",
    "\n",
    "one_vote = {k:v for k,v in votes_electeurs.items() if v ==1}\n",
    "nb_one_vote = len(one_vote)\n",
    "print nb_one_vote, \"electeurs uniques qui ont voté une seule fois\"\n",
    "multiple_vote = {k:v for k,v in votes_electeurs.items() if v > 1}\n",
    "print len(multiple_vote), \"electeurs uniques qui ont voté plusieurs fois\"\n",
    "print \"pour un total de\", sum(multiple_vote.values()), \"votes\"\n",
    "#seuil de participations = 5\n",
    "votes_seuil = {k:v for k,v in votes_electeurs.items() if v >= 5}\n",
    "print len(votes_seuil), sum(votes_seuil.values())\n"
   ]
  },
  {
   "cell_type": "code",
   "execution_count": 27,
   "metadata": {
    "collapsed": false
   },
   "outputs": [
    {
     "name": "stdout",
     "output_type": "stream",
     "text": [
      "115921\n",
      "115921\n"
     ]
    }
   ],
   "source": [
    "from itertools import combinations\n",
    "from math import factorial as fact\n",
    "combo = list(set(combinations(votes_seuil.keys(), 2)))\n",
    "\n",
    "print len([n for n in combo])\n",
    "\n",
    "def combo_score(n,k):\n",
    "    #en combinatoire calculer le nombre de combinaison de 2 elements sur un ensemble de 482 elements\n",
    "    #https://fr.wikipedia.org/wiki/Combinaison_(math%C3%A9matiques)\n",
    "    #combin = lambda n,k: fact(n)//(fact(k)*fact(n-k))\n",
    "    return fact(n)/(fact(k)*fact(n-k))\n",
    "#On vérifie\n",
    "print combo_score(482, 2)\n"
   ]
  },
  {
   "cell_type": "code",
   "execution_count": null,
   "metadata": {
    "collapsed": false
   },
   "outputs": [],
   "source": [
    "\n",
    "similarity_score = {}\n",
    "\n",
    "for c in combinations(votes_seuil.keys(), 2):\n",
    "    #print c\n",
    "    userA, userB = c\n",
    "    #print userA, userB\n",
    "    similarity_score[c] = 0\n",
    "    userweight = 0\n",
    "    for v, k in versions_d.items():\n",
    "        electeur_d = {e[\"electeur\"]:e[\"opinion\"] for e in k[\"votes\"]}\n",
    "        #print electeur_d.keys()\n",
    "        if userA in electeur_d.keys() and userB in electeur_d.keys():\n",
    "            if electeur_d[userA] == electeur_d[userB]:\n",
    "                similarity_score[c] += 1\n",
    "    #print c, similarity_score[c]      \n"
   ]
  },
  {
   "cell_type": "markdown",
   "metadata": {
    "collapsed": false
   },
   "source": [
    "* Construire le graphe\n",
    "Chaque noeud correspond à une personne \n",
    "Deux electeurs sont reliés si leur score de similarite est > 0 \n",
    "et la taille du lien dépend du score \n"
   ]
  },
  {
   "cell_type": "code",
   "execution_count": 26,
   "metadata": {
    "collapsed": false
   },
   "outputs": [],
   "source": [
    "import networkx as nx\n",
    "g = nx.Graph()\n",
    "pos = nx.balanced_tree(3,5)\n",
    "g.add_nodes_from(votes_seuil.keys(), font_size = 16)\n",
    "#nx.draw_networkx_labels(g,pos,votes_seuil,font_size=16)\n",
    "\n",
    "#plt.show()\n",
    "edges = [(user_co[0], user_co[1]) for user_co, score in similarity_score.items() if score > 0]\n",
    "#, {\"color\":\"green\", \"weight\":score})\n",
    "g.add_edges_from(edges)\n",
    "nx.write_gexf(g, \"electeurs.gexf\")\n",
    "#nx.draw(g, with_labels=True)\n",
    "#plt.savefig('graph.png')\n",
    "#plt.show()\n",
    "  "
   ]
  },
  {
   "cell_type": "markdown",
   "metadata": {},
   "source": [
    "Evidemment on ne voit rien"
   ]
  },
  {
   "cell_type": "markdown",
   "metadata": {},
   "source": [
    "# Réseau d'affinité entre l'auteur et ses electeurs:\n",
    "\n",
    "Deux acteurs sont reliés lorsque que l'un à voté *pour* l'autre\n"
   ]
  },
  {
   "cell_type": "code",
   "execution_count": null,
   "metadata": {
    "collapsed": false
   },
   "outputs": [],
   "source": [
    "auteur_vs_electeur = { \"auteur\":[], \"electeur\":[], \"vote\":[], \"version\":[]}\n",
    "for line in auteur_electeur:\n",
    "    auteur_vs_electeur[\"version\"].append(line[0])\n",
    "    auteur_vs_electeur[\"auteur\"].append(line[1])\n",
    "    auteur_vs_electeur[\"electeur\"].append(line[2])\n",
    "    auteur_vs_electeur[\"vote\"].append(line[3])\n",
    "    "
   ]
  },
  {
   "cell_type": "code",
   "execution_count": null,
   "metadata": {
    "collapsed": false
   },
   "outputs": [],
   "source": [
    "from collections import defaultdict\n",
    "#dictionnaire de auteur -> electeur\n",
    "elu_par = defaultdict.fromkeys(set(auteur_vs_electeur[\"auteur\"]), [])\n",
    "#dictionnaire de electeur -> version\n",
    "a_vote_pour = defaultdict.fromkeys(set(auteur_vs_electeur[\"electeur\"]), [])\n",
    "votes_pour = []\n",
    "with open(\"a_vote_pour.csv\",\"w\") as f:\n",
    "    f.write(\"auteur\\telecteur\\tversion\\n\")\n",
    "    for line in auteur_electeur:\n",
    "        auteur = line[1]\n",
    "        electeur = line[2]\n",
    "        version = line[0]\n",
    "        if line[3] == \"1\":\n",
    "            \n",
    "            votes_pour.append(line)\n",
    "            f.write(\"\\t\".join(line[0:3])+\"\\n\")\n",
    "            elu_par[auteur].append(electeur)              \n",
    "            a_vote_pour[electeur].append(version)\n",
    "        \n"
   ]
  },
  {
   "cell_type": "code",
   "execution_count": null,
   "metadata": {
    "collapsed": true
   },
   "outputs": [],
   "source": [
    "import networkx as nx"
   ]
  },
  {
   "cell_type": "code",
   "execution_count": null,
   "metadata": {
    "collapsed": false
   },
   "outputs": [],
   "source": [
    "def find_isolated_nodes(graph):\n",
    "    \"\"\" returns a list of isolated nodes. \"\"\"\n",
    "    isolated = []\n",
    "    for node in graph:\n",
    "        if not graph[node]:\n",
    "            isolated += node\n",
    "    return isolated\n",
    "isolated = find_isolated_nodes(elu_par)\n",
    "print isolated"
   ]
  },
  {
   "cell_type": "markdown",
   "metadata": {},
   "source": [
    "les noeuds seront les auteurs\n",
    "et les edges les votes pour"
   ]
  },
  {
   "cell_type": "code",
   "execution_count": null,
   "metadata": {
    "collapsed": false
   },
   "outputs": [],
   "source": [
    "G = nx.Graph()\n",
    "#G.add_nodes_from(elu_par.keys(), type=\"auteur\")\n",
    "\n",
    "\n",
    "for k,v in elu_par.items():\n",
    "    nx.set_node_attributes(G,k, k)\n",
    "    for v2 in v:\n",
    "        G.add_edge(k,v2)\n",
    "\n",
    "nx.draw(G)\n",
    "plt.show()\n"
   ]
  },
  {
   "cell_type": "code",
   "execution_count": null,
   "metadata": {
    "collapsed": true
   },
   "outputs": [],
   "source": [
    "G = nx.Graph()"
   ]
  },
  {
   "cell_type": "code",
   "execution_count": null,
   "metadata": {
    "collapsed": true
   },
   "outputs": [],
   "source": []
  }
 ],
 "metadata": {
  "kernelspec": {
   "display_name": "Python 2",
   "language": "python",
   "name": "python2"
  },
  "language_info": {
   "codemirror_mode": {
    "name": "ipython",
    "version": 2
   },
   "file_extension": ".py",
   "mimetype": "text/x-python",
   "name": "python",
   "nbconvert_exporter": "python",
   "pygments_lexer": "ipython2",
   "version": "2.7.6"
  }
 },
 "nbformat": 4,
 "nbformat_minor": 0
}
