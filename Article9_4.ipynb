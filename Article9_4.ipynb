{
 "cells": [
  {
   "cell_type": "markdown",
   "metadata": {},
   "source": [
    "# Article 9\n",
    "Une version courte pour moi même en multiple notebooks\n",
    "\n",
    "1. **Version originale de l'article 9 (VO)**  \n",
    "    * L'Article 9 (VO)\n",
    "    * Les statistique de l'article 9 (VO)\n",
    "    \n",
    "2. **Versions complémentaires de l'article 9**\n",
    "    \n",
    "    * Les versions (Versions)\n",
    "    \n",
    "    * Les statistiques de participations de versions\n",
    "\n",
    "3. **Comparaison des versions (VO vs Versions)**\n",
    "    \n",
    "    * Version originale\n",
    "    \n",
    "    * Versions complémentaires\n",
    "    \n",
    "    * Ajout de la version orginale aux versions\n",
    "\n",
    "4. **Participants**\n",
    "\n",
    "    * Ensemble des participants\n",
    "    \n",
    "    * Electeurs de l'article 9\n",
    "\n",
    "5. **Votes**\n",
    "    * Les types de votes\n",
    "\n"
   ]
  },
  {
   "cell_type": "code",
   "execution_count": 30,
   "metadata": {
    "collapsed": true,
    "scrolled": true
   },
   "outputs": [],
   "source": [
    "#import des modules\n",
    "\n",
    "#lecture des json\n",
    "import json \n",
    "\n",
    "#affichage des valeurs identées\n",
    "import pprint\n",
    "pp = pprint.PrettyPrinter(indent=4, )\n",
    "\n",
    "#affichage des graphs\n",
    "import matplotlib.pyplot as plt\n",
    "import numpy as np\n",
    "%matplotlib inline\n"
   ]
  },
  {
   "cell_type": "markdown",
   "metadata": {},
   "source": [
    "## Version originale de l'article 9\n",
    "#### L'article 9 VO\n",
    "\n",
    "Le fichier article9.json contient toutes les informations relatives à l'article 9 du PJL sur le numérique"
   ]
  },
  {
   "cell_type": "code",
   "execution_count": 31,
   "metadata": {
    "collapsed": false,
    "scrolled": true
   },
   "outputs": [],
   "source": [
    "#chargement de l'article 9\n",
    "with open(\"article9.json\", \"r\") as f:\n",
    "    article9 = json.load(f)"
   ]
  },
  {
   "cell_type": "markdown",
   "metadata": {},
   "source": [
    "On va stocker le détail des **participations** de l'article 9 dans **ref_article9**\n",
    "de la manière suivante:"
   ]
  },
  {
   "cell_type": "code",
   "execution_count": 32,
   "metadata": {
    "collapsed": false,
    "scrolled": true
   },
   "outputs": [],
   "source": [
    "ref_article9 = {\n",
    "                \"date\": article9[\"created_at\"],\n",
    "                \"slug\": article9[\"article_link\"].split(\"/\")[-1],\n",
    "                \"title\": article9[\"article_link\"].split(\"/\")[-1].replace(\"-\", \" \"),\n",
    "                \"text\": article9['body'],\n",
    "                \"author\": article9[\"author\"],\n",
    "                \"votes\":[], \n",
    "                \"arguments\":article9[\"arguments\"], \n",
    "                \"sources\":article9[\"sources\"],\n",
    "                \"versions\":article9[\"versions\"]\n",
    "               }\n",
    "#print ref_article9"
   ]
  },
  {
   "cell_type": "markdown",
   "metadata": {},
   "source": [
    "#### Stats de V0\n",
    "Maintenant on va stocker les statistiques de l'article9 dans **stat_article9**"
   ]
  },
  {
   "cell_type": "code",
   "execution_count": 33,
   "metadata": {
    "collapsed": false,
    "scrolled": true
   },
   "outputs": [
    {
     "name": "stdout",
     "output_type": "stream",
     "text": [
      "{   'arguments': {   'total': 132},\n",
      "    'sources': {   'pour': 0, 'total': 22},\n",
      "    'total': {   'arguments': 132, 'sources': 22, 'versions': 108, 'votes': 3334},\n",
      "    'versions': {   'total': 108},\n",
      "    'votes': {   'contre': 1732, 'neutre': 282, 'pour': 1320, 'total': 3334}}\n"
     ]
    }
   ],
   "source": [
    "stats_article9 = {\"votes\":{}, \"arguments\": {}, \"versions\":{}, \"sources\":{}, \"total\":{}}\n",
    "for k,v in article9.items():\n",
    "    if k.startswith(\"votes_\"):\n",
    "        #un petit raccourci\n",
    "        les_votes = stats_article9[\"votes\"]\n",
    "        if k == \"votes_nok\":\n",
    "            les_votes[\"contre\"] = v\n",
    "        elif k == \"votes_ok\":\n",
    "            les_votes[\"pour\"] = v\n",
    "        elif k == \"votes_mitige\":\n",
    "            les_votes[\"neutre\"] = v\n",
    "        else:\n",
    "            les_votes[\"total\"] = v\n",
    "            stats_article9[\"total\"][\"votes\"] = v\n",
    "    elif k.startswith(\"arguments_\"):\n",
    "        #un petit raccourci\n",
    "        les_arguments = stats_article9[\"arguments\"]\n",
    "        if k == \"arguments_yes_count\":\n",
    "            les_arguments[\"pour\"] = v\n",
    "        elif k == \"arguments_no_count\":\n",
    "            les_arguments[\"contre\"] = v\n",
    "        else:\n",
    "            les_arguments[\"total\"] = v\n",
    "            stats_article9[\"total\"][\"arguments\"] = v\n",
    "\n",
    "\n",
    "    elif k.startswith(\"sources_\"):\n",
    "        #un petit raccourci\n",
    "        les_sources = stats_article9[\"sources\"]\n",
    "        les_sources[\"total\"] = v\n",
    "        #on a pas encore les détails des votes sur les sources\n",
    "        #on l'instancie à 0 pour retrouver ça plus tard dans les votes\n",
    "        les_sources[\"pour\"] = 0\n",
    "        stats_article9[\"total\"][\"sources\"] = v\n",
    "    elif k.startswith(\"versions_\"):\n",
    "        stats_article9[\"versions\"] = {\"total\":v}\n",
    "        stats_article9[\"total\"][\"versions\"] = v\n",
    "pp.pprint(stats_article9)"
   ]
  },
  {
   "cell_type": "markdown",
   "metadata": {},
   "source": [
    "#### Apercu de la version originale de l'article 9\n",
    "* Les participations:"
   ]
  },
  {
   "cell_type": "code",
   "execution_count": 34,
   "metadata": {
    "collapsed": false,
    "scrolled": true
   },
   "outputs": [
    {
     "name": "stdout",
     "output_type": "stream",
     "text": [
      "{'sources': 22, 'votes': 3334, 'arguments': 132, 'versions': 108}\n"
     ]
    },
    {
     "data": {
      "image/png": "[encoded data removed]",
      "text/plain": [
       "<matplotlib.figure.Figure at 0x7f1ea2990310>"
      ]
     },
     "metadata": {},
     "output_type": "display_data"
    }
   ],
   "source": [
    "plt.bar(range(len(stats_article9[\"total\"])), stats_article9[\"total\"].values(), align='center')\n",
    "plt.xticks(range(len(stats_article9[\"total\"])), stats_article9[\"total\"].keys())\n",
    "print stats_article9[\"total\"]\n",
    "plt.show()"
   ]
  },
  {
   "cell_type": "markdown",
   "metadata": {},
   "source": [
    "* La répartition des votes comptabilisés"
   ]
  },
  {
   "cell_type": "code",
   "execution_count": 35,
   "metadata": {
    "collapsed": false,
    "scrolled": true
   },
   "outputs": [
    {
     "data": {
      "image/png": "[encoded data removed]",
      "text/plain": [
       "<matplotlib.figure.Figure at 0x7f1ec0132850>"
      ]
     },
     "metadata": {},
     "output_type": "display_data"
    }
   ],
   "source": [
    "from collections import OrderedDict\n",
    "votes_vo = OrderedDict({k:v for k,v in stats_article9[\"votes\"].items() if k != \"total\"})\n",
    "colors = [\"blue\", \"red\", \"green\"]\n",
    "legend = [\" \".join([k,\":\",str(v),\"votes\"]) for k, v in votes_vo.items()]\n",
    "plt.pie(votes_vo.values(), colors=colors,shadow=True, startangle=90)\n",
    "plt.legend(legend)\n",
    "plt.title(\"Votes sur la Version originale\")\n",
    "plt.axis('equal')\n",
    "plt.show()"
   ]
  },
  {
   "cell_type": "markdown",
   "metadata": {},
   "source": [
    "## Versions complémentaires de l'article 9\n",
    "L'article 9 a donc eu 108 versions complémentaires soumises elles aussi aux votes et aux arguments"
   ]
  },
  {
   "cell_type": "markdown",
   "metadata": {},
   "source": [
    "#### Les 108 versions complémentaires\n"
   ]
  },
  {
   "cell_type": "code",
   "execution_count": 36,
   "metadata": {
    "collapsed": false,
    "scrolled": true
   },
   "outputs": [],
   "source": [
    "versions = {}\n",
    "for version in ref_article9[\"versions\"]:\n",
    "    versions[version[\"slug\"]] = {\"author\": version[\"author\"],\n",
    "                                 \"title\": version['title'],\n",
    "                                 \"text\":version[\"after\"], \n",
    "                                 \"arguments\":[], \n",
    "                                 \"votes\": [], \n",
    "                                 \"sources\":[],\n",
    "                                 \"date\": version[\"created_at\"]\n",
    "                                }"
   ]
  },
  {
   "cell_type": "markdown",
   "metadata": {},
   "source": [
    "#### Les statistiques des versions complémentaires\n"
   ]
  },
  {
   "cell_type": "code",
   "execution_count": 37,
   "metadata": {
    "collapsed": false,
    "scrolled": true
   },
   "outputs": [
    {
     "name": "stdout",
     "output_type": "stream",
     "text": [
      "(   u'ne-pas-oublier-les-sets-de-donnees-lies-a-un-article',\n",
      "    {   'arguments': {   'contre': 4, 'neutre': 0, 'pour': 3, 'total': 7},\n",
      "        'sources': {   'pour': 0, 'total': 0},\n",
      "        'total': {   'arguments': 7, 'sources': 0, 'votes': 87},\n",
      "        'votes': {   'contre': 2, 'neutre': 6, 'pour': 0, 'total': 87}})\n"
     ]
    }
   ],
   "source": [
    "stats_versions = {}\n",
    "for version in ref_article9[\"versions\"]:\n",
    "    stats_versions[version[\"slug\"]] = {\"arguments\":{\"pour\":0, \"contre\":0, \"neutre\":0, \"total\":0}, \n",
    "                                        \"votes\":{\"pour\":0, \"contre\":0, \"neutre\":0, \"total\":0}, \n",
    "                                       \"sources\":{\"total\": 0, \"pour\":0}, \n",
    "                                       \"total\": {\"votes\":0, \"arguments\":0, \"sources\":0}\n",
    "                                      }\n",
    "    #print pp.pprint(sorted(version.keys()))\n",
    "    for k, v in version.items():\n",
    "        if k.startswith(\"arguments\"):\n",
    "            if \"_yes\" in k:\n",
    "                stats_versions[version[\"slug\"]][\"arguments\"][\"pour\"] = v\n",
    "            elif \"_no\" in k:\n",
    "                stats_versions[version[\"slug\"]][\"arguments\"][\"contre\"] = v\n",
    "            else:\n",
    "                stats_versions[version[\"slug\"]][\"arguments\"][\"total\"] = v\n",
    "                stats_versions[version[\"slug\"]][\"total\"][\"arguments\"] = v\n",
    "        elif k.startswith(\"votes\"):\n",
    "            if \"total\" in k:\n",
    "                stats_versions[version[\"slug\"]][\"votes\"][\"total\"] = v\n",
    "                stats_versions[version[\"slug\"]][\"total\"][\"votes\"] = v\n",
    "            elif \"nok\" in k:\n",
    "                stats_versions[version[\"slug\"]][\"votes\"][\"contre\"] = v\n",
    "            else:\n",
    "                stats_versions[version[\"slug\"]][\"votes\"][\"neutre\"] = v\n",
    "                #manque votes_ok\n",
    "        else:\n",
    "            pass\n",
    "    \n",
    "pp.pprint(stats_versions.items()[1])"
   ]
  },
  {
   "cell_type": "code",
   "execution_count": 38,
   "metadata": {
    "collapsed": false,
    "scrolled": true
   },
   "outputs": [
    {
     "name": "stdout",
     "output_type": "stream",
     "text": [
      "(   u'ne-pas-oublier-les-sets-de-donnees-lies-a-un-article',\n",
      "    {   'arguments': {   'contre': 4, 'neutre': 0, 'pour': 3, 'total': 7},\n",
      "        'sources': {   'pour': 0, 'total': 0},\n",
      "        'total': {   'arguments': 7, 'sources': 0, 'votes': 87},\n",
      "        'votes': {   'contre': 2, 'neutre': 6, 'pour': 79, 'total': 87}})\n"
     ]
    }
   ],
   "source": [
    "#Les stats de votes pour sont toujours à 0 et manquantes: correction\n",
    "for v in stats_versions.values():\n",
    "    v[\"votes\"][\"pour\"] = v[\"votes\"][\"total\"] - (v[\"votes\"][\"neutre\"]+v[\"votes\"][\"contre\"])\n",
    "    \n",
    "pp.pprint(stats_versions.items()[1])"
   ]
  },
  {
   "cell_type": "markdown",
   "metadata": {},
   "source": [
    "## Comparaison des versions\n",
    "\n",
    "### Version originale\n",
    "* pour rappel les participations de la version originale\n"
   ]
  },
  {
   "cell_type": "code",
   "execution_count": 39,
   "metadata": {
    "collapsed": false,
    "scrolled": true
   },
   "outputs": [
    {
     "name": "stdout",
     "output_type": "stream",
     "text": [
      "{'sources': 22, 'votes': 3334, 'arguments': 132, 'versions': 108}\n"
     ]
    }
   ],
   "source": [
    "print stats_article9[\"total\"]\n"
   ]
  },
  {
   "cell_type": "markdown",
   "metadata": {},
   "source": [
    "* pour rappel les repartitions des votes"
   ]
  },
  {
   "cell_type": "code",
   "execution_count": 40,
   "metadata": {
    "collapsed": false,
    "scrolled": true
   },
   "outputs": [
    {
     "name": "stdout",
     "output_type": "stream",
     "text": [
      "OrderedDict([('neutre', 282), ('contre', 1732), ('pour', 1320)])\n"
     ]
    }
   ],
   "source": [
    "print votes_vo"
   ]
  },
  {
   "cell_type": "markdown",
   "metadata": {},
   "source": [
    "### Versions supplémentaires\n",
    "* les votes par version\n",
    "\n"
   ]
  },
  {
   "cell_type": "code",
   "execution_count": 41,
   "metadata": {
    "collapsed": false,
    "scrolled": true
   },
   "outputs": [
    {
     "data": {
      "image/png": "[encoded data removed]",
      "text/plain": [
       "<matplotlib.figure.Figure at 0x7f1eba5aa410>"
      ]
     },
     "metadata": {},
     "output_type": "display_data"
    }
   ],
   "source": [
    "votes_versions = []\n",
    "for k,v in stats_versions.items():\n",
    "    votes_versions.append(v[\"total\"][\"votes\"])\n",
    "\n",
    "plt.bar(range(len(votes_versions)), votes_versions, align='center')\n",
    "#plt.xticks(range(len(votes_versions)), [str(x) for x in range(len(votes_versions))])\n",
    "plt.title(\"Repartition des votes sur les versions de l'article\")\n",
    "plt.show()\n"
   ]
  },
  {
   "cell_type": "code",
   "execution_count": 42,
   "metadata": {
    "collapsed": false,
    "scrolled": true
   },
   "outputs": [
    {
     "name": "stdout",
     "output_type": "stream",
     "text": [
      "Pour un total de :\n",
      "9517 votes\n"
     ]
    }
   ],
   "source": [
    "#nombre de votes au total pour les autres versions\n",
    "print \"Pour un total de :\"\n",
    "print sum(votes_versions), \"votes\""
   ]
  },
  {
   "cell_type": "markdown",
   "metadata": {},
   "source": [
    "* les arguments par version\n"
   ]
  },
  {
   "cell_type": "code",
   "execution_count": 43,
   "metadata": {
    "collapsed": false,
    "scrolled": true
   },
   "outputs": [
    {
     "data": {
      "image/png": "[encoded data removed]",
      "text/plain": [
       "<matplotlib.figure.Figure at 0x7f1ec00cd250>"
      ]
     },
     "metadata": {},
     "output_type": "display_data"
    }
   ],
   "source": [
    "args_versions = []\n",
    "for k,v in stats_versions.items():\n",
    "    args_versions.append(v[\"total\"][\"arguments\"])\n",
    "\n",
    "plt.bar(range(len(args_versions)), args_versions, align='center')\n",
    "#plt.xticks(range(len(votes_versions)), [str(x) for x in range(len(votes_versions))])\n",
    "plt.title(\"Repartition des arguments par versions de l'article\")\n",
    "plt.show()"
   ]
  },
  {
   "cell_type": "code",
   "execution_count": 44,
   "metadata": {
    "collapsed": false,
    "scrolled": true
   },
   "outputs": [
    {
     "name": "stdout",
     "output_type": "stream",
     "text": [
      "Pour un total de :\n",
      "349 arguments\n"
     ]
    }
   ],
   "source": [
    "#nombre d'arguments au total pour les autres versions\n",
    "print \"Pour un total de :\"\n",
    "print sum(args_versions), \"arguments\""
   ]
  },
  {
   "cell_type": "markdown",
   "metadata": {},
   "source": [
    "* les stats de participations compilées des différentes versions\n"
   ]
  },
  {
   "cell_type": "code",
   "execution_count": 45,
   "metadata": {
    "collapsed": false,
    "scrolled": true
   },
   "outputs": [],
   "source": [
    "stats_versions[\"total\"] = {\"arguments\":sum(args_versions), \"votes\": sum(votes_versions), \"sources\": 0}"
   ]
  },
  {
   "cell_type": "code",
   "execution_count": 46,
   "metadata": {
    "collapsed": false,
    "scrolled": true
   },
   "outputs": [
    {
     "name": "stdout",
     "output_type": "stream",
     "text": [
      "{'sources': 0, 'votes': 9517, 'arguments': 349}\n"
     ]
    },
    {
     "data": {
      "image/png": "[encoded data removed]",
      "text/plain": [
       "<matplotlib.figure.Figure at 0x7f1ea29e7250>"
      ]
     },
     "metadata": {},
     "output_type": "display_data"
    }
   ],
   "source": [
    "plt.bar(range(len(stats_versions[\"total\"])), stats_versions[\"total\"].values(), align='center')\n",
    "plt.xticks(range(len(stats_versions[\"total\"])), stats_versions[\"total\"].keys())\n",
    "print stats_versions[\"total\"]\n",
    "plt.show()"
   ]
  },
  {
   "cell_type": "code",
   "execution_count": 47,
   "metadata": {
    "collapsed": false,
    "scrolled": true
   },
   "outputs": [
    {
     "name": "stdout",
     "output_type": "stream",
     "text": [
      "{   'arguments': {   'contre': 149, 'pour': 200, 'total': 349},\n",
      "    'sources': {   'pour': 0, 'total': 0},\n",
      "    'total': {   'arguments': 349, 'sources': 0, 'votes': 9517},\n",
      "    'votes': {   'contre': 1693, 'neutre': 218, 'pour': 7606, 'total': 9517}}\n"
     ]
    }
   ],
   "source": [
    "#on ajoute de la meme manière que pour stats_article9 les versions compilées\n",
    "#print stats_versions.keys()\n",
    "#dans un autre dictionnaire pour ne pas melanger les stats par versions\n",
    "\n",
    "\n",
    "stats_versions_total = {\"arguments\":{\"total\": [], \"pour\": [], \"contre\":[]}, \n",
    "                        \"votes\":{\"total\": sum(votes_versions), \"pour\": [], \"contre\":[], \"neutre\":[]}, \n",
    "                        \"sources\":{\"total\":0, \"pour\": 0}, \n",
    "                        \"total\":{\"votes\":sum(votes_versions), \"arguments\":sum(args_versions), \"sources\": 0}}\n",
    "\n",
    "\n",
    "for k, v in stats_versions.items():\n",
    "    if k == \"arguments\":\n",
    "        del k\n",
    "    elif k == \"votes\":\n",
    "        del k\n",
    "    elif k == \"total\":\n",
    "        del k\n",
    "    elif k == \"sources\":\n",
    "        del k\n",
    "    else:\n",
    "        try:\n",
    "            stats_versions_total[\"votes\"][\"pour\"].append(v[\"votes\"][\"pour\"])\n",
    "            stats_versions_total[\"votes\"][\"contre\"].append(v[\"votes\"][\"contre\"])\n",
    "            stats_versions_total[\"votes\"][\"neutre\"].append(v[\"votes\"][\"neutre\"])\n",
    "            stats_versions_total[\"arguments\"][\"total\"].append(v[\"arguments\"][\"total\"])\n",
    "            stats_versions_total[\"arguments\"][\"pour\"].append(v[\"arguments\"][\"pour\"])\n",
    "            stats_versions_total[\"arguments\"][\"contre\"].append(v[\"arguments\"][\"contre\"])\n",
    "        except KeyError:\n",
    "            print k\n",
    "    \n",
    "#et on somme\n",
    "stats_versions_total[\"votes\"][\"contre\"] = sum(stats_versions_total[\"votes\"][\"contre\"])\n",
    "stats_versions_total[\"votes\"][\"pour\"] = sum(stats_versions_total[\"votes\"][\"pour\"])\n",
    "stats_versions_total[\"votes\"][\"neutre\"] = sum(stats_versions_total[\"votes\"][\"neutre\"])\n",
    "stats_versions_total[\"arguments\"][\"total\"]= sum(stats_versions_total[\"arguments\"][\"total\"])\n",
    "stats_versions_total[\"arguments\"][\"pour\"]= sum(stats_versions_total[\"arguments\"][\"pour\"])\n",
    "stats_versions_total[\"arguments\"][\"contre\"]= sum(stats_versions_total[\"arguments\"][\"contre\"])\n",
    "pp.pprint(stats_versions_total)\n"
   ]
  },
  {
   "cell_type": "markdown",
   "metadata": {},
   "source": [
    "* répartition des votes pour les versions\n"
   ]
  },
  {
   "cell_type": "code",
   "execution_count": 48,
   "metadata": {
    "collapsed": false,
    "scrolled": true
   },
   "outputs": [
    {
     "data": {
      "image/png": "[encoded data removed]",
      "text/plain": [
       "<matplotlib.figure.Figure at 0x7f1ea25a8d10>"
      ]
     },
     "metadata": {},
     "output_type": "display_data"
    }
   ],
   "source": [
    "votes_versions = OrderedDict({k:v for k,v in stats_versions_total[\"votes\"].items() if k != \"total\"})\n",
    "colors = [\"blue\", \"red\", \"green\"]\n",
    "legend = [\" \".join([k,\":\",str(v),\"votes\"]) for k, v in votes_versions.items()]\n",
    "plt.pie(votes_versions.values(), colors=colors,shadow=True, startangle=90)\n",
    "plt.title(\"Votes sur les versions\")\n",
    "plt.legend(legend)\n",
    "plt.axis('equal')\n",
    "plt.show()"
   ]
  },
  {
   "cell_type": "markdown",
   "metadata": {},
   "source": [
    "* repartition des votes sur les arguments pour les versions"
   ]
  },
  {
   "cell_type": "code",
   "execution_count": 49,
   "metadata": {
    "collapsed": false,
    "scrolled": true
   },
   "outputs": [
    {
     "name": "stdout",
     "output_type": "stream",
     "text": [
      "OrderedDict([('contre', 149), ('pour', 200)])\n"
     ]
    },
    {
     "data": {
      "image/png": "[encoded data removed]",
      "text/plain": [
       "<matplotlib.figure.Figure at 0x7f1eba5aa410>"
      ]
     },
     "metadata": {},
     "output_type": "display_data"
    }
   ],
   "source": [
    "args_versions = OrderedDict({k:v for k,v in stats_versions_total[\"arguments\"].items() if k != \"total\"})\n",
    "print args_versions\n",
    "colors = [\"red\", \"green\"]\n",
    "legend = [\" \".join([k,\":\",str(v),\"arguments\"]) for k, v in args_versions.items()]\n",
    "plt.pie(args_versions.values(), colors=colors,shadow=True, startangle=90)\n",
    "plt.title(\"Votes sur les arguments des versions\")\n",
    "plt.legend(legend)\n",
    "plt.axis('equal')\n",
    "plt.show()"
   ]
  },
  {
   "cell_type": "markdown",
   "metadata": {},
   "source": [
    "## Ajout de la version orginale aux versions"
   ]
  },
  {
   "cell_type": "markdown",
   "metadata": {},
   "source": [
    "* Ajout de la version originale dans le referentiel des versions"
   ]
  },
  {
   "cell_type": "code",
   "execution_count": 50,
   "metadata": {
    "collapsed": false,
    "scrolled": true
   },
   "outputs": [],
   "source": [
    "versions[ref_article9[\"slug\"]] = ref_article9"
   ]
  },
  {
   "cell_type": "markdown",
   "metadata": {},
   "source": [
    "* Ajout des stats de  votes de la version original aux stats de votes dans les stats_versions_total"
   ]
  },
  {
   "cell_type": "code",
   "execution_count": 51,
   "metadata": {
    "collapsed": false,
    "scrolled": true
   },
   "outputs": [
    {
     "name": "stdout",
     "output_type": "stream",
     "text": [
      "{'neutre': 500, 'total': 9517, 'contre': 3425, 'pour': 8926}\n"
     ]
    }
   ],
   "source": [
    "#On ajoute le total des votes pour l'article 9 aux stats de versions\n",
    "stats_versions_total[\"total\"][\"votes\"] += stats_article9[\"total\"][\"votes\"]\n",
    "#De même pour la répartition\n",
    "stats_versions_total[\"votes\"][\"pour\"] += stats_article9[\"votes\"][\"pour\"]\n",
    "stats_versions_total[\"votes\"][\"contre\"] += stats_article9[\"votes\"][\"contre\"]\n",
    "stats_versions_total[\"votes\"][\"neutre\"] += stats_article9[\"votes\"][\"neutre\"]\n",
    "\n",
    "print stats_versions_total[\"votes\"]"
   ]
  },
  {
   "cell_type": "markdown",
   "metadata": {},
   "source": [
    "* repartition des votes au total:"
   ]
  },
  {
   "cell_type": "code",
   "execution_count": 52,
   "metadata": {
    "collapsed": false,
    "scrolled": true
   },
   "outputs": [
    {
     "data": {
      "image/png": "[encoded data removed]",
      "text/plain": [
       "<matplotlib.figure.Figure at 0x7f1ea25a8d10>"
      ]
     },
     "metadata": {},
     "output_type": "display_data"
    }
   ],
   "source": [
    "votes_versions = OrderedDict({k:v for k,v in stats_versions_total[\"votes\"].items() if k != \"total\"})\n",
    "colors = [\"blue\", \"red\", \"green\"]\n",
    "#plt.title(\"Votes sur les 109 versions\")\n",
    "legend = [\" \".join([k,\":\",str(v),\"votes\"]) for k, v in votes_versions.items()]\n",
    "plt.pie(votes_versions.values(), labels=legend, colors=colors,shadow=True, startangle=90)\n",
    "plt.axis('equal')\n",
    "\n",
    "plt.show()"
   ]
  },
  {
   "cell_type": "markdown",
   "metadata": {},
   "source": [
    "* Ajout des stats d'arguments de la version original aux stats d'arguments dans les stats_versions_total\n",
    "\n",
    "La difficulté ici réside dans le fait que dans l'article original \n",
    "le nombre d'arguments recensé est de 132\n",
    "et le total des votes n'est pas encore mentionné\n",
    "tandis que dans les versions les arguments désigne les votes sur les arguments\n",
    "le total des votes est de 349 tandis que le nombre de votes est manquant\n",
    "mais qu'on peut supposer qu'un vote = 1 argument"
   ]
  },
  {
   "cell_type": "code",
   "execution_count": 53,
   "metadata": {
    "collapsed": false,
    "scrolled": true
   },
   "outputs": [
    {
     "name": "stdout",
     "output_type": "stream",
     "text": [
      "Arguments dans VO {'nb': 132, 'total': None, 'contre': None, 'pour': None}\n",
      "Arguments des versions: {'nb': None, 'total': 349, 'contre': 149, 'pour': 200}\n"
     ]
    }
   ],
   "source": [
    "#On ajoute le total des arguments pour l'article 9 aux stats de versions\n",
    "#pour rappel\n",
    "#les arguments de la VO\n",
    "#copy ne marche pas si on le relance\n",
    "nb = stats_article9[\"arguments\"][\"total\"]\n",
    "stats_article9[\"arguments\"]= {\"pour\": None, \"contre\":None, \"total\":None, \"nb\": nb}\n",
    "\n",
    "print \"Arguments dans VO\", stats_article9[\"arguments\"]\n",
    "\n",
    "stats_versions_total[\"arguments\"][\"nb\"] = None\n",
    "print \"Arguments des versions:\", stats_versions_total[\"arguments\"]\n",
    "\n",
    "\n"
   ]
  },
  {
   "cell_type": "markdown",
   "metadata": {},
   "source": [
    "* Ajout des votes sur les arguments de la V0\n",
    "\n",
    "Le nombre de votes pour les 132 arguments de la VO \n",
    "doivent etre disponible dans ```ref_article9[\"arguments\"]```"
   ]
  },
  {
   "cell_type": "code",
   "execution_count": 54,
   "metadata": {
    "collapsed": false,
    "scrolled": true
   },
   "outputs": [
    {
     "ename": "NameError",
     "evalue": "name 'args_article9' is not defined",
     "output_type": "error",
     "traceback": [
      "\u001b[1;31m---------------------------------------------------------------------------\u001b[0m",
      "\u001b[1;31mNameError\u001b[0m                                 Traceback (most recent call last)",
      "\u001b[1;32m<ipython-input-54-63d239e43ad1>\u001b[0m in \u001b[0;36m<module>\u001b[1;34m()\u001b[0m\n\u001b[0;32m      4\u001b[0m \u001b[1;32mfor\u001b[0m \u001b[0marg\u001b[0m \u001b[1;32min\u001b[0m \u001b[0mref_article9\u001b[0m\u001b[1;33m[\u001b[0m\u001b[1;34m\"arguments\"\u001b[0m\u001b[1;33m]\u001b[0m\u001b[1;33m:\u001b[0m\u001b[1;33m\u001b[0m\u001b[0m\n\u001b[0;32m      5\u001b[0m     \u001b[0mvotes_args_article9\u001b[0m\u001b[1;33m[\u001b[0m\u001b[0marg\u001b[0m\u001b[1;33m[\u001b[0m\u001b[1;34m\"id\"\u001b[0m\u001b[1;33m]\u001b[0m\u001b[1;33m]\u001b[0m \u001b[1;33m=\u001b[0m \u001b[0mint\u001b[0m\u001b[1;33m(\u001b[0m\u001b[0marg\u001b[0m\u001b[1;33m[\u001b[0m\u001b[1;34m\"votes_count\"\u001b[0m\u001b[1;33m]\u001b[0m\u001b[1;33m)\u001b[0m\u001b[1;33m\u001b[0m\u001b[0m\n\u001b[1;32m----> 6\u001b[1;33m \u001b[0mstats_article9\u001b[0m\u001b[1;33m[\u001b[0m\u001b[1;34m\"arguments\"\u001b[0m\u001b[1;33m]\u001b[0m\u001b[1;33m[\u001b[0m\u001b[1;34m\"total\"\u001b[0m\u001b[1;33m]\u001b[0m \u001b[1;33m=\u001b[0m  \u001b[0msum\u001b[0m\u001b[1;33m(\u001b[0m\u001b[1;33m[\u001b[0m\u001b[0mv\u001b[0m \u001b[1;32mfor\u001b[0m \u001b[0mv\u001b[0m \u001b[1;32min\u001b[0m \u001b[0margs_article9\u001b[0m\u001b[1;33m.\u001b[0m\u001b[0mvalues\u001b[0m\u001b[1;33m(\u001b[0m\u001b[1;33m)\u001b[0m\u001b[1;33m]\u001b[0m\u001b[1;33m)\u001b[0m\u001b[1;33m\u001b[0m\u001b[0m\n\u001b[0m\u001b[0;32m      7\u001b[0m \u001b[1;31m#nb d'arguments, nb de votes, votes_pour, votes_contre\u001b[0m\u001b[1;33m\u001b[0m\u001b[1;33m\u001b[0m\u001b[0m\n\u001b[0;32m      8\u001b[0m \u001b[1;32mprint\u001b[0m \u001b[1;34m\"Votes sur les arguments de la VO\"\u001b[0m\u001b[1;33m\u001b[0m\u001b[0m\n",
      "\u001b[1;31mNameError\u001b[0m: name 'args_article9' is not defined"
     ]
    }
   ],
   "source": [
    "#dictionnaire des votes sur les arguments\n",
    "votes_args_article9 = {}\n",
    "\n",
    "for arg in ref_article9[\"arguments\"]:\n",
    "    votes_args_article9[arg[\"id\"]] = int(arg[\"votes_count\"])\n",
    "stats_article9[\"arguments\"][\"total\"] =  sum([v for v in args_article9.values()])\n",
    "#nb d'arguments, nb de votes, votes_pour, votes_contre\n",
    "print \"Votes sur les arguments de la VO\"\n",
    "print stats_article9[\"arguments\"]\n",
    "print \"Votes sur les arguments des VC\"\n",
    "print stats_versions_total[\"arguments\"]\n",
    "#On a juste besoin du nombre total de votes sur les arguments dans les versions_stats_total\n",
    "#puisque le reste des repartitions n'est que partiel\n",
    "\n",
    "stats_versions_total[\"arguments\"][\"total\"] =  stats_article9[\"arguments\"][\"total\"] +stats_versions_total[\"arguments\"][\"total\"]\n",
    "print \"Votes totaux\"\n",
    "stats_versions_total"
   ]
  },
  {
   "cell_type": "markdown",
   "metadata": {},
   "source": [
    "* Ajout des votes sur les sources de la V0\n"
   ]
  },
  {
   "cell_type": "code",
   "execution_count": null,
   "metadata": {
    "collapsed": false,
    "scrolled": true
   },
   "outputs": [],
   "source": [
    "print stats_article9[\"sources\"]"
   ]
  },
  {
   "cell_type": "markdown",
   "metadata": {},
   "source": [
    "Le nombre de votes pour les 22 sources de la VO doivent etre disponible dans ```ref_article9[\"sources\"]```"
   ]
  },
  {
   "cell_type": "code",
   "execution_count": null,
   "metadata": {
    "collapsed": false,
    "scrolled": true
   },
   "outputs": [],
   "source": [
    "votes_sources_article9 = {}\n",
    "for n in ref_article9[\"sources\"]:\n",
    "    votes_sources_article9[n[\"id\"]] = int(n[\"votes_count\"])\n",
    "print len(votes_sources_article9.keys()),\"sources ont généré\", sum(votes_sources_article9.values()),\"votes\"\n",
    "\n",
    "stats_article9[\"sources\"][\"pour\"] = sum(votes_sources_article9.values())\n",
    "stats_article9[\"sources\"][\"nb\"] = stats_article9[\"sources\"][\"total\"]\n",
    "stats_article9[\"sources\"][\"total\"] =  sum(votes_sources_article9.values())\n",
    "print stats_article9[\"sources\"]\n",
    "stats_versions_total[\"sources\"] =  stats_article9[\"sources\"]"
   ]
  },
  {
   "cell_type": "markdown",
   "metadata": {},
   "source": [
    "! On a donc légèrement changé la nomenclature des stats\n",
    "arguments[\"nb\"] correspond au nb d'arguments tandis que le total correspond au nb de votes sur les arguments\n",
    "sources[\"nb\"] correspond au nb de sources tandis que le total correspond au nb de votes sur les sources\n",
    "\n",
    "On va mettre à jour les totaux pur qu'ils correspondent aux nombre de votes sur les articles(votes) les sources ou les arguments"
   ]
  },
  {
   "cell_type": "code",
   "execution_count": null,
   "metadata": {
    "collapsed": false
   },
   "outputs": [],
   "source": [
    "print stats_versions_total[\"total\"]"
   ]
  },
  {
   "cell_type": "code",
   "execution_count": null,
   "metadata": {
    "collapsed": false
   },
   "outputs": [],
   "source": [
    "stats_versions_total[\"total\"][\"sources\"] = stats_versions_total[\"sources\"][\"total\"]\n",
    "stats_versions_total[\"total\"][\"arguments\"] = stats_versions_total[\"arguments\"][\"total\"]\n",
    "print stats_versions_total[\"total\"]"
   ]
  },
  {
   "cell_type": "markdown",
   "metadata": {},
   "source": [
    "## Electeurs"
   ]
  },
  {
   "cell_type": "markdown",
   "metadata": {},
   "source": [
    "### participants = electeur"
   ]
  },
  {
   "cell_type": "code",
   "execution_count": 55,
   "metadata": {
    "collapsed": false,
    "scrolled": true
   },
   "outputs": [
    {
     "name": "stdout",
     "output_type": "stream",
     "text": [
      "21329 participants sur l'ensemble des articles\n"
     ]
    }
   ],
   "source": [
    "#On charge le fichiers participants qui contient toutes les actions de chaque participant\n",
    "#Ici on ne s'intéresse qu'aux votes\n",
    "#qui sont détaillés par participants\n",
    "with open(\"participants.json\", \"r\") as f:\n",
    "    data = json.load(f)\n",
    "    participants = data[\"participants\"]\n",
    "#Verifions le nombre de participants\n",
    "print len(participants), \"participants sur l'ensemble des articles\""
   ]
  },
  {
   "cell_type": "markdown",
   "metadata": {},
   "source": [
    "### electeurs de l'article9"
   ]
  },
  {
   "cell_type": "code",
   "execution_count": 56,
   "metadata": {
    "collapsed": false,
    "scrolled": true
   },
   "outputs": [],
   "source": [
    "#Nous allons constituer un dictionnaire \n",
    "#qui ne contient que les electeurs qui ont vote sur l'article9\n",
    "#qui contient l'ensemble de ses votes pour l'article en question\n",
    "#soit sur une version, soit sur un argument, soit une source \n",
    "\n",
    "art = \"article-9-acces-aux-travaux-de-la-recherche-financee-par-des-fonds-publics\"\n",
    "\n",
    "from collections import defaultdict\n",
    "#liste des noms des électeurs \n",
    "electeurs = [n.keys()[0] for n in participants]\n",
    "#on crée pour plus de clareté un dictionnaire spécifique aux electeurs de l'article9\n",
    "electeurs = defaultdict.fromkeys(electeurs, [])\n",
    "#pour chaque participant\n",
    "for user in participants:\n",
    "    #accesible via son nom\n",
    "    name =  user.keys()[0]\n",
    "    #récupérer les votes de l'utilisateur dans \"votes\"\n",
    "    #filtrer ceux qui ont des votes qui correspondent à l'article\n",
    "    user_votes =  [v for v in user[name][\"votes\"] if art in v[\"link\"]]\n",
    "    if  len(user_votes) == 0:\n",
    "        del electeurs[name]\n",
    "    else:\n",
    "        electeurs[name] = user_votes"
   ]
  },
  {
   "cell_type": "code",
   "execution_count": 57,
   "metadata": {
    "collapsed": false
   },
   "outputs": [
    {
     "name": "stdout",
     "output_type": "stream",
     "text": [
      "5651 electeurs pour l'article 9\n"
     ]
    }
   ],
   "source": [
    "#Nombre d'électeur pour l'article 9\n",
    "print len(electeurs), \"electeurs pour l'article 9\""
   ]
  },
  {
   "cell_type": "code",
   "execution_count": 58,
   "metadata": {
    "collapsed": false,
    "scrolled": true
   },
   "outputs": [
    {
     "name": "stdout",
     "output_type": "stream",
     "text": [
      "danielbourrion a voté 13 fois sur l'article 9\n"
     ]
    }
   ],
   "source": [
    "### Combien de fois cet utilisateur a-t-il voté pour l'article9?\n",
    "electeur_name = \"danielbourrion\"\n",
    "print electeur_name,\"a voté\", len(electeurs[electeur_name]), \"fois sur l'article 9\""
   ]
  },
  {
   "cell_type": "markdown",
   "metadata": {},
   "source": [
    "## Votes\n",
    "#### Verification de l'ensemble des versions"
   ]
  },
  {
   "cell_type": "code",
   "execution_count": 59,
   "metadata": {
    "collapsed": false,
    "scrolled": true
   },
   "outputs": [
    {
     "name": "stdout",
     "output_type": "stream",
     "text": [
      "109\n",
      "(u'article-9-acces-aux-travaux-de-la-recherche-financee-par-des-fonds-publics', True)\n"
     ]
    }
   ],
   "source": [
    "print len(versions.keys())\n",
    "#Is original version in versions?\n",
    "print(ref_article9[\"slug\"], ref_article9[\"slug\"] in versions.keys())\n"
   ]
  },
  {
   "cell_type": "markdown",
   "metadata": {},
   "source": [
    "#### Type de votes\n",
    "\n",
    "On va repartir le type de votes entre les votes, les sources et les arguments"
   ]
  },
  {
   "cell_type": "code",
   "execution_count": 62,
   "metadata": {
    "collapsed": false,
    "scrolled": true
   },
   "outputs": [],
   "source": [
    "from collections import defaultdict\n",
    "#types de votes pour chaque vote de chaque electeur\n",
    "votes_dict = {\"sources\":[], \"arguments\":[], \"votes\" : []}\n",
    "\n",
    "#pour chaque electeur\n",
    "for user,votes in electeurs.items():\n",
    "    #pour chaque vote\n",
    "    for vote in votes: \n",
    "        url = vote[\"link\"]\n",
    "        slug = url.split(\"/\")[-1]\n",
    "        vote[\"electeur\"] = user\n",
    "        #vote sur un argument        \n",
    "        if \"#arg\" in slug:\n",
    "            vote[\"slug\"], vote[\"id\"] = slug.split(\"#\")\n",
    "            votes_dict[\"arguments\"].append((vote[\"slug\"], vote))\n",
    "            continue\n",
    "        #vote sur une source\n",
    "        elif \"#source\" in slug:\n",
    "            vote[\"slug\"], vote[\"id\"] = slug.split(\"#\")\n",
    "            votes_dict[\"sources\"].append((vote[\"slug\"], vote))\n",
    "            continue\n",
    "        #vote sur un article\n",
    "        else:\n",
    "            vote[\"slug\"] = slug\n",
    "            votes_dict[\"votes\"].append((slug,vote))\n",
    "            continue\n",
    "#pour verifier les stats\n",
    "stats_votes_total = {}\n",
    "for k, v in votes_dict.items():\n",
    "    stats_votes_total[k] = len(v)\n",
    "    "
   ]
  },
  {
   "cell_type": "code",
   "execution_count": 72,
   "metadata": {
    "collapsed": false,
    "scrolled": true
   },
   "outputs": [
    {
     "name": "stdout",
     "output_type": "stream",
     "text": [
      "{'sources': 174, 'votes': 12851, 'arguments': 2522}\n",
      "{'sources': 0, 'votes': 12851, 'arguments': 349}\n"
     ]
    }
   ],
   "source": [
    "print stats_votes_total\n",
    "print stats_versions_total[\"total\"]"
   ]
  },
  {
   "cell_type": "markdown",
   "metadata": {},
   "source": [
    "On remarque donc que si le nombre de votes correspond les sources et les arguemnts pas du tout\n",
    "Cela veut dire que dans les statistiques des versions originales se sont glissées des erreurs\n",
    "\n",
    "Pur les sources les votes sur des sources issues de versions complémentaires n'ont pas été comptabilisée\n",
    "Et pour les arguments certains n'ont pas été trouvés"
   ]
  },
  {
   "cell_type": "markdown",
   "metadata": {},
   "source": [
    "Dans le détail des votes sur l'article 9 on a donc"
   ]
  },
  {
   "cell_type": "code",
   "execution_count": 69,
   "metadata": {
    "collapsed": false,
    "scrolled": true
   },
   "outputs": [],
   "source": [
    "#empty again the votes inside versions\n",
    "#just in case we crunched multiple times\n",
    "for k, v in versions.items():\n",
    "    v[\"articles_votes\"] = []\n",
    "    v[\"arguments_votes\"] = []\n",
    "    v[\"sources_votes\"] = []\n",
    "\n",
    "for slug, data in votes_dict[\"votes\"]:\n",
    "    versions[slug][\"articles_votes\"].append(data)\n",
    "    \n",
    "for slug, data in votes_dict[\"arguments\"]:\n",
    "    \n",
    "    versions[slug][\"arguments_votes\"].append(data)\n",
    "    \n",
    "for slug, data in votes_dict[\"sources\"]:\n",
    "    \n",
    "    versions[slug][\"sources_votes\"].append(data)\n",
    "    \n"
   ]
  },
  {
   "cell_type": "markdown",
   "metadata": {},
   "source": [
    "* les sources qui ont des votes"
   ]
  },
  {
   "cell_type": "code",
   "execution_count": 70,
   "metadata": {
    "collapsed": false,
    "scrolled": true
   },
   "outputs": [
    {
     "name": "stdout",
     "output_type": "stream",
     "text": [
      "article-9-acces-aux-travaux-de-la-recherche-financee-par-des-fonds-publics 130\n",
      "aligner-les-delais-d-embargo-sur-ceux-de-la-communaute-europeenne-6-et-12-mois 4\n",
      "une-duree-d-embargo-plus-courte-ne-pas-entraver-le-tdm-fouille-de-texte-et-de-donnees-et-ne-pas-interdire-une-exploitation-commerciale 27\n",
      "proteger-le-droit-des-auteurs-d-articles-scientifiques-pour-permettre-le-libre-acces-a-la-recherche-scientifique 8\n",
      "pour-l-acces-libre-aux-resultats-de-la-recherche-scientifique 3\n",
      "duree-d-embargo-et-tdm-1 2\n"
     ]
    }
   ],
   "source": [
    "for k, v in versions.items():\n",
    "    if len(v[\"sources_votes\"]) > 0:\n",
    "        print k, len(v[\"sources_votes\"])"
   ]
  },
  {
   "cell_type": "markdown",
   "metadata": {},
   "source": [
    "* les arguments qui ont des votes\n",
    "tout confondus\n",
    "pour l'instant on laisse de coté les arguments"
   ]
  },
  {
   "cell_type": "code",
   "execution_count": 71,
   "metadata": {
    "collapsed": false
   },
   "outputs": [
    {
     "name": "stdout",
     "output_type": "stream",
     "text": [
      "2522\n"
     ]
    }
   ],
   "source": [
    "sum_args = []\n",
    "\n",
    "for k, v in versions.items():\n",
    "    sum_args.append(len(v[\"arguments_votes\"]))\n",
    "print sum(sum_args)\n",
    "    "
   ]
  },
  {
   "cell_type": "markdown",
   "metadata": {
    "collapsed": true
   },
   "source": [
    "## Qui a voté pour qui?"
   ]
  },
  {
   "cell_type": "code",
   "execution_count": 74,
   "metadata": {
    "collapsed": false
   },
   "outputs": [
    {
     "ename": "KeyError",
     "evalue": "'articles_votes'",
     "output_type": "error",
     "traceback": [
      "\u001b[1;31m---------------------------------------------------------------------------\u001b[0m",
      "\u001b[1;31mKeyError\u001b[0m                                  Traceback (most recent call last)",
      "\u001b[1;32m<ipython-input-74-70d57544cd60>\u001b[0m in \u001b[0;36m<module>\u001b[1;34m()\u001b[0m\n\u001b[0;32m      1\u001b[0m \u001b[1;32mfor\u001b[0m \u001b[0mk\u001b[0m\u001b[1;33m,\u001b[0m \u001b[0mv\u001b[0m \u001b[1;32min\u001b[0m \u001b[0mversions\u001b[0m\u001b[1;33m.\u001b[0m\u001b[0mitems\u001b[0m\u001b[1;33m(\u001b[0m\u001b[1;33m)\u001b[0m\u001b[1;33m:\u001b[0m\u001b[1;33m\u001b[0m\u001b[0m\n\u001b[0;32m      2\u001b[0m     \u001b[0mauthor\u001b[0m \u001b[1;33m=\u001b[0m \u001b[0mv\u001b[0m\u001b[1;33m[\u001b[0m\u001b[1;34m\"author\"\u001b[0m\u001b[1;33m]\u001b[0m\u001b[1;33m\u001b[0m\u001b[0m\n\u001b[1;32m----> 3\u001b[1;33m     \u001b[1;32mfor\u001b[0m \u001b[0mvote\u001b[0m \u001b[1;32min\u001b[0m \u001b[0mversions\u001b[0m\u001b[1;33m[\u001b[0m\u001b[1;34m\"articles_votes\"\u001b[0m\u001b[1;33m]\u001b[0m\u001b[1;33m:\u001b[0m\u001b[1;33m\u001b[0m\u001b[0m\n\u001b[0m\u001b[0;32m      4\u001b[0m         \u001b[1;32mprint\u001b[0m \u001b[0mvote\u001b[0m\u001b[1;33m\u001b[0m\u001b[0m\n\u001b[0;32m      5\u001b[0m     \u001b[1;32mbreak\u001b[0m\u001b[1;33m\u001b[0m\u001b[0m\n",
      "\u001b[1;31mKeyError\u001b[0m: 'articles_votes'"
     ]
    }
   ],
   "source": [
    "for k, v in versions.items():\n",
    "    author = v[\"author\"]\n",
    "    for vote in versions[\"articles_votes\"]:\n",
    "        print vote\n",
    "    break"
   ]
  },
  {
   "cell_type": "code",
   "execution_count": null,
   "metadata": {
    "collapsed": true
   },
   "outputs": [],
   "source": []
  }
 ],
 "metadata": {
  "kernelspec": {
   "display_name": "Python 2",
   "language": "python",
   "name": "python2"
  },
  "language_info": {
   "codemirror_mode": {
    "name": "ipython",
    "version": 2
   },
   "file_extension": ".py",
   "mimetype": "text/x-python",
   "name": "python",
   "nbconvert_exporter": "python",
   "pygments_lexer": "ipython2",
   "version": "2.7.6"
  }
 },
 "nbformat": 4,
 "nbformat_minor": 0
}
