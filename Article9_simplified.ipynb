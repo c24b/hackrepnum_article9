{
 "cells": [
  {
   "cell_type": "markdown",
   "metadata": {
    "collapsed": true
   },
   "source": [
    "# Article 9\n"
   ]
  },
  {
   "cell_type": "markdown",
   "metadata": {},
   "source": [
    "## Objectif:\n",
    "\n",
    "Cartographier les acteurs de la proposition de loi de l'article 9"
   ]
  },
  {
   "cell_type": "markdown",
   "metadata": {},
   "source": [
    "### Découverte du dataset\n",
    "\n",
    "Un fichier json avec les donnees relatives a l'article 9 est disponible\n",
    "article9.json\n",
    "\n",
    "    ! Le détail des votes par utilisateurs n'est disponible que dans le fichier participants\n",
    "\n",
    "Ce fichier représente les données sous forme de dictionnaire: accessible par clé,valeur nous l'avons \n",
    "stocké dans la variable **article9**\n",
    "\n",
    "La première démarche pour connaîre les données et d'afficher les clés disponibles du dictionnaires\n",
    "\n",
    "Affichons les clés du dictionnaire:"
   ]
  },
  {
   "cell_type": "code",
   "execution_count": 1,
   "metadata": {
    "collapsed": false
   },
   "outputs": [
    {
     "name": "stdout",
     "output_type": "stream",
     "text": [
      "[   u'subtitle',\n",
      "    u'cat_id',\n",
      "    u'updated_at',\n",
      "    u'sources',\n",
      "    u'arguments_count',\n",
      "    u'versions_count',\n",
      "    u'votes_total',\n",
      "    u'author',\n",
      "    u'article_link',\n",
      "    u'arguments',\n",
      "    u'answer',\n",
      "    u'body',\n",
      "    u'ranking',\n",
      "    u'sources_count',\n",
      "    u'votes_ok',\n",
      "    u'versions',\n",
      "    u'article_id',\n",
      "    u'body_anchors',\n",
      "    u'created_at',\n",
      "    u'title',\n",
      "    u'votes_mitige',\n",
      "    u'body_links',\n",
      "    u'votes_nok']\n"
     ]
    }
   ],
   "source": [
    "import json, pprint\n",
    "#afficher les données plus zouliement avec indentation\n",
    "pp = pprint.PrettyPrinter(indent=4, depth=4)\n",
    "with open(\"article9.json\", \"r\") as f:\n",
    "    article9 = json.load(f)\n",
    "    pp.pprint(article9.keys())"
   ]
  },
  {
   "cell_type": "markdown",
   "metadata": {
    "collapsed": true
   },
   "source": [
    "* Statistiques descriptives de l'article 9:\n",
    "\n",
    "Nous allons charger les informations disponibles dans une **variable** appelée re_article9\n",
    "qui va contenir les differents champs statistiques disponibles en les réorganisant légèrement pour une plus grande facilité de manipulation. \n",
    "Ici nous filtrons les clés du dictionnaires en fonction de leur nom que nous connaissons grace à la manipulation \n",
    "ci-dessus."
   ]
  },
  {
   "cell_type": "code",
   "execution_count": null,
   "metadata": {
    "collapsed": true
   },
   "outputs": [],
   "source": [
    "On va réorganiser de la facon suivante\n",
    "[  # l'identifiant de l'article est l'url\n",
    "    #on le transfrome en id\n",
    "    u'article_link',\n",
    "    #date\n",
    "    u'created_at',\n",
    "    u'updated_at',\n",
    "    #stats\n",
    "    u'arguments_count',\n",
    "    u'versions_count',\n",
    "    u'votes_total',\n",
    "    u'sources_count',\n",
    "    \n",
    "    # repartition des votes\n",
    "    u'votes_ok',\n",
    "    u'votes_mitige'\n",
    "    u'votes_nok'\n",
    "    #détails participation\n",
    "    u'versions',\n",
    "    u'sources',\n",
    "    u'arguments',\n",
    "    u'votes',\n",
    "    ]"
   ]
  },
  {
   "cell_type": "code",
   "execution_count": 54,
   "metadata": {
    "collapsed": false
   },
   "outputs": [
    {
     "name": "stdout",
     "output_type": "stream",
     "text": [
      "{   u'arguments_nb': 132,\n",
      "    u'sources_nb': 22,\n",
      "    u'versions_nb': 108,\n",
      "    'votes': {   u'mitige': 282, u'nok': 1732, u'ok': 1320},\n",
      "    u'votes_nb': 3334}\n"
     ]
    }
   ],
   "source": [
    "import json, pprint\n",
    "ref_article9 = {\"date\": {}, \"stats\": {\"votes\":{}}, \"details\": {\"votes\":[]}, \"votes\":{}}\n",
    "#pour afficher les données joliement\n",
    "pp = pprint.PrettyPrinter(indent=4)\n",
    "with open(\"article9.json\", \"r\") as f:\n",
    "    data = json.load(f)\n",
    "    for k,v in data.items():\n",
    "        \n",
    "        if k == \"article_link\":\n",
    "            ref_article9[\"id\"] = v\n",
    "        #match with date elemnts\n",
    "        if k.endswith(\"at\"):\n",
    "            ref_article9[\"date\"][k] = v\n",
    "        elif k.endswith(\"count\"):\n",
    "            ref_article9[\"stats\"][k.replace(\"count\", \"nb\")] = v\n",
    "        elif k.endswith(\"total\"):\n",
    "            ref_article9[\"stats\"][k.replace(\"total\", \"nb\")] = v\n",
    "        elif k.startswith(\"votes\"):\n",
    "            ref_article9[\"stats\"][\"votes\"][k.replace(\"votes_\",\"\")] = v\n",
    "            \n",
    "        else:\n",
    "            if k in [\"versions\", \"sources\", \"arguments\"]:\n",
    "                ref_article9[\"details\"][k] = v\n",
    "            pass\n",
    "        #stats = {k:v for k,v in data.items() if k.endswith(\"at\") and if  and if k.endswith(\"total\") and if k.startswith(\"votes\")}\n",
    "pp.pprint(ref_article9[\"stats\"])\n",
    "#resultats des statistiques de l'article"
   ]
  },
  {
   "cell_type": "markdown",
   "metadata": {},
   "source": [
    "L'article 9 compte donc 132 arguments,22 sources, 3334 votes et 108 versions.\n",
    "Dans \"details\":\n",
    "* Chaque argument contient le nombre de votes concernant l'argument\n",
    "* Chaque argument contient le nombre de votes concernant la version\n",
    "\n",
    "\n",
    "Le nombre de votes total correspond aux votes sur l'article original et le nombre d'arguments aussi\n",
    "et non pas sur l'ensemble des versions de l'article\n"
   ]
  },
  {
   "cell_type": "markdown",
   "metadata": {},
   "source": [
    "###Les modifications de l'article\n",
    "Les amemendements ou modification de l'article sont disponible \n",
    "désormais dans ref_article9[\"details\"][\"versions\"] sous forme de liste de dictionnaire\n",
    "Explorons donc ensemble les différentes valeurs exploitables"
   ]
  },
  {
   "cell_type": "code",
   "execution_count": 17,
   "metadata": {
    "collapsed": false
   },
   "outputs": [
    {
     "name": "stdout",
     "output_type": "stream",
     "text": [
      "[   u'comment',\n",
      "    u'author',\n",
      "    u'arguments_no_count',\n",
      "    u'created_at',\n",
      "    u'after',\n",
      "    u'updated_at',\n",
      "    u'id',\n",
      "    u'votes_mitige',\n",
      "    u'arguments_yes_count',\n",
      "    u'link',\n",
      "    u'arguments_count',\n",
      "    u'before',\n",
      "    u'title',\n",
      "    u'votes_total',\n",
      "    u'article_id',\n",
      "    u'slug',\n",
      "    u'votes_nok']\n",
      "None\n"
     ]
    }
   ],
   "source": [
    "versions = {}\n",
    "for version in ref_article9[\"details\"][\"versions\"]:\n",
    "    print pp.pprint(version.keys())\n",
    "    break"
   ]
  },
  {
   "cell_type": "markdown",
   "metadata": {},
   "source": [
    "Nous allons réorganiser le contenu des references de versions\n",
    "pour rappatrier ensuite les votes qui contient les données détaillées \n",
    "\n",
    "[   #u'slug',\n",
    "    #u'title'\n",
    "    #date\n",
    "    u'created_at',\n",
    "    u'updated_at',\n",
    "    u'author',\n",
    "    #stats\n",
    "        #arguments\n",
    "        u'arguments_no_count',\n",
    "        u'arguments_yes_count',\n",
    "        u'arguments_count',\n",
    "        #votes\n",
    "        u'votes_total',\n",
    "        u'votes_mitige',\n",
    "        u'votes_nok',\n",
    "        u'votes_ok'\n",
    "    ]\n",
    "dans un dictionnaire\n",
    "dont l'id unique sera le slug\n",
    "versions[slug] = {\"title\":\"\", \"date\":{}, \"author\": \"\", \"stats\":{\"votes\":{}, \"arguments\":{}}\n",
    "\n"
   ]
  },
  {
   "cell_type": "code",
   "execution_count": 65,
   "metadata": {
    "collapsed": false
   },
   "outputs": [
    {
     "name": "stdout",
     "output_type": "stream",
     "text": [
      "108\n",
      "{'votes': [], 'stats': {'votes': {u'votes_mitige': 0, u'votes_total': 7, u'votes_nok': 3}, 'arguments': {u'arguments_yes_count': 0, u'arguments_no_count': 0, u'arguments_count': 0}}, 'author': u'dominiqueillien', 'title': u'Cr\\xe9ation du nouvel article L 533-4 du code de la recherche (Livre V, Titre III, Chapitre 3)', 'arguments': [], 'date': {u'created_at': u'2015-10-12T16:46:41+0200', u'updated_at': u'2015-10-12T16:46:41+0200'}}\n"
     ]
    }
   ],
   "source": [
    "versions = {}\n",
    "for vers in ref_article9[\"details\"][\"versions\"]:\n",
    "    \n",
    "    versions[vers[\"slug\"]] = {\"title\":vers[\"title\"], \n",
    "                              \"date\":{}, \n",
    "                              \"author\": vers[\"author\"], \n",
    "                              \"stats\":{\"arguments\":{},\"votes\":{}},\n",
    "                              \"arguments\":[],\n",
    "                              \"votes\":[]\n",
    "                             }\n",
    "    for k,v in vers.items():\n",
    "        \n",
    "        if k.endswith(\"at\"):\n",
    "            versions[vers[\"slug\"]][\"date\"][k] = v\n",
    "        elif k.startswith(\"votes\"):\n",
    "            versions[vers[\"slug\"]][\"stats\"][\"votes\"][k] = v\n",
    "        elif k.startswith(\"arguments\"):\n",
    "            versions[vers[\"slug\"]][\"stats\"][\"arguments\"][k] = v\n",
    "    \n",
    "#On a bien 108 versions dans ce dictionnaire\n",
    "print len(versions.keys())\n",
    "print versions[\"attention-a-la-qualite-et-a-la-securite-des-textes-scientifiques-qui-doivent-etre-valides-en-amont-promus-et-enrichis-ensuite-par-le-biais-de-bases-de-donnees\"]"
   ]
  },
  {
   "cell_type": "code",
   "execution_count": 66,
   "metadata": {
    "collapsed": false
   },
   "outputs": [
    {
     "name": "stdout",
     "output_type": "stream",
     "text": [
      "132\n",
      "{'date': {u'created_at': u'2015-10-14T15:51:34+0200', u'updated_at': u'2015-10-14T15:52:07+0200'}, 'stats': {'votes': {'total': u'3923'}}}\n"
     ]
    }
   ],
   "source": [
    "arguments = {}\n",
    "for arg in ref_article9[\"details\"][\"arguments\"]:\n",
    "    #ici l'id unique est l'id\n",
    "    #\"arg-\"+id\n",
    "    arguments[arg[\"id\"]] = {\"date\":{}, \"stats\":{\"votes\":{}}}\n",
    "    for k, v in arg.items():\n",
    "        if k.endswith(\"at\"):\n",
    "            arguments[arg[\"id\"]][\"date\"][k] = v\n",
    "    arguments[arg[\"id\"]][\"stats\"][\"votes\"][\"total\"] = v\n",
    "            \n",
    "\n",
    "#on a bien les 132 arguments annoncés pour la version original \n",
    "print(len(arguments))\n",
    "\n",
    "print arguments[\"3923\"]"
   ]
  },
  {
   "cell_type": "markdown",
   "metadata": {},
   "source": [
    "Dans un deuxième temps nous allons croiser ces données avec ceux des votes\n",
    "pour trouver qui a voté pour quelle modif ou quelle version\n",
    "Pour cela il nous faut trouver tous les votes pour l'article9\n",
    "Le détail des votes est disponible dans le fichier participants\n",
    "qui liste sous forme de dictionnaire de participants toutes l'activité du participant\n"
   ]
  },
  {
   "cell_type": "markdown",
   "metadata": {},
   "source": [
    "### Qui a voté quoi?\n",
    "On va passer en revue tous les votes des participants et trouver ceux qui correspondent à l'article qui nous intéresse\n",
    "en filtrant sur le nom de l'article contenu dans le lien\n",
    "et construire ainsi un référentiel de votes\n"
   ]
  },
  {
   "cell_type": "code",
   "execution_count": 76,
   "metadata": {
    "collapsed": false
   },
   "outputs": [
    {
     "name": "stdout",
     "output_type": "stream",
     "text": [
      "3334\n",
      "3334\n"
     ]
    }
   ],
   "source": [
    "url = \"section-2-travaux-de-recherche-et-de-statistique\"\n",
    "art = \"article-9-acces-aux-travaux-de-la-recherche-financee-par-des-fonds-publics\"\n",
    "article9 = ref_article9\n",
    "#raccourci\n",
    "#votes = article9[\"details\"][\"votes\"] = []\n",
    "#arguments = article9[\"details\"][\"arguments\"]\n",
    "#version = article9[\"details\"][\"versions\"]\n",
    "\n",
    "with open(\"participants.json\", \"r\") as f:\n",
    "    data = json.load(f)\n",
    "    participants = data[\"participants\"]\n",
    "\n",
    "#rappel versions contient toutes les versions de l'article\n",
    "#on lui rappatrie les votes\n",
    "#versions= []\n",
    "ref_article9[\"details\"][\"votes\"] = []\n",
    "for participation in participants:\n",
    "    for user, part in participation.items():\n",
    "        for vote in part[\"votes\"]:\n",
    "            url = vote[\"link\"]\n",
    "            \n",
    "            if art in url:\n",
    "                \n",
    "                votant = {\"user\":user, \"date\": vote[\"date\"], \"opinion\": vote[\"opinion\"], \"id\":vote[\"id\"], \"url\":url}\n",
    "                if \"version\" in url:\n",
    "                    slug = url.split(\"/\")[-1]\n",
    "                    \n",
    "                    if \"arg\" in url:\n",
    "                        #ici il s'agit d'un vote sur l'argument de cette version\n",
    "                        arg_id = slug.split(\"#arg-\")[-1]\n",
    "                        #versions[slug][\"arguments\"].append(votant)\n",
    "                        #print arg_id\n",
    "                    elif \"source\" in url:\n",
    "                        pass\n",
    "                    else:\n",
    "                        versions[slug][\"votes\"].append(votant)\n",
    "                else:\n",
    "                    if \"#arg\" in url:\n",
    "                        #un vote sur l'argument\n",
    "                        pass\n",
    "                    elif \"#source\" in url:\n",
    "                        pass\n",
    "                    else:\n",
    "                        #ici il s'agit d'un vote sur l'article original\n",
    "                        ref_article9[\"details\"][\"votes\"].append(votant)\n",
    "#on vérifie les votes\n",
    "#votants\n",
    "print len(ref_article9[\"details\"][\"votes\"])\n",
    "#votes comptabilisés dans l'article\n",
    "print ref_article9[\"stats\"][\"votes_nb\"]\n"
   ]
  },
  {
   "cell_type": "code",
   "execution_count": null,
   "metadata": {
    "collapsed": true
   },
   "outputs": [],
   "source": [
    "### Qui a voté pour qui? Pour quelle version?\n"
   ]
  },
  {
   "cell_type": "code",
   "execution_count": 86,
   "metadata": {
    "collapsed": false
   },
   "outputs": [],
   "source": [
    "#auteur, votant, vote, slug\n",
    "final_dataset = []\n",
    "for slug, version in versions.items():\n",
    "    \n",
    "    auteur = version[\"author\"]\n",
    "    for vote in version[\"votes\"]:\n",
    "        final_dataset.append([vote[\"user\"],auteur,vote[\"opinion\"], slug])\n",
    "        \n",
    "\n",
    "#On ajoute les votants à l'article original\n",
    "for votant in ref_article9[\"details\"][\"votes\"]:\n",
    "    final_dataset.append([ vote[\"user\"],\"gouvernement\",vote[\"opinion\"], \"original\"])\n",
    "    \n"
   ]
  },
  {
   "cell_type": "code",
   "execution_count": 92,
   "metadata": {
    "collapsed": false
   },
   "outputs": [],
   "source": [
    "with open(\"electeur_auteur.csv\", \"w\") as f:\n",
    "    f.write(\"\\t\".join([\"electeur\",\"auteur\", \"vote\", \"version\"])+'\\n')\n",
    "    for row in final_dataset:\n",
    "        f.write(\"\\t\".join(row)+'\\n')\n",
    "        \n",
    "    "
   ]
  },
  {
   "cell_type": "markdown",
   "metadata": {},
   "source": [
    "## Détection des communautés\n"
   ]
  },
  {
   "cell_type": "code",
   "execution_count": null,
   "metadata": {
    "collapsed": true
   },
   "outputs": [],
   "source": [
    "Nous avons désormais un fichier qui contient\n",
    "l'électeur l'auteur le vote (-1 non 0 neutre 1 positif)\n",
    "\n",
    "Nous avons réalisé dans un premier temps\n",
    "une cartographie des coocurrences pas très réussie\n"
   ]
  }
 ],
 "metadata": {
  "kernelspec": {
   "display_name": "Python 2",
   "language": "python",
   "name": "python2"
  },
  "language_info": {
   "codemirror_mode": {
    "name": "ipython",
    "version": 2
   },
   "file_extension": ".py",
   "mimetype": "text/x-python",
   "name": "python",
   "nbconvert_exporter": "python",
   "pygments_lexer": "ipython2",
   "version": "2.7.6"
  }
 },
 "nbformat": 4,
 "nbformat_minor": 0
}
