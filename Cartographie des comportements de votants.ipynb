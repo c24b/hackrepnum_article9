{
 "cells": [
  {
   "cell_type": "code",
   "execution_count": null,
   "metadata": {
    "collapsed": true
   },
   "outputs": [],
   "source": [
    "#coding: utf-8\n",
    "#import des modules\n",
    "#lecture des json\n",
    "import json \n",
    "#affichage des dictionnaires avec idententation\n",
    "import pprint\n",
    "pp = pprint.PrettyPrinter(indent=4, )\n",
    "#librairie des graphes\n",
    "import networkx as nx\n",
    "#affichage des graphs\n",
    "import matplotlib\n",
    "import matplotlib.pyplot as plt\n",
    "#calcul\n",
    "import numpy as np\n",
    "from itertools import combinations\n",
    "#%matplotlib inline"
   ]
  },
  {
   "cell_type": "code",
   "execution_count": null,
   "metadata": {
    "collapsed": true
   },
   "outputs": [],
   "source": [
    "def load_versions(art_file=\"article9.json\"):\n",
    "    '''charger l'ensemble des versions de l'article'''\n",
    "    versions_d = {}\n",
    "    with open(art_file, \"r\") as f:\n",
    "        article9 = json.load(f)\n",
    "    \n",
    "    #Pour rappel\n",
    "    #print article9.keys()\n",
    "    versions_d[article9[\"article_link\"].split(\"/\")[-1]] = {\n",
    "                \"id\": 0,\n",
    "                \"date\": article9[\"created_at\"],\n",
    "                \"link\": article9[\"article_link\"],\n",
    "                \"slug\": article9[\"article_link\"].split(\"/\")[-1],\n",
    "                \"title\": article9[\"article_link\"].split(\"/\")[-1].replace(\"-\", \" \"),\n",
    "                \"text\": article9['body'],\n",
    "                \"author\": article9[\"author\"],\n",
    "                \"votes\":[], \n",
    "                \"arguments\":article9[\"arguments\"], \n",
    "                \"votes_arguments\": [],\n",
    "                \"sources\":article9[\"sources\"],\n",
    "                \"votes_sources\": [],\n",
    "                \"total_votes\": article9[\"votes_total\"],\n",
    "                #les décomptes de votes sur les arguments ne sont pas disponible dans l'article9\n",
    "                  # seulement le nombre d'arguments\n",
    "                \"total_arguments_votes\": article9[\"arguments_count\"]\n",
    "               }\n",
    "    \n",
    "    versions = article9[\"versions\"]\n",
    "    \n",
    "    #on construit une liste de versions\n",
    "    for i,v in enumerate(versions):\n",
    "        #pour rappel\n",
    "        #print v.keys()\n",
    "        versions_d[v[\"slug\"]] = {\"date\":v[\"created_at\"],\n",
    "                \"id\": i+1,\n",
    "                \"link\":v[\"link\"],\n",
    "                #\"slug\":v[\"slug\"],\n",
    "                \"title\":v[\"title\"],\n",
    "                \"text\": v['comment'],\n",
    "                \"author\": v[\"author\"],\n",
    "                \"votes\":[], \n",
    "                \"arguments\":[], \n",
    "                \"votes_arguments\": [],\n",
    "                \"sources\":[],\n",
    "                \"votes_sources\": [],\n",
    "                \"total_votes\":v[\"votes_total\"],\n",
    "              #ici il s'agit bien du nombre de votes sur un argument\n",
    "                \"total_arguments_votes\": v[\"arguments_count\"]\n",
    "             }\n",
    "    print(len(versions_d)), \"versions\"\n",
    "    return versions_d"
   ]
  },
  {
   "cell_type": "code",
   "execution_count": null,
   "metadata": {
    "collapsed": true
   },
   "outputs": [],
   "source": [
    "    \n",
    "def load_participants():\n",
    "    #charger les votes des participants\n",
    "    with open(\"participants.json\", \"r\") as f:\n",
    "        data = json.load(f)\n",
    "        participants = data[\"participants\"]\n",
    "    \n",
    "    participants_d = {}\n",
    "    for part in participants:\n",
    "        for k,v in part.items():\n",
    "            \n",
    "            participants_d[k] = v[\"votes\"]\n",
    "        \n",
    "    print (len(participants_d), \"participants sur l'ensemble des articles\")\n",
    "    return participants_d"
   ]
  },
  {
   "cell_type": "code",
   "execution_count": null,
   "metadata": {
    "collapsed": true
   },
   "outputs": [],
   "source": [
    "def update_versions(participants, versions_d, art=\"article-9-acces-aux-travaux-de-la-recherche-financee-par-des-fonds-publics\"):\n",
    "    for user, votes in participants.items():\n",
    "        for vote in votes:            \n",
    "            link = vote[\"link\"]\n",
    "            \n",
    "            if art in link:\n",
    "                date =  vote[\"date\"]\n",
    "                opinion = vote[\"opinion\"]\n",
    "                slug = link.split(\"/\")[-1]\n",
    "                try:\n",
    "                    slug, tid = slug.split(\"#\") \n",
    "                    \n",
    "                    \n",
    "                    if \"arg-\" in tid:\n",
    "                        versions_d[slug][\"votes_arguments\"].append({\"electeur\":user,\"vote\": opinion, \"date\":date, \"id\":tid})\n",
    "                    elif \"source-\" in tid:\n",
    "                        versions_d[slug][\"votes_sources\"].append({\"electeur\":user,\"vote\": opinion, \"date\":date, \"id\":tid})\n",
    "                    else:\n",
    "                        print slug\n",
    "                except:\n",
    "                    versions_d[slug][\"votes\"].append({\"electeur\":user,\"vote\": opinion, \"date\":date})\n",
    "    return versions_d\n",
    "    "
   ]
  },
  {
   "cell_type": "code",
   "execution_count": null,
   "metadata": {
    "collapsed": true
   },
   "outputs": [],
   "source": [
    "def load_votes(participants,art =\"article-9-acces-aux-travaux-de-la-recherche-financee-par-des-fonds-publics\"):\n",
    "    #charger les votes des electeurs de l'article 9\n",
    "    votes_v = []\n",
    "    votes_args = []\n",
    "    votes_src = []\n",
    "    for user, votes in participants.items():\n",
    "        for vote in votes:\n",
    "            link = vote[\"link\"]\n",
    "            if art in link:\n",
    "                date =  vote[\"date\"]\n",
    "                opinion = vote[\"opinion\"]\n",
    "                slug = link.split(\"/\")[-1]\n",
    "                try:\n",
    "                    slug, tid = slug.split(\"#\") \n",
    "                    if \"arg-\" in tid:\n",
    "                        votes_args.append({\"electeur\":user,\"vote\": opinion, \"slug\":slug, \"date\":date, \"id\":tid})\n",
    "                    elif \"source-\" in tid:\n",
    "                        votes_src.append({\"electeur\":user,\"vote\": opinion, \"slug\":slug, \"date\":date, \"id\":tid})\n",
    "                    else:\n",
    "                        print slug\n",
    "                except:\n",
    "                    votes_v.append({\"electeur\":user,\"vote\": opinion, \"slug\":slug, \"date\":date})\n",
    "            \n",
    "    print len(votes_v),\"votes\", len(votes_args),\"votes sur les arg\", len(votes_src), \"votes sur les sources\"\n",
    "    return votes_v, votes_args, votes_src\n",
    "    "
   ]
  },
  {
   "cell_type": "code",
   "execution_count": null,
   "metadata": {
    "collapsed": true
   },
   "outputs": [],
   "source": [
    "def filter_top_electeurs(votes, SEUIL):\n",
    "    from collections import Counter, defaultdict\n",
    "    electeurs_d = defaultdict.fromkeys([v[\"electeur\"] for v in votes], [])\n",
    "    for vote in votes:\n",
    "        electeurs_d[vote[\"electeur\"]].append(v)\n",
    "    \n",
    "    top_users = []\n",
    "    f = Counter([data[\"electeur\"] for data in votes])\n",
    "    \n",
    "    for n,cpt in f.items():\n",
    "        if cpt < SEUIL:\n",
    "            del electeurs_d[n]\n",
    "    #for k, v in electeurs_d.items():\n",
    "    #    top_users.append(v)\n",
    "    print len(electeurs_d), \"electeurs uniques ayant voté au moins %i fois\" %SEUIL\n",
    "    return electeurs_d\n",
    "    "
   ]
  },
  {
   "cell_type": "code",
   "execution_count": null,
   "metadata": {
    "collapsed": true
   },
   "outputs": [],
   "source": [
    "def calc_similarity(electeurs, versions_d, SEUIL=0):\n",
    "    \n",
    "    from itertools import combinations\n",
    "    votes_by_version = {}\n",
    "    for v, k in versions_d.items():\n",
    "        votes_by_version[v] = {e[\"electeur\"]:e[\"vote\"] for e in k[\"votes\"]}\n",
    "        \n",
    "    similarity_score = {}\n",
    "    for couple in combinations(electeurs.keys(), 2):\n",
    "        userA, userB = couple\n",
    "        similarity_score[couple] = 0\n",
    "        for k,v in votes_by_version.items():\n",
    "            if userA in v.keys() and userB in v.keys():\n",
    "                if v[userA] == v[userB]:\n",
    "                    similarity_score[couple] += 1\n",
    "    return {k:v for k,v in similarity_score.items() if v > SEUIL}\n",
    "        "
   ]
  },
  {
   "cell_type": "code",
   "execution_count": null,
   "metadata": {
    "collapsed": true
   },
   "outputs": [],
   "source": [
    "def build_graph(simil, top_users):\n",
    "    g = nx.Graph()\n",
    "    pos = nx.spring_layout(g)    \n",
    "    for k in simil.keys():\n",
    "        g.add_nodes_from(k[0], weight=len(top_users[k[0]]))\n",
    "        g.add_nodes_from(k[1], weight=len(top_users[k[1]]))\n",
    "    #nodesize=[len(top_users[v])*1000 for v in g.nodes()]\n",
    "    #nx.draw_networkx_nodes(g, pos, nodelist=g.nodes(), node_size=, alpha=1, label=True)\n",
    "    for couple, score in simil.items():\n",
    "        userA, userB = couple\n",
    "        g.add_edge(userA, userB, weight=score)\n",
    "        \n",
    "    for node in nx.isolates(g):\n",
    "        g.remove_node(node)\n",
    "    nx.write_gexf(g, \"electeurs_VF_SEUIL_5_5.gexf\")\n",
    "    nx.draw(g)\n",
    "    plt.show()\n",
    "    return"
   ]
  },
  {
   "cell_type": "code",
   "execution_count": null,
   "metadata": {
    "collapsed": true
   },
   "outputs": [],
   "source": [
    "def build_histogram(versions_nb):\n",
    "    import pylab\n",
    "    N = len(versions_d)\n",
    "    votes_infos = [v[\"total_votes\"]  for v in versions_nb.values()]\n",
    "    \n",
    "    args_infos = [v[\"total_arguments_votes\"]  for v in versions_nb.values()]\n",
    "    plt.title(\"Historique des votes et votes d'arguments par version\")\n",
    "    plt.ylabel('Nb votes')\n",
    "    #pylab.xlim([0,108])\n",
    "    plt.plot(votes_infos,color='r')\n",
    "    plt.plot(args_infos,color='b')\n",
    "\n",
    "    plt.show()\n",
    "    plt.title(\"historique des votes des arguments par version\")\n",
    "    plt.ylabel('Nb votes sur les arguments')\n",
    "    pylab.xlim([0,len(versions_nb)])\n",
    "    plt.plot(args_infos,color='b')\n",
    "    plt.show()\n",
    "    return"
   ]
  },
  {
   "cell_type": "code",
   "execution_count": null,
   "metadata": {
    "collapsed": true
   },
   "outputs": [],
   "source": [
    "def build_distrib(freq):\n",
    "    '''build repartition votes'''\n",
    "    N = len(freq)\n",
    "    plt.title(\"Nombre de votes par auteurs\")\n",
    "    plt.plot(sorted(freq.values()),color='r')\n",
    "    plt.show()\n",
    "    plt.title(\"historique des votes des arguments par version\")\n",
    "    plt.ylabel('Nb votes sur les arguments')\n",
    "    pylab.xlim([0,N])\n",
    "    pylab.ylim([1,50])\n",
    "    plt.show()\n",
    "    return "
   ]
  },
  {
   "cell_type": "code",
   "execution_count": null,
   "metadata": {
    "collapsed": true
   },
   "outputs": [],
   "source": [
    "if __name__ == \"__main__\":\n",
    "    #versions_d = build_versions()\n",
    "    #votes, electeurs_d = load_electeurs()\n",
    "    vs = load_versions()\n",
    "    part = load_participants()\n",
    "    vs = update_versions(part, vs)\n",
    "    votes,vvargs, vsources= load_votes(part)\n",
    "    SEUIL = (4, 2)\n",
    "    top_electeurs = filter_top_electeurs(votes, SEUIL[0])\n",
    "    similar_couple = calc_similarity(top_electeurs, vs, SEUIL[1])\n",
    "    #~ with open(\"./similarity_score.json\", \"w\") as f:\n",
    "        #~ f.write(json.dumps(similar_couple, indent=4))\n",
    "    graph = build_graph(similar_couple, top_electeurs)"
   ]
  }
 ],
 "metadata": {
  "kernelspec": {
   "display_name": "Python 2",
   "language": "python",
   "name": "python2"
  },
  "language_info": {
   "codemirror_mode": {
    "name": "ipython",
    "version": 2
   },
   "file_extension": ".py",
   "mimetype": "text/x-python",
   "name": "python",
   "nbconvert_exporter": "python",
   "pygments_lexer": "ipython2",
   "version": "2.7.6"
  }
 },
 "nbformat": 4,
 "nbformat_minor": 0
}
