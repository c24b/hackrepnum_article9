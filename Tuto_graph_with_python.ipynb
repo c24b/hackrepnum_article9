{
 "cells": [
  {
   "cell_type": "markdown",
   "metadata": {},
   "source": [
    "# Graph Tutoriel\n",
    "\n",
    "Ceci est un tutoriel inspiré de l'[\"Initiation à la théorie des graphes\" de Christian Roux, coll.Ellipses, 2009](http://www.sudoc.abes.fr/DB=2.1/SRCH?IKT=12&TRM=131948466)\n",
    "qui présente les principaux points mathématique de la théorie des graphes.\n",
    "\n",
    "Nous ajoutons ici une illustration pratique à travers sur son utilisation en Python\n",
    "Nous utiliserons la librairie [Networkx](https://networkx.github.io/documentation/latest/reference/citing.html).\n"
   ]
  },
  {
   "cell_type": "markdown",
   "metadata": {
    "collapsed": true
   },
   "source": [
    "## Introduction \n",
    "mixte à la théorie des graphes et à la construction de grapĥ en python"
   ]
  },
  {
   "cell_type": "markdown",
   "metadata": {},
   "source": [
    "\n",
    "## Quelques définitions théoriques\n",
    "Un **graphe** est un ensemble de points reliés par des segments.\n",
    "\n",
    "Les points sont appelés **sommets** ou **noeuds** du graphe. Nous les appelerons ici et tout au long de ce tutoriel les **noeuds** (nodes). \n",
    "\n",
    "Les segments sont les **arêtes** ou les liens du graphe (edge). Nous les appelerons liens ou arêtes tout au long du tutoriel bien que ce ne soit pas la dénomination mathématiques\n",
    "\n",
    "Les somments situés à chaque bout sont les **extrémités** de l'arête.\n",
    "\n",
    "    "
   ]
  },
  {
   "cell_type": "markdown",
   "metadata": {},
   "source": [
    "![Graph simple](./simple_graph.png)"
   ]
  },
  {
   "cell_type": "markdown",
   "metadata": {},
   "source": [
    "## Creation d'un graphe en python\n",
    "Tutoriel inspiré de https://networkx.github.io/documentation/latest/tutorial/tutorial.html"
   ]
  },
  {
   "cell_type": "code",
   "execution_count": 2,
   "metadata": {
    "collapsed": true
   },
   "outputs": [],
   "source": [
    "#importer les libraires\n",
    "#pour afficher\n",
    "import matplotlib.pyplot as plt\n",
    "#pour le calcul\n",
    "import numpy as np\n",
    "#pour le réseau\n",
    "import networkx as nx\n",
    "%matplotlib inline\n"
   ]
  },
  {
   "cell_type": "code",
   "execution_count": 3,
   "metadata": {
    "collapsed": false
   },
   "outputs": [],
   "source": [
    "#instancier le graph\n",
    "g = nx.Graph()\n",
    "#ajouter un noeud\n",
    "#g.add_node(\"paul\")\n",
    "#ajouter une liste de noeud\n",
    "g.add_nodes_from([\"paul\", \"matthieu\", \"jean\", \"luc\", \"marc\"])"
   ]
  },
  {
   "cell_type": "code",
   "execution_count": 4,
   "metadata": {
    "collapsed": false
   },
   "outputs": [],
   "source": [
    "#ajouter un lien (edge)\n",
    "#g.add_edge(\"paul\",\"matthieu\")\n",
    "#ajouter une liste de liens (edges)\n",
    "g.add_edges_from([(\"paul\", \"matthieu\"), (\"matthieu\", \"jean\"),(\"jean\", \"marc\"), (\"marc\", \"luc\"), (\"luc\", \"matthieu\")])"
   ]
  },
  {
   "cell_type": "code",
   "execution_count": 5,
   "metadata": {
    "collapsed": false
   },
   "outputs": [
    {
     "name": "stdout",
     "output_type": "stream",
     "text": [
      "Ce graphe compte 5 noeuds:\n",
      "['jean', 'paul', 'luc', 'matthieu', 'marc']\n",
      "Ce graphe compte 5 liens\n",
      "[('jean', 'matthieu'), ('jean', 'marc'), ('paul', 'matthieu'), ('luc', 'matthieu'), ('luc', 'marc')]\n"
     ]
    }
   ],
   "source": [
    "#Combien de noeuds?\n",
    "print \"Ce graphe compte\", g.number_of_nodes(), \"noeuds:\"\n",
    "print(g.nodes())\n",
    "#Combiens de liens?\n",
    "print \"Ce graphe compte\", g.number_of_edges(), \"liens\"\n",
    "print(g.edges())"
   ]
  },
  {
   "cell_type": "code",
   "execution_count": 6,
   "metadata": {
    "collapsed": false
   },
   "outputs": [
    {
     "data": {
      "image/png": "[encoded data removed]",
      "text/plain": [
       "<matplotlib.figure.Figure at 0x7f070a6a7bd0>"
      ]
     },
     "metadata": {},
     "output_type": "display_data"
    }
   ],
   "source": [
    "#Affichons ce graphe\n",
    "#un simple graph\n",
    "nx.draw(g)\n",
    "plt.savefig(\"graphe_apotres.png\") # save as png\n",
    "plt.show() # display"
   ]
  },
  {
   "cell_type": "markdown",
   "metadata": {},
   "source": [
    "    La position des sommets et des arêtes n'a pas d'importance d'un point de vue mathématiques. \n",
    "    Il s'agit d'une simple représentation graphique qui positionne les points de manière aléatoire.\n",
    "    Vous pouvez tester en relancant le bloc de code ci dessus: l'aspect du graphe peut changer.\n",
    "    \n",
    "    "
   ]
  },
  {
   "cell_type": "code",
   "execution_count": 7,
   "metadata": {
    "collapsed": false
   },
   "outputs": [
    {
     "data": {
      "image/png": "[encoded data removed]",
      "text/plain": [
       "<matplotlib.figure.Figure at 0x7f07066f68d0>"
      ]
     },
     "metadata": {},
     "output_type": "display_data"
    }
   ],
   "source": [
    "#Ajoutons un noeud\n",
    "g.add_node(\"pierre\", name=\"pierre\")\n",
    "#et ses relations\n",
    "g.add_edges_from([(\"pierre\", \"matthieu\"), (\"paul\", \"pierre\")])\n",
    "#On peut enlever des noeuds ou détruire des liens de la même ma,ière que lorsqu'on les ajoute\n",
    "#g.remove_node(\"jean\")\n",
    "#print(g.remove_nodes_from([])\n",
    "\n",
    "#si le positionnement est aléatoire en mathématique en python \n",
    "#il faut définir l'agencement du graphe\n",
    "#par défault networkx propose spring_layout\n",
    "# nous verrons par la suite les agencements (layout) proposés\n",
    "pos=nx.spring_layout(g)\n",
    "#ici nous ajoutons une couleur et un label aux noeuds\n",
    "\n",
    "nx.draw(g,pos, node_color=\"g\",with_labels=True)\n",
    "plt.savefig(\"graphe_example.png\")"
   ]
  },
  {
   "cell_type": "markdown",
   "metadata": {
    "collapsed": true
   },
   "source": [
    "### Matrices\n",
    "On peut rassembler les données du graphe dans un tableau, une **matrice**. \n",
    "\n",
    "De même qu'une matrice peut se représenter sous forme d'un graphe  que nous verrons plus loin\n",
    "\n",
    "Ici nous avons nommé les noeuds pour plus de clareté. \n",
    "\n",
    "Nous allons maintenant représenter ce graphe sous forme de tableau ou de matrice où\n",
    "* 1 représente la présence d'un lien entre deux noeuds \n",
    "* et 0 l'absence de lien entre les deux noeuds\n"
   ]
  },
  {
   "cell_type": "markdown",
   "metadata": {},
   "source": [
    "|         | Marc  \t| Pierre  \t|  Matthieu |  Luc \t|  Jean | Paul |\n",
    "|:-:\t  |--\t    |---\t    |---\t    |---\t|---\t|---   |\n",
    "|Marc     |   0     |   0  \t    |   0       |1      |1      |  0   |\n",
    "|Pierre   |   0\t    |   0 \t    |   1  \t    |   0\t|   0   |  1   |\n",
    "|Matthieu |   0\t    |   1\t    |   0\t    |   1\t|   1   |  1   |\n",
    "|Luc      |   1\t    |   0       |   1\t    |   0   |   0   |  0   |\n",
    "|Jean     |   1  \t|   0   \t|   1\t    |   0\t|   0\t|  0   |\n",
    "|Paul     |   0\t    |   1\t    |   1\t    |   0\t|   0\t|   0  |  "
   ]
  },
  {
   "cell_type": "markdown",
   "metadata": {},
   "source": [
    "Regardons maintenant comment produire ce même tableau en Python\n",
    "\n",
    "Nous avons en effet déjà dans notre graphe la liste des noeuds, et la liste des liens.\n",
    "Il suffit simplement de lister tous les couples de noeuds unique possible\n",
    "et de détecter les liens qui existent déjà. "
   ]
  },
  {
   "cell_type": "markdown",
   "metadata": {},
   "source": [
    "Le nombre de liens possibles entre les noeuds peut ici se calculer facilement, \n",
    "Il s'agit d'une opération d'algébre combinatoire \n",
    "\n",
    "qu'on appelle un [coefficient binominal](https://fr.wikipedia.org/wiki/Coefficient_binomial)\n",
    "\n",
    "Cela consiste à calculer dans une liste d'élement *k* le nombre de combinaison *n*.\n",
    "\n",
    "Soit en une barbare notation mathématique:\n",
    "calculer la factorielle de n sur la factorielle de n multipliée par la factorielle de n mois k\n",
    "\n"
   ]
  },
  {
   "cell_type": "code",
   "execution_count": 8,
   "metadata": {
    "collapsed": false
   },
   "outputs": [
    {
     "data": {
      "text/latex": [
       "\n",
       "$C_n^k = \\frac{!n}{ n!(n-k)!}$ "
      ],
      "text/plain": [
       "<IPython.core.display.Latex object>"
      ]
     },
     "metadata": {},
     "output_type": "display_data"
    }
   ],
   "source": [
    "%%latex\n",
    "\n",
    "$C_n^k = \\frac{!n}{ n!(n-k)!}$ "
   ]
  },
  {
   "cell_type": "markdown",
   "metadata": {},
   "source": [
    "* Pour les curieux voir l'[explication](https://fr.wikipedia.org/wiki/Coefficient_binomial#.C3.89tablissement_de_la_formule)\n",
    "\n",
    "Et en python, cela donne:"
   ]
  },
  {
   "cell_type": "code",
   "execution_count": 9,
   "metadata": {
    "collapsed": true
   },
   "outputs": [],
   "source": [
    "def combo_score(n,k):\n",
    "    from math import factorial as fact\n",
    "    #en combinatoire calculer le nombre de combinaison de 2 elements sur un ensemble de 482 elements\n",
    "    #https://fr.wikipedia.org/wiki/Combinaison_(math%C3%A9matiques)\n",
    "    #combin = lambda n,k: fact(n)//(fact(k)*fact(n-k))\n",
    "    return fact(n)/(fact(k)*fact(n-k))"
   ]
  },
  {
   "cell_type": "markdown",
   "metadata": {},
   "source": [
    "En python, les combinaisons sont générés grace à la fonction **combinations** disponible dans le module itertools\n",
    "\n",
    "Combinations produit un nombre ***n*** de combinaisons d'élement a partir d'une liste ***k***\n",
    "\n",
    "Par exemple: la combinaison de 2 elements pour la liste [\"A\", \"B\", \"C\"]\n",
    "nous donnera: [(\"A\",\"B\"), (\"B\",\"C\"), (\"A\", \"C\")]\n",
    "\n",
    "``` python\n",
    "    >>> from itertools import combinations\n",
    "    >>> n = 2\n",
    "    >>> k  = [\"A\", \"B\", \"C\"]\n",
    "    #il s'agit d'un itérateur \n",
    "    #donc pour afficher nous devons dérouler la liste\n",
    "    >>> print [n for n in combinations(n, k)]\n",
    "    >>> [(A,B), (B,C), (A, C)]\n",
    "```\n",
    "\n",
    "et non pas une  liste de combinaison possible avec permutations telle que:\n",
    "\n",
    "```[(A,B), (B,C), (C,A), (B,A), (C,B), (A,C)]```\n",
    "\n",
    "Nous avons besoin ici de la liste des couples uniques pour les 6 noeuds soit la combinatoire de 2 sur 6 elements\n",
    "    \n",
    "        cela consiste à lister les valeurs du tableau en prenant chaque entrée de ligne \n",
    "        en couplant avec chaque colonne"
   ]
  },
  {
   "cell_type": "code",
   "execution_count": 10,
   "metadata": {
    "collapsed": false
   },
   "outputs": [
    {
     "name": "stdout",
     "output_type": "stream",
     "text": [
      "15 liens possibles\n",
      "- marc & pierre\n",
      "- marc & matthieu\n",
      "- marc & luc\n",
      "- marc & jean\n",
      "- marc & paul\n",
      "- pierre & matthieu\n",
      "- pierre & luc\n",
      "- pierre & jean\n",
      "- pierre & paul\n",
      "- matthieu & luc\n",
      "- matthieu & jean\n",
      "- matthieu & paul\n",
      "- luc & jean\n",
      "- luc & paul\n",
      "- jean & paul\n"
     ]
    }
   ],
   "source": [
    "from itertools import combinations\n",
    "matrix = [n for n in combinations(g.nodes(),2)]\n",
    "\n",
    "print len(matrix), \"liens possibles\"\n",
    "for n in matrix:\n",
    "    print \"-\", n[0],\"&\",n[1]\n"
   ]
  },
  {
   "cell_type": "markdown",
   "metadata": {
    "collapsed": true
   },
   "source": [
    "Maintenant pour reproduire le tableau, nous allons \n",
    "    pour chaque couple de noeud (un lien possible)\n",
    "        verifier qu'il existe dans les liens (edges):\n",
    "            * s'il existe on lui ajoute 1\n",
    "            * sinon on ajoute 0\n",
    "Et produire ainsi une liste avec trois entrées: le noeudA, le noeudB, et la liaison"
   ]
  },
  {
   "cell_type": "code",
   "execution_count": 11,
   "metadata": {
    "collapsed": false
   },
   "outputs": [
    {
     "name": "stdout",
     "output_type": "stream",
     "text": [
      "[('marc', 'pierre', 0), ('marc', 'matthieu', 0), ('marc', 'luc', 1), ('marc', 'jean', 1), ('marc', 'paul', 0), ('pierre', 'matthieu', 1), ('pierre', 'luc', 0), ('pierre', 'jean', 0), ('pierre', 'paul', 1), ('matthieu', 'luc', 1), ('matthieu', 'jean', 1), ('matthieu', 'paul', 1), ('luc', 'jean', 0), ('luc', 'paul', 0), ('jean', 'paul', 0)]\n"
     ]
    }
   ],
   "source": [
    "matrix_0 = []\n",
    "for n in matrix:\n",
    "    if n in g.edges():\n",
    "        matrix_0.append(n + (1,))\n",
    "    else:\n",
    "        matrix_0.append(n + (0,))\n",
    "\n",
    "print matrix_0"
   ]
  },
  {
   "cell_type": "markdown",
   "metadata": {},
   "source": [
    "On reproduit le tableau par colonne de deux en affichant le tableau"
   ]
  },
  {
   "cell_type": "code",
   "execution_count": 12,
   "metadata": {
    "collapsed": false
   },
   "outputs": [
    {
     "name": "stdout",
     "output_type": "stream",
     "text": [
      "---------------------------------------\n",
      "Noeud\t|\tNoeud\t|\tRelié?\n",
      "---------------------------------------\n",
      "marc\t|\tpierre\t|\t0\n",
      "---------------------------------------\n",
      "marc\t|\tmatthieu\t|\t0\n",
      "---------------------------------------\n",
      "marc\t|\tluc\t|\t1\n",
      "---------------------------------------\n",
      "marc\t|\tjean\t|\t1\n",
      "---------------------------------------\n",
      "marc\t|\tpaul\t|\t0\n",
      "---------------------------------------\n",
      "pierre\t|\tmatthieu\t|\t1\n",
      "---------------------------------------\n",
      "pierre\t|\tluc\t|\t0\n",
      "---------------------------------------\n",
      "pierre\t|\tjean\t|\t0\n",
      "---------------------------------------\n",
      "pierre\t|\tpaul\t|\t1\n",
      "---------------------------------------\n",
      "matthieu\t|\tluc\t|\t1\n",
      "---------------------------------------\n",
      "matthieu\t|\tjean\t|\t1\n",
      "---------------------------------------\n",
      "matthieu\t|\tpaul\t|\t1\n",
      "---------------------------------------\n",
      "luc\t|\tjean\t|\t0\n",
      "---------------------------------------\n",
      "luc\t|\tpaul\t|\t0\n",
      "---------------------------------------\n",
      "jean\t|\tpaul\t|\t0\n"
     ]
    }
   ],
   "source": [
    "print \"---------------------------------------\"\n",
    "print \"\\t|\\t\".join([\"Noeud\", \"Noeud\", \"Relié?\"])\n",
    "\n",
    "for n in matrix_0:\n",
    "    print \"---------------------------------------\"\n",
    "    print \"\\t|\\t\".join([str(i) for i in n])\n",
    "    "
   ]
  },
  {
   "cell_type": "markdown",
   "metadata": {},
   "source": [
    "    ! Nous n'avons ici la même représentation de l'information. \n",
    "    Dans le premier tableau l'information est représentée \n",
    "    sous forme d'une matrice à 3 dimensions et 6x 6 entrées\n",
    "    La liaison entre marc et marc est représentée.\n",
    "    Tandis que dans le deuxième tableau nous représentons l'information\n",
    "    en examinant toutes les relations uniques\n",
    "    soit on enlève 6 couples 6 x 6 = 36 - 6 = 30 entrées soit 15 liens possibles\n",
    "    \n",
    "    \n",
    "|         | Marc  \t| Pierre  \t|  Matthieu |  Luc \t|  Jean | Paul |\n",
    "|:-:\t  |--\t    |---\t    |---\t    |---\t|---\t|---   |\n",
    "|Marc     |   **X**     |   0  \t    |   0       |1      |1      |  0   |\n",
    "|Pierre   |   0\t    |   **X** \t    |   1  \t    |   0\t|   0   |  1   |\n",
    "|Matthieu |   0\t    |   1\t    |   **X**\t    |   1\t|   1   |  1   |\n",
    "|Luc      |   1\t    |   0       |   1\t    |   **X**   |   0   |  0   |\n",
    "|Jean     |   1  \t|   0   \t|   1\t    |   0\t|   **X**\t|  0   |\n",
    "|Paul     |   0\t    |   1\t    |   1\t    |   0\t|   0\t|   **X**  |  \n",
    "    \n",
    "   Mais sur les représentations des matrices, nous verrons cela plus en détail prochainement "
   ]
  },
  {
   "cell_type": "markdown",
   "metadata": {
    "collapsed": true
   },
   "source": [
    "## Ordre, Degré, Voisinage"
   ]
  },
  {
   "cell_type": "markdown",
   "metadata": {},
   "source": [
    "\n",
    "* L’**ordre** d’un graphe est le nombre de sommets de ce graphe.\n",
    "* Dans un graphe, le [**degré**](https://fr.wikipedia.org/wiki/Degr%C3%A9_(th%C3%A9orie_des_graphes) de chaque sommet est le nombre de liens (arêtes) dont il est l’une des extrémités. \n",
    "    \n",
    "        Pour caractériser le graphe on évalue son degré maximal et son degré minimal\n",
    "        Lorsque le degré maximal et le degré minimal sont les mêmes on parle de graphe régulier\n",
    "* Quand deux noeuds sont reliés par un lien (une arête) on dit qu'ils sont **adjacents** (ou voisins)\n",
    "* La somme des degrés des sommets est égale au double du nombre de liens (arêtes).\n"
   ]
  },
  {
   "cell_type": "markdown",
   "metadata": {},
   "source": [
    "    => Quels sont les sommets du graphe?"
   ]
  },
  {
   "cell_type": "code",
   "execution_count": 13,
   "metadata": {
    "collapsed": false
   },
   "outputs": [
    {
     "name": "stdout",
     "output_type": "stream",
     "text": [
      "['marc', 'pierre', 'matthieu', 'luc', 'jean', 'paul']\n"
     ]
    }
   ],
   "source": [
    "sommets = g.nodes()\n",
    "\n",
    "print sommets"
   ]
  },
  {
   "cell_type": "markdown",
   "metadata": {},
   "source": [
    "    => Quel est l'ordre de ce grapĥe?"
   ]
  },
  {
   "cell_type": "code",
   "execution_count": 14,
   "metadata": {
    "collapsed": false
   },
   "outputs": [
    {
     "name": "stdout",
     "output_type": "stream",
     "text": [
      "6\n"
     ]
    }
   ],
   "source": [
    "print g.number_of_nodes()"
   ]
  },
  {
   "cell_type": "markdown",
   "metadata": {},
   "source": [
    "    => Pour chaque sommet: lister ses voisins et donner son degré"
   ]
  },
  {
   "cell_type": "code",
   "execution_count": 15,
   "metadata": {
    "collapsed": false
   },
   "outputs": [
    {
     "name": "stdout",
     "output_type": "stream",
     "text": [
      "---\n",
      "\t- marc a pour noeuds adjacents: ['jean', 'luc']\n",
      "\t- marc est un sommet de degré 2\n",
      "---\n",
      "\t- pierre a pour noeuds adjacents: ['paul', 'matthieu']\n",
      "\t- pierre est un sommet de degré 2\n",
      "---\n",
      "\t- matthieu a pour noeuds adjacents: ['paul', 'luc', 'jean', 'pierre']\n",
      "\t- matthieu est un sommet de degré 4\n",
      "---\n",
      "\t- luc a pour noeuds adjacents: ['matthieu', 'marc']\n",
      "\t- luc est un sommet de degré 2\n",
      "---\n",
      "\t- jean a pour noeuds adjacents: ['matthieu', 'marc']\n",
      "\t- jean est un sommet de degré 2\n",
      "---\n",
      "\t- paul a pour noeuds adjacents: ['matthieu', 'pierre']\n",
      "\t- paul est un sommet de degré 2\n"
     ]
    }
   ],
   "source": [
    "for n in g.nodes():\n",
    "    print \"---\"\n",
    "    print \"\\t-\", n, \"a pour noeuds adjacents:\",g.neighbors(n)\n",
    "    print \"\\t-\", n,\"est un sommet de degré\", len(g.neighbors(n))\n",
    "    \n"
   ]
  },
  {
   "cell_type": "markdown",
   "metadata": {},
   "source": [
    "    ==> Quel sont le degré maximal et minimal de ce graphe?"
   ]
  },
  {
   "cell_type": "code",
   "execution_count": 16,
   "metadata": {
    "collapsed": false
   },
   "outputs": [
    {
     "ename": "SyntaxError",
     "evalue": "invalid syntax (<ipython-input-16-300b50d1da97>, line 4)",
     "output_type": "error",
     "traceback": [
      "\u001b[1;36m  File \u001b[1;32m\"<ipython-input-16-300b50d1da97>\"\u001b[1;36m, line \u001b[1;32m4\u001b[0m\n\u001b[1;33m    degrees = [len(g.neighbors(n)) for n in g.nodes())]\u001b[0m\n\u001b[1;37m                                                     ^\u001b[0m\n\u001b[1;31mSyntaxError\u001b[0m\u001b[1;31m:\u001b[0m invalid syntax\n"
     ]
    }
   ],
   "source": [
    "nb_sommets = g.number_of_nodes()\n",
    "print \"Ce graphe est d'ordre\", nb_sommets\n",
    "#calculer le nombre de liens pour chaque noeud\n",
    "degrees = [len(g.neighbors(n)) for n in g.nodes())]\n",
    "max_degree = max(degrees)\n",
    "min_degree = min(degrees)\n",
    "print \"- son degré maximal est de :\", max_degree\n",
    "print \"- son degré minimal est de :\", min_degree"
   ]
  },
  {
   "cell_type": "markdown",
   "metadata": {},
   "source": [
    "    => Créer une fonction qui définit s'il s'agit d'un graphe régulier:"
   ]
  },
  {
   "cell_type": "code",
   "execution_count": null,
   "metadata": {
    "collapsed": false
   },
   "outputs": [],
   "source": [
    "def is_regular_graph(g):\n",
    "    degrees = [len(g.neighbors(n)) for n in g.nodes()]\n",
    "    return bool(max(degrees) ==min(degrees))\n",
    "\n",
    "print \"Ce graph est il regulier?\", is_regular_graph(g)"
   ]
  },
  {
   "cell_type": "markdown",
   "metadata": {},
   "source": [
    "    => Quelle est la somme des degrés de ce graphe?"
   ]
  },
  {
   "cell_type": "code",
   "execution_count": null,
   "metadata": {
    "collapsed": false
   },
   "outputs": [],
   "source": [
    "sum_degree = len(g.edges()) *2\n",
    "print \"Ce graphe a donc %i arêtes\" %sum_degree"
   ]
  },
  {
   "cell_type": "markdown",
   "metadata": {},
   "source": [
    "### Chaîne, cycle et parcours de graphe\n",
    "\n",
    "* Un **chaine** est une suite quelconque d'arêtes et donc de sommets adjacents. \n",
    "        \n",
    "           Une chaîne reproduit le parcours du graphe en partant d'un noeud sous forme de pas ou de parcours\n",
    "           Un parcours de graphe est alors l'algorithme consistant à explorer les sommets d'un graphe de proche\n",
    "           en proche à partir d'un sommet initial et de définir une chaîne.\n",
    "\n",
    "* Un **cycle** est une chaine dont l'origine et l'extrémité sont confondues, à condition que toutes les arêtes soient différentes, il peut contenir parfois le même sommet.\n",
    "      \n",
    "          Un cycle est un parcours entre un point A et un point B et qui emprunte un chemin unique: \n",
    "          il passe toujours par un lien (une arête) différent.\n",
    "* On parle de **chaine fermée** quand les arêtes ne sont  pas toujours distinctes\n",
    "        \n",
    "        Une chaine fermée est donc une chaine  qui repasse par des liens déjà emprunté.\n",
    "\n"
   ]
  },
  {
   "cell_type": "markdown",
   "metadata": {},
   "source": [
    "Reprenons notre graphe \n",
    "![graphe d'example](./graphe_example.png)"
   ]
  },
  {
   "cell_type": "markdown",
   "metadata": {},
   "source": [
    "=> Quel est le cycle le plus long de ce graphe?\n",
    "=> Combien y a t-il de cycles fermés?"
   ]
  },
  {
   "cell_type": "markdown",
   "metadata": {
    "collapsed": false
   },
   "source": [
    "#### Parcours de graphe\n",
    "Pour lister tous les parcours possibles de ce graphe il fait prendre en compte que\n",
    "    - il y a autant de chaines que de liens (arêtes ou edges) d'un noeud à l'autre\n",
    "    - on ne doit pas repasser par un meme noeud, ni retourner sur nos pas et s'arreter à un moment précis\n",
    "    pour cela il convient de définir:\n",
    "        * la **source** ou point de départ\n",
    "        * la **cible** ou point d'arrivée\n",
    "        * Le nombre maximal de **pas**\n",
    "Dans le cas d'un cycle donc la source et la cible sont les mêmes\n",
    "\n",
    "Une implémentation naïve consisterait à lister tous les noeuds:\n",
    "puis à lister les voisins et lister ensuite les voisins des voisins et ainsi de suite \n",
    "jusqu'à la distance maximale\n",
    "soit n => n1 => n2 => n3 => n4 => n5 => n...\n",
    "mais il faut prendre garde à chaque étape que chaque noeud est bien unique\n",
    "et si le noeud est egal à l'un des noeuds de la liste arreter le parcours\n",
    "et ce n'est pas si simple... Je vous propose d'essayer de l'implémenter\n",
    "\n",
    "Sinon networkx nous propose plusieurs algorithmes de parcours de graphe\n",
    "Nous verrons dans le détail les parcours de graphes un peu plus loin\n"
   ]
  },
  {
   "cell_type": "code",
   "execution_count": null,
   "metadata": {
    "collapsed": false
   },
   "outputs": [],
   "source": [
    "#Les parcours possibles sans repasser par le même noeud depuis \"paul\" jusqu'à \"luc\"\n",
    "print \"parcours de Paul à Luc:\"\n",
    "for path in nx.all_simple_paths(g, \"paul\", \"luc\"):\n",
    "    print \"==>\".join(path)\n",
    "#Tous les cycles possibles sans repasser par le même noeud depuis \"paul\" jusqu'à \"paul\"\n",
    "#la limite de recherche correspond au degré maximal du graph\n",
    "print \"\\nparcours de Paul à Paul:\"\n",
    "for path in nx.all_simple_paths(g, \"paul\", \"paul\", 6):\n",
    "    print \"==>\".join(path)"
   ]
  },
  {
   "cell_type": "code",
   "execution_count": null,
   "metadata": {
    "collapsed": true
   },
   "outputs": [],
   "source": [
    "### Les types de graphes\n",
    "\n",
    "* Un graphe est **complet** lorsque deux sommets différents quelconques sont toujours adjacents\n",
    "    Un graphe complet est donc un graphe dont tous les sommets sont reliés entre eux au niveau 1\n",
    "    Autrement dit tous les liens entre les noeuds existent\n",
    "On peut le créer programmatiquement avec ce qu'on a déjà vu"
   ]
  },
  {
   "cell_type": "code",
   "execution_count": null,
   "metadata": {
    "collapsed": false
   },
   "outputs": [],
   "source": [
    "graphe_complet = nx.Graph()\n",
    "\n",
    "graphe_complet.add_nodes_from([1, 2, 3, 4])\n",
    "edges = combinations(graphe_complet.nodes(), 2)\n",
    "#et ses relations\n",
    "graphe_complet.add_edges_from(edges)\n",
    "nx.draw(graphe_complet, with_labels = True)\n",
    "plt.savefig(\"graphe_complet1.png\") # save as png\n",
    "plt.show() # display"
   ]
  },
  {
   "cell_type": "code",
   "execution_count": null,
   "metadata": {
    "collapsed": true
   },
   "outputs": [],
   "source": [
    " * Un graphe est **connexe** lorsque quels que soient les sommets *i* et *j* considérés, il existe \n",
    "toujours une chaine reliant *i* et *j*\n",
    "    Lorsque qu'on examine deux sommets d'un graphe le graphe est connexe n'importe lequel des sommets est relié \n",
    "    par une chaine: il n'y a pas de noeud isolé"
   ]
  },
  {
   "cell_type": "code",
   "execution_count": null,
   "metadata": {
    "collapsed": false
   },
   "outputs": [],
   "source": [
    "graphe_connexe = nx.Graph()\n",
    "#on ajoute ses noeuds\n",
    "graphe_connexe.add_nodes_from([1, 2, 3, 4, 5])\n",
    "#et ses liens\n",
    "edges = [(1,2), (1,3), (1,4), (1,5), (2,3), (3,5), (3,4), (4,5)]\n",
    "graphe_connexe.add_edges_from(edges)\n",
    "nx.draw(graphe_connexe, with_labels = True)\n",
    "plt.savefig(\"graphe_connexe1.png\") # save as png\n",
    "plt.show() # display"
   ]
  },
  {
   "cell_type": "markdown",
   "metadata": {
    "collapsed": true
   },
   "source": [
    "* Un **sous-graphe** est une partie d'un graphe composé de quelques uns de ses sommets \n",
    "et de toutes les arêtes qui les relients. Un sous graphe peut être complet ou connexe lui aussi\n",
    "    Le graphe ci-dessus est composé de 2 sous-graphes, tous les deux complets\n",
    "* Un graphe ou un sous graphe est stable quand aucune arête ne relie le sommet"
   ]
  },
  {
   "cell_type": "code",
   "execution_count": null,
   "metadata": {
    "collapsed": true
   },
   "outputs": [],
   "source": [
    "g3 = nx.Graph()\n",
    "graphe_connexe.add_nodes_from([1, 2, 3, 4, 5])\n"
   ]
  },
  {
   "cell_type": "code",
   "execution_count": null,
   "metadata": {
    "collapsed": true
   },
   "outputs": [],
   "source": [
    "* Un graphe ou un sous-graphe est stable quand aucune arête ne relie les sommets"
   ]
  },
  {
   "cell_type": "code",
   "execution_count": null,
   "metadata": {
    "collapsed": false
   },
   "outputs": [],
   "source": [
    "import networkx as nx\n",
    "\n",
    "G=nx.cubical_graph()\n",
    "pos=nx.spring_layout(G) # positions for all nodes\n",
    "\n",
    "# nodes\n",
    "nx.draw_networkx_nodes(G,pos,\n",
    "                       nodelist=[0,1,2,3],\n",
    "                       node_color='r',\n",
    "                       node_size=500,\n",
    "                   alpha=0.8)\n",
    "nx.draw_networkx_nodes(G,pos,\n",
    "                       nodelist=[4,5,6,7],\n",
    "                       node_color='b',\n",
    "                       node_size=500,\n",
    "                   alpha=0.8)\n",
    "\n",
    "# edges\n",
    "nx.draw_networkx_edges(G,pos,width=1.0,alpha=0.5)\n",
    "nx.draw_networkx_edges(G,pos,\n",
    "                       edgelist=[(0,1),(1,2),(2,3),(3,0)],\n",
    "                       width=8,alpha=0.5,edge_color='r')\n",
    "nx.draw_networkx_edges(G,pos,\n",
    "                       edgelist=[(4,5),(5,6),(6,7),(7,4)],\n",
    "                       width=8,alpha=0.5,edge_color='b')\n",
    "\n",
    "\n",
    "# some math labels\n",
    "labels={}\n",
    "labels[0]=r'$a$'\n",
    "labels[1]=r'$b$'\n",
    "labels[2]=r'$c$'\n",
    "labels[3]=r'$d$'\n",
    "labels[4]=r'$\\alpha$'\n",
    "labels[5]=r'$\\beta$'\n",
    "labels[6]=r'$\\gamma$'\n",
    "labels[7]=r'$\\delta$'\n",
    "nx.draw_networkx_labels(G,pos,labels,font_size=16)\n",
    "\n",
    "plt.axis('off')\n",
    "plt.savefig(\"labels_and_colors.png\") # save as png\n",
    "plt.show() # display"
   ]
  },
  {
   "cell_type": "code",
   "execution_count": null,
   "metadata": {
    "collapsed": true
   },
   "outputs": [],
   "source": [
    "## Du graphe à la matrice\n"
   ]
  },
  {
   "cell_type": "code",
   "execution_count": null,
   "metadata": {
    "collapsed": true
   },
   "outputs": [],
   "source": []
  }
 ],
 "metadata": {
  "kernelspec": {
   "display_name": "Python 2",
   "language": "python",
   "name": "python2"
  },
  "language_info": {
   "codemirror_mode": {
    "name": "ipython",
    "version": 2
   },
   "file_extension": ".py",
   "mimetype": "text/x-python",
   "name": "python",
   "nbconvert_exporter": "python",
   "pygments_lexer": "ipython2",
   "version": "2.7.6"
  }
 },
 "nbformat": 4,
 "nbformat_minor": 0
}
