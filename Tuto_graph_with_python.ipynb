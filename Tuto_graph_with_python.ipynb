{
 "cells": [
  {
   "cell_type": "markdown",
   "metadata": {},
   "source": [
    "# Graph Tutoriel\n",
    "\n",
    "Ceci est un tutoriel inspiré de l'[\"Initiation à la théorie des graphes\" de Christian Roux, coll.Ellipses, 2009](http://www.sudoc.abes.fr/DB=2.1/SRCH?IKT=12&TRM=131948466)\n",
    "qui présente les principaux points mathématique de la théorie des graphes et son utilisation en Python\n",
    "à travers la librairie [Networkx](https://networkx.github.io/documentation/latest/reference/citing.html).\n"
   ]
  },
  {
   "cell_type": "markdown",
   "metadata": {
    "collapsed": true
   },
   "source": [
    "## Introduction \n",
    "mixte à la théorie des graphes et à la construction de grapĥ en python"
   ]
  },
  {
   "cell_type": "markdown",
   "metadata": {},
   "source": [
    "Theorie\n",
    "\n",
    "## Quelques définitions \n",
    "Un **graphe** est un ensemble de points reliés par des segments.\n",
    "\n",
    "Les points sont appelés **sommets** ou **noeuds** du graphe. Nous les appelerons ici et tout au long de ce tutoriel les **noeuds** (nodes). \n",
    "\n",
    "Les segments sont les **arêtes** ou les liens du graphe (edge). Nous les appelerons liens tout au long du tutoriel bien que ce ne soit pas la dénomination mathématiques\n",
    "\n",
    "Les somments situés à chaque bout sont les **extrémités** de l'arête.\n",
    "\n",
    "    "
   ]
  },
  {
   "cell_type": "markdown",
   "metadata": {},
   "source": [
    "![Graph simple](./simple_graph.png)"
   ]
  },
  {
   "cell_type": "markdown",
   "metadata": {},
   "source": [
    "## Creation d'un graphe en python"
   ]
  },
  {
   "cell_type": "code",
   "execution_count": 7,
   "metadata": {
    "collapsed": true
   },
   "outputs": [],
   "source": [
    "#importer les libraires\n",
    "#pour afficher\n",
    "import matplotlib.pyplot as plt\n",
    "#pour le calcul\n",
    "import numpy as np\n",
    "#pour le réseau\n",
    "import networkx as nx\n",
    "%matplotlib inline\n"
   ]
  },
  {
   "cell_type": "code",
   "execution_count": 8,
   "metadata": {
    "collapsed": false
   },
   "outputs": [],
   "source": [
    "#instancier le graph\n",
    "g = nx.Graph()\n",
    "#ajouter un noeud\n",
    "#g.add_node(\"paul\")\n",
    "#ajouter une liste de noeud\n",
    "g.add_nodes_from([\"paul\", \"matthieu\", \"jean\", \"luc\", \"marc\"])"
   ]
  },
  {
   "cell_type": "code",
   "execution_count": 9,
   "metadata": {
    "collapsed": false
   },
   "outputs": [],
   "source": [
    "#ajouter un lien (edge)\n",
    "#g.add_edge(\"paul\",\"matthieu\")\n",
    "#ajouter une liste de liens (edges)\n",
    "g.add_edges_from([(\"paul\", \"matthieu\"), (\"matthieu\", \"jean\"),(\"jean\", \"marc\"), (\"marc\", \"luc\"), (\"luc\", \"matthieu\")])"
   ]
  },
  {
   "cell_type": "code",
   "execution_count": 10,
   "metadata": {
    "collapsed": false
   },
   "outputs": [
    {
     "name": "stdout",
     "output_type": "stream",
     "text": [
      "Ce graphe compte 5 noeuds:\n",
      "['jean', 'paul', 'luc', 'matthieu', 'marc']\n",
      "Ce graphe compte 5 liens\n",
      "[('jean', 'matthieu'), ('jean', 'marc'), ('paul', 'matthieu'), ('luc', 'matthieu'), ('luc', 'marc')]\n"
     ]
    }
   ],
   "source": [
    "#Combien de noeuds?\n",
    "print \"Ce graphe compte\", g.number_of_nodes(), \"noeuds:\"\n",
    "print(g.nodes())\n",
    "#Combiens de liens?\n",
    "print \"Ce graphe compte\", g.number_of_edges(), \"liens\"\n",
    "print(g.edges())"
   ]
  },
  {
   "cell_type": "code",
   "execution_count": 11,
   "metadata": {
    "collapsed": false
   },
   "outputs": [
    {
     "data": {
      "image/png": "[encoded data removed]",
      "text/plain": [
       "<matplotlib.figure.Figure at 0x7f806f550450>"
      ]
     },
     "metadata": {},
     "output_type": "display_data"
    }
   ],
   "source": [
    "#Affichons ce graphe\n",
    "#un simple graph\n",
    "nx.draw(g)\n",
    "plt.savefig(\"graphe_apotres.png\") # save as png\n",
    "plt.show() # display"
   ]
  },
  {
   "cell_type": "markdown",
   "metadata": {},
   "source": [
    "    La position des sommets et des arêtes n'a pas d'importance d'un point de vue mathématiques. \n",
    "    Il s'agit d'une simple représentation graphique qui positionne les points de manière aléatoire.\n",
    "    \n",
    "    "
   ]
  },
  {
   "cell_type": "code",
   "execution_count": 12,
   "metadata": {
    "collapsed": false
   },
   "outputs": [
    {
     "data": {
      "image/png": "[encoded data removed]",
      "text/plain": [
       "<matplotlib.figure.Figure at 0x7f806b68e810>"
      ]
     },
     "metadata": {},
     "output_type": "display_data"
    }
   ],
   "source": [
    "#Ajoutons un noeud\n",
    "g.add_node(\"pierre\", name=\"pierre\")\n",
    "#et ses relations\n",
    "g.add_edges_from([(\"pierre\", \"matthieu\"), (\"paul\", \"pierre\")])\n",
    "#si le positionnement est aléatoire en mathématique en python \n",
    "#il faut définir l'agencement du graphe\n",
    "#par défault networkx propose spring_layout\n",
    "pos=nx.spring_layout(g)\n",
    "nx.draw(g,pos, node_color=\"g\",with_labels=True)\n"
   ]
  },
  {
   "cell_type": "markdown",
   "metadata": {
    "collapsed": true
   },
   "source": [
    "On peut rassembler les données du graphe dans un tableau, une **matrice**. \n",
    "\n",
    "De même qu'une matrice peut se représenter sous forme d'un graphe  que nous verrons plus loin\n",
    "\n",
    "Ici nous avons nommé les noeuds pour plus de clareté. \n",
    "\n",
    "Nous allons maintenant représenter ce graphe sous forme de tableau ou de matrice où\n",
    "* 1 représente la présence d'un lien entre deux noeuds \n",
    "* et 0 l'absence de lien entre les deux noeuds\n"
   ]
  },
  {
   "cell_type": "markdown",
   "metadata": {},
   "source": [
    "|         | Marc  \t| Pierre  \t|  Matthieu |  Luc \t|  Jean | Paul |\n",
    "|:-:\t  |--\t    |---\t    |---\t    |---\t|---\t|---   |\n",
    "|Marc     |   0     |   0  \t    |   0       |1      |1      |  0   |\n",
    "|Pierre   |   0\t    |   0 \t    |   1  \t    |   0\t|   0   |  1   |\n",
    "|Matthieu |   0\t    |   1\t    |   0\t    |   1\t|   1   |  1   |\n",
    "|Luc      |   1\t    |   0       |   0\t    |   1   |   0   |  0   |\n",
    "|Jean     |   1  \t|   0   \t|   0\t    |   1\t|   0\t|  0   |\n",
    "|Paul     |   0\t    |   1\t    |   1\t    |   0\t|   0\t|   0  |  "
   ]
  },
  {
   "cell_type": "markdown",
   "metadata": {},
   "source": [
    "Regardons maintenant comment produire ce même tableau en Python\n",
    "\n",
    "Nous avons en effet déjà dans notre graphe la liste des noeuds, et la liste des liens.\n",
    "Il suffit simplement de lister tous les couples de noeuds unique possible\n",
    "et de détecter les liens qui existent déjà. \n",
    "Le nombre de liens possibles entre les noeuds peut ici se calculer facilement, \n",
    "il s'agit d'une simple opération d'algébre combinatoire qu'on appelle un [coefficient binominal](https://fr.wikipedia.org/wiki/Coefficient_binomial#.C3.89tablissement_de_la_formule)\n",
    "qui consiste à calculer dans une liste d'élement k le nombre de combinaison n.\n",
    "Soit en une barbare notation mathématique:\n"
   ]
  },
  {
   "cell_type": "code",
   "execution_count": 13,
   "metadata": {
    "collapsed": false
   },
   "outputs": [
    {
     "data": {
      "text/latex": [
       "\n",
       "$C_n^k = \\frac{!n}{ n!(n-k)!}$ "
      ],
      "text/plain": [
       "<IPython.core.display.Latex object>"
      ]
     },
     "metadata": {},
     "output_type": "display_data"
    }
   ],
   "source": [
    "%%latex\n",
    "\n",
    "$C_n^k = \\frac{!n}{ n!(n-k)!}$ "
   ]
  },
  {
   "cell_type": "markdown",
   "metadata": {},
   "source": [
    "En python, les combinaisons sont générés grace à la fonction combinations qui produit a partir d'une liste k\n",
    "et d'un nombre n de combinaisons la liste complète des élements combinés (et non permutés). Nous avons besoins de la liste."
   ]
  },
  {
   "cell_type": "code",
   "execution_count": 14,
   "metadata": {
    "collapsed": false
   },
   "outputs": [
    {
     "name": "stdout",
     "output_type": "stream",
     "text": [
      "15 liens possibles:\n",
      "- jean & paul\n",
      "- luc & jean\n",
      "- luc & paul\n",
      "- marc & jean\n",
      "- marc & luc\n",
      "- marc & matthieu\n",
      "- marc & paul\n",
      "- marc & pierre\n",
      "- matthieu & jean\n",
      "- matthieu & luc\n",
      "- matthieu & paul\n",
      "- pierre & jean\n",
      "- pierre & luc\n",
      "- pierre & matthieu\n",
      "- pierre & paul\n"
     ]
    }
   ],
   "source": [
    "from itertools import combinations\n",
    "matrix = sorted([n for n in combinations(g.nodes(),2)])\n",
    "\n",
    "print len(matrix), \"liens possibles:\"\n",
    "for n in matrix:\n",
    "    print \"-\", n[0],\"&\",n[1]\n"
   ]
  },
  {
   "cell_type": "markdown",
   "metadata": {
    "collapsed": true
   },
   "source": [
    "Maintenant pour reproduire le tableau, nous allons pour chaque possibilite de lien vérifier que celui-ci existe:\n",
    "    * s'il existe on lui ajoute 1\n",
    "    * sinon on ajoute 0\n",
    "Plutot simple"
   ]
  },
  {
   "cell_type": "code",
   "execution_count": 15,
   "metadata": {
    "collapsed": false
   },
   "outputs": [
    {
     "name": "stdout",
     "output_type": "stream",
     "text": [
      "[('jean', 'paul', 0), ('luc', 'jean', 0), ('luc', 'paul', 0), ('marc', 'jean', 1), ('marc', 'luc', 1), ('marc', 'matthieu', 0), ('marc', 'paul', 0), ('marc', 'pierre', 0), ('matthieu', 'jean', 1), ('matthieu', 'luc', 1), ('matthieu', 'paul', 1), ('pierre', 'jean', 0), ('pierre', 'luc', 0), ('pierre', 'matthieu', 1), ('pierre', 'paul', 1)]\n"
     ]
    }
   ],
   "source": [
    "matrix_0 = []\n",
    "for n in matrix:\n",
    "    if n in g.edges():\n",
    "        matrix_0.append(n + (1,))\n",
    "    else:\n",
    "        matrix_0.append(n + (0,))\n",
    "\n",
    "print matrix_0"
   ]
  },
  {
   "cell_type": "code",
   "execution_count": 16,
   "metadata": {
    "collapsed": false
   },
   "outputs": [
    {
     "name": "stdout",
     "output_type": "stream",
     "text": [
      "('jean', 'paul', 0)\n",
      "('luc', 'jean', 0)\n",
      "('luc', 'paul', 0)\n",
      "('marc', 'jean', 1)\n",
      "('marc', 'luc', 1)\n",
      "('marc', 'matthieu', 0)\n",
      "('marc', 'paul', 0)\n",
      "('marc', 'pierre', 0)\n",
      "('matthieu', 'jean', 1)\n",
      "('matthieu', 'luc', 1)\n",
      "('matthieu', 'paul', 1)\n",
      "('pierre', 'jean', 0)\n",
      "('pierre', 'luc', 0)\n",
      "('pierre', 'matthieu', 1)\n",
      "('pierre', 'paul', 1)\n"
     ]
    }
   ],
   "source": [
    "for n in matrix_0:\n",
    "    print n"
   ]
  },
  {
   "cell_type": "code",
   "execution_count": null,
   "metadata": {
    "collapsed": true
   },
   "outputs": [],
   "source": []
  },
  {
   "cell_type": "code",
   "execution_count": null,
   "metadata": {
    "collapsed": true
   },
   "outputs": [],
   "source": []
  },
  {
   "cell_type": "code",
   "execution_count": 48,
   "metadata": {
    "collapsed": false
   },
   "outputs": [
    {
     "name": "stdout",
     "output_type": "stream",
     "text": [
      "['matthieu']\n",
      "['paul', 'luc', 'jean']\n"
     ]
    }
   ],
   "source": [
    "#et les voisins soit les noeuds proches du noued selectionné\n",
    "print(g.neighbors(\"paul\"))\n",
    "print(g.neighbors(\"matthieu\"))"
   ]
  },
  {
   "cell_type": "code",
   "execution_count": 17,
   "metadata": {
    "collapsed": false
   },
   "outputs": [
    {
     "name": "stdout",
     "output_type": "stream",
     "text": [
      "['paul', 'luc', 'matthieu', 'marc']\n"
     ]
    }
   ],
   "source": [
    "#On peut enlever des noeuds ou détruire des liens de la même ma,ière que lorsqu'on les ajoute\n",
    "\n",
    "#g.remove_node(\"jean\")\n",
    "print(g.add_nodes_from(\"\""
   ]
  },
  {
   "cell_type": "code",
   "execution_count": 19,
   "metadata": {
    "collapsed": false
   },
   "outputs": [
    {
     "data": {
      "image/png": "[encoded data removed]",
      "text/plain": [
       "<matplotlib.figure.Figure at 0x7f80ed8b4a10>"
      ]
     },
     "metadata": {},
     "output_type": "display_data"
    }
   ],
   "source": []
  },
  {
   "cell_type": "code",
   "execution_count": 50,
   "metadata": {
    "collapsed": false
   },
   "outputs": [
    {
     "data": {
      "image/png": "[encoded data removed]",
      "text/plain": [
       "<matplotlib.figure.Figure at 0x7f80ed855d50>"
      ]
     },
     "metadata": {},
     "output_type": "display_data"
    }
   ],
   "source": [
    "import networkx as nx\n",
    "\n",
    "G=nx.cubical_graph()\n",
    "pos=nx.spring_layout(G) # positions for all nodes\n",
    "\n",
    "# nodes\n",
    "nx.draw_networkx_nodes(G,pos,\n",
    "                       nodelist=[0,1,2,3],\n",
    "                       node_color='r',\n",
    "                       node_size=500,\n",
    "                   alpha=0.8)\n",
    "nx.draw_networkx_nodes(G,pos,\n",
    "                       nodelist=[4,5,6,7],\n",
    "                       node_color='b',\n",
    "                       node_size=500,\n",
    "                   alpha=0.8)\n",
    "\n",
    "# edges\n",
    "nx.draw_networkx_edges(G,pos,width=1.0,alpha=0.5)\n",
    "nx.draw_networkx_edges(G,pos,\n",
    "                       edgelist=[(0,1),(1,2),(2,3),(3,0)],\n",
    "                       width=8,alpha=0.5,edge_color='r')\n",
    "nx.draw_networkx_edges(G,pos,\n",
    "                       edgelist=[(4,5),(5,6),(6,7),(7,4)],\n",
    "                       width=8,alpha=0.5,edge_color='b')\n",
    "\n",
    "\n",
    "# some math labels\n",
    "labels={}\n",
    "labels[0]=r'$a$'\n",
    "labels[1]=r'$b$'\n",
    "labels[2]=r'$c$'\n",
    "labels[3]=r'$d$'\n",
    "labels[4]=r'$\\alpha$'\n",
    "labels[5]=r'$\\beta$'\n",
    "labels[6]=r'$\\gamma$'\n",
    "labels[7]=r'$\\delta$'\n",
    "nx.draw_networkx_labels(G,pos,labels,font_size=16)\n",
    "\n",
    "plt.axis('off')\n",
    "plt.savefig(\"labels_and_colors.png\") # save as png\n",
    "plt.show() # display"
   ]
  },
  {
   "cell_type": "code",
   "execution_count": null,
   "metadata": {
    "collapsed": true
   },
   "outputs": [],
   "source": [
    "## Du graphe à la matrice\n"
   ]
  },
  {
   "cell_type": "code",
   "execution_count": null,
   "metadata": {
    "collapsed": true
   },
   "outputs": [],
   "source": []
  }
 ],
 "metadata": {
  "kernelspec": {
   "display_name": "Python 2",
   "language": "python",
   "name": "python2"
  },
  "language_info": {
   "codemirror_mode": {
    "name": "ipython",
    "version": 2
   },
   "file_extension": ".py",
   "mimetype": "text/x-python",
   "name": "python",
   "nbconvert_exporter": "python",
   "pygments_lexer": "ipython2",
   "version": "2.7.6"
  }
 },
 "nbformat": 4,
 "nbformat_minor": 0
}
